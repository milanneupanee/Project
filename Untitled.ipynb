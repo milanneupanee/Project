{
 "cells": [
  {
   "cell_type": "code",
   "execution_count": 3,
   "id": "6152c519-8111-4ce2-8136-6b2eb217bb79",
   "metadata": {},
   "outputs": [
    {
     "name": "stdout",
     "output_type": "stream",
     "text": [
      "Requirement already satisfied: paddlepaddle in c:\\users\\milan\\documents\\project\\myvenv\\lib\\site-packages (2.6.1)\n",
      "Requirement already satisfied: httpx in c:\\users\\milan\\documents\\project\\myvenv\\lib\\site-packages (from paddlepaddle) (0.27.2)\n",
      "Requirement already satisfied: numpy>=1.13 in c:\\users\\milan\\documents\\project\\myvenv\\lib\\site-packages (from paddlepaddle) (2.1.0)\n",
      "Requirement already satisfied: Pillow in c:\\users\\milan\\documents\\project\\myvenv\\lib\\site-packages (from paddlepaddle) (10.4.0)\n",
      "Requirement already satisfied: decorator in c:\\users\\milan\\documents\\project\\myvenv\\lib\\site-packages (from paddlepaddle) (5.1.1)\n",
      "Requirement already satisfied: astor in c:\\users\\milan\\documents\\project\\myvenv\\lib\\site-packages (from paddlepaddle) (0.8.1)\n",
      "Requirement already satisfied: opt-einsum==3.3.0 in c:\\users\\milan\\documents\\project\\myvenv\\lib\\site-packages (from paddlepaddle) (3.3.0)\n",
      "Requirement already satisfied: protobuf<=3.20.2,>=3.1.0 in c:\\users\\milan\\documents\\project\\myvenv\\lib\\site-packages (from paddlepaddle) (3.20.2)\n",
      "Requirement already satisfied: anyio in c:\\users\\milan\\documents\\project\\myvenv\\lib\\site-packages (from httpx->paddlepaddle) (4.4.0)\n",
      "Requirement already satisfied: certifi in c:\\users\\milan\\documents\\project\\myvenv\\lib\\site-packages (from httpx->paddlepaddle) (2024.8.30)\n",
      "Requirement already satisfied: httpcore==1.* in c:\\users\\milan\\documents\\project\\myvenv\\lib\\site-packages (from httpx->paddlepaddle) (1.0.5)\n",
      "Requirement already satisfied: idna in c:\\users\\milan\\documents\\project\\myvenv\\lib\\site-packages (from httpx->paddlepaddle) (3.8)\n",
      "Requirement already satisfied: sniffio in c:\\users\\milan\\documents\\project\\myvenv\\lib\\site-packages (from httpx->paddlepaddle) (1.3.1)\n",
      "Requirement already satisfied: h11<0.15,>=0.13 in c:\\users\\milan\\documents\\project\\myvenv\\lib\\site-packages (from httpcore==1.*->httpx->paddlepaddle) (0.14.0)\n"
     ]
    }
   ],
   "source": [
    "!python -m pip install paddlepaddle"
   ]
  },
  {
   "cell_type": "code",
   "execution_count": 6,
   "id": "9d390aa3-ca9d-4e71-a013-a8ad96cbe788",
   "metadata": {},
   "outputs": [
    {
     "name": "stdout",
     "output_type": "stream",
     "text": [
      "Requirement already satisfied: paddleocr>=2.0.1 in c:\\users\\milan\\documents\\project\\myvenv\\lib\\site-packages (2.8.1)\n",
      "Requirement already satisfied: shapely in c:\\users\\milan\\documents\\project\\myvenv\\lib\\site-packages (from paddleocr>=2.0.1) (2.0.6)\n",
      "Requirement already satisfied: scikit-image in c:\\users\\milan\\documents\\project\\myvenv\\lib\\site-packages (from paddleocr>=2.0.1) (0.24.0)\n",
      "Requirement already satisfied: imgaug in c:\\users\\milan\\documents\\project\\myvenv\\lib\\site-packages (from paddleocr>=2.0.1) (0.4.0)\n",
      "Requirement already satisfied: pyclipper in c:\\users\\milan\\documents\\project\\myvenv\\lib\\site-packages (from paddleocr>=2.0.1) (1.3.0.post5)\n",
      "Requirement already satisfied: lmdb in c:\\users\\milan\\documents\\project\\myvenv\\lib\\site-packages (from paddleocr>=2.0.1) (1.5.1)\n",
      "Requirement already satisfied: tqdm in c:\\users\\milan\\documents\\project\\myvenv\\lib\\site-packages (from paddleocr>=2.0.1) (4.66.5)\n",
      "Requirement already satisfied: numpy<2.0 in c:\\users\\milan\\documents\\project\\myvenv\\lib\\site-packages (from paddleocr>=2.0.1) (1.26.4)\n",
      "Requirement already satisfied: rapidfuzz in c:\\users\\milan\\documents\\project\\myvenv\\lib\\site-packages (from paddleocr>=2.0.1) (3.9.6)\n",
      "Requirement already satisfied: opencv-python in c:\\users\\milan\\documents\\project\\myvenv\\lib\\site-packages (from paddleocr>=2.0.1) (4.10.0.84)\n",
      "Requirement already satisfied: opencv-contrib-python in c:\\users\\milan\\documents\\project\\myvenv\\lib\\site-packages (from paddleocr>=2.0.1) (4.10.0.84)\n",
      "Requirement already satisfied: cython in c:\\users\\milan\\documents\\project\\myvenv\\lib\\site-packages (from paddleocr>=2.0.1) (3.0.11)\n",
      "Requirement already satisfied: Pillow in c:\\users\\milan\\documents\\project\\myvenv\\lib\\site-packages (from paddleocr>=2.0.1) (10.4.0)\n",
      "Requirement already satisfied: pyyaml in c:\\users\\milan\\documents\\project\\myvenv\\lib\\site-packages (from paddleocr>=2.0.1) (6.0.2)\n",
      "Requirement already satisfied: python-docx in c:\\users\\milan\\documents\\project\\myvenv\\lib\\site-packages (from paddleocr>=2.0.1) (1.1.2)\n",
      "Requirement already satisfied: beautifulsoup4 in c:\\users\\milan\\documents\\project\\myvenv\\lib\\site-packages (from paddleocr>=2.0.1) (4.12.3)\n",
      "Requirement already satisfied: fonttools>=4.24.0 in c:\\users\\milan\\documents\\project\\myvenv\\lib\\site-packages (from paddleocr>=2.0.1) (4.53.1)\n",
      "Requirement already satisfied: fire>=0.3.0 in c:\\users\\milan\\documents\\project\\myvenv\\lib\\site-packages (from paddleocr>=2.0.1) (0.6.0)\n",
      "Requirement already satisfied: requests in c:\\users\\milan\\documents\\project\\myvenv\\lib\\site-packages (from paddleocr>=2.0.1) (2.32.3)\n",
      "Requirement already satisfied: six in c:\\users\\milan\\documents\\project\\myvenv\\lib\\site-packages (from fire>=0.3.0->paddleocr>=2.0.1) (1.16.0)\n",
      "Requirement already satisfied: termcolor in c:\\users\\milan\\documents\\project\\myvenv\\lib\\site-packages (from fire>=0.3.0->paddleocr>=2.0.1) (2.4.0)\n",
      "Requirement already satisfied: soupsieve>1.2 in c:\\users\\milan\\documents\\project\\myvenv\\lib\\site-packages (from beautifulsoup4->paddleocr>=2.0.1) (2.6)\n",
      "Requirement already satisfied: scipy in c:\\users\\milan\\documents\\project\\myvenv\\lib\\site-packages (from imgaug->paddleocr>=2.0.1) (1.14.1)\n",
      "Requirement already satisfied: matplotlib in c:\\users\\milan\\documents\\project\\myvenv\\lib\\site-packages (from imgaug->paddleocr>=2.0.1) (3.9.2)\n",
      "Requirement already satisfied: imageio in c:\\users\\milan\\documents\\project\\myvenv\\lib\\site-packages (from imgaug->paddleocr>=2.0.1) (2.35.1)\n",
      "Requirement already satisfied: networkx>=2.8 in c:\\users\\milan\\documents\\project\\myvenv\\lib\\site-packages (from scikit-image->paddleocr>=2.0.1) (3.3)\n",
      "Requirement already satisfied: tifffile>=2022.8.12 in c:\\users\\milan\\documents\\project\\myvenv\\lib\\site-packages (from scikit-image->paddleocr>=2.0.1) (2024.8.30)\n",
      "Requirement already satisfied: packaging>=21 in c:\\users\\milan\\documents\\project\\myvenv\\lib\\site-packages (from scikit-image->paddleocr>=2.0.1) (24.1)\n",
      "Requirement already satisfied: lazy-loader>=0.4 in c:\\users\\milan\\documents\\project\\myvenv\\lib\\site-packages (from scikit-image->paddleocr>=2.0.1) (0.4)\n",
      "Requirement already satisfied: lxml>=3.1.0 in c:\\users\\milan\\documents\\project\\myvenv\\lib\\site-packages (from python-docx->paddleocr>=2.0.1) (5.3.0)\n",
      "Requirement already satisfied: typing-extensions>=4.9.0 in c:\\users\\milan\\documents\\project\\myvenv\\lib\\site-packages (from python-docx->paddleocr>=2.0.1) (4.12.2)\n",
      "Requirement already satisfied: charset-normalizer<4,>=2 in c:\\users\\milan\\documents\\project\\myvenv\\lib\\site-packages (from requests->paddleocr>=2.0.1) (3.3.2)\n",
      "Requirement already satisfied: idna<4,>=2.5 in c:\\users\\milan\\documents\\project\\myvenv\\lib\\site-packages (from requests->paddleocr>=2.0.1) (3.8)\n",
      "Requirement already satisfied: urllib3<3,>=1.21.1 in c:\\users\\milan\\documents\\project\\myvenv\\lib\\site-packages (from requests->paddleocr>=2.0.1) (2.2.2)\n",
      "Requirement already satisfied: certifi>=2017.4.17 in c:\\users\\milan\\documents\\project\\myvenv\\lib\\site-packages (from requests->paddleocr>=2.0.1) (2024.8.30)\n",
      "Requirement already satisfied: colorama in c:\\users\\milan\\documents\\project\\myvenv\\lib\\site-packages (from tqdm->paddleocr>=2.0.1) (0.4.6)\n",
      "Requirement already satisfied: contourpy>=1.0.1 in c:\\users\\milan\\documents\\project\\myvenv\\lib\\site-packages (from matplotlib->imgaug->paddleocr>=2.0.1) (1.3.0)\n",
      "Requirement already satisfied: cycler>=0.10 in c:\\users\\milan\\documents\\project\\myvenv\\lib\\site-packages (from matplotlib->imgaug->paddleocr>=2.0.1) (0.12.1)\n",
      "Requirement already satisfied: kiwisolver>=1.3.1 in c:\\users\\milan\\documents\\project\\myvenv\\lib\\site-packages (from matplotlib->imgaug->paddleocr>=2.0.1) (1.4.5)\n",
      "Requirement already satisfied: pyparsing>=2.3.1 in c:\\users\\milan\\documents\\project\\myvenv\\lib\\site-packages (from matplotlib->imgaug->paddleocr>=2.0.1) (3.1.4)\n",
      "Requirement already satisfied: python-dateutil>=2.7 in c:\\users\\milan\\documents\\project\\myvenv\\lib\\site-packages (from matplotlib->imgaug->paddleocr>=2.0.1) (2.9.0.post0)\n"
     ]
    }
   ],
   "source": [
    "!pip install \"paddleocr>=2.0.1\"\n"
   ]
  },
  {
   "cell_type": "code",
   "execution_count": 8,
   "id": "fa8de47a-b548-4e64-87de-a609af310933",
   "metadata": {},
   "outputs": [
    {
     "name": "stdout",
     "output_type": "stream",
     "text": [
      "Requirement already satisfied: paddleocr in c:\\users\\milan\\documents\\project\\myvenv\\lib\\site-packages (2.8.1)\n",
      "Requirement already satisfied: shapely in c:\\users\\milan\\documents\\project\\myvenv\\lib\\site-packages (from paddleocr) (2.0.6)\n",
      "Requirement already satisfied: scikit-image in c:\\users\\milan\\documents\\project\\myvenv\\lib\\site-packages (from paddleocr) (0.24.0)\n",
      "Requirement already satisfied: imgaug in c:\\users\\milan\\documents\\project\\myvenv\\lib\\site-packages (from paddleocr) (0.4.0)\n",
      "Requirement already satisfied: pyclipper in c:\\users\\milan\\documents\\project\\myvenv\\lib\\site-packages (from paddleocr) (1.3.0.post5)\n",
      "Requirement already satisfied: lmdb in c:\\users\\milan\\documents\\project\\myvenv\\lib\\site-packages (from paddleocr) (1.5.1)\n",
      "Requirement already satisfied: tqdm in c:\\users\\milan\\documents\\project\\myvenv\\lib\\site-packages (from paddleocr) (4.66.5)\n",
      "Requirement already satisfied: numpy<2.0 in c:\\users\\milan\\documents\\project\\myvenv\\lib\\site-packages (from paddleocr) (1.26.4)\n",
      "Requirement already satisfied: rapidfuzz in c:\\users\\milan\\documents\\project\\myvenv\\lib\\site-packages (from paddleocr) (3.9.6)\n",
      "Requirement already satisfied: opencv-python in c:\\users\\milan\\documents\\project\\myvenv\\lib\\site-packages (from paddleocr) (4.10.0.84)\n",
      "Requirement already satisfied: opencv-contrib-python in c:\\users\\milan\\documents\\project\\myvenv\\lib\\site-packages (from paddleocr) (4.10.0.84)\n",
      "Requirement already satisfied: cython in c:\\users\\milan\\documents\\project\\myvenv\\lib\\site-packages (from paddleocr) (3.0.11)\n",
      "Requirement already satisfied: Pillow in c:\\users\\milan\\documents\\project\\myvenv\\lib\\site-packages (from paddleocr) (10.4.0)\n",
      "Requirement already satisfied: pyyaml in c:\\users\\milan\\documents\\project\\myvenv\\lib\\site-packages (from paddleocr) (6.0.2)\n",
      "Requirement already satisfied: python-docx in c:\\users\\milan\\documents\\project\\myvenv\\lib\\site-packages (from paddleocr) (1.1.2)\n",
      "Requirement already satisfied: beautifulsoup4 in c:\\users\\milan\\documents\\project\\myvenv\\lib\\site-packages (from paddleocr) (4.12.3)\n",
      "Requirement already satisfied: fonttools>=4.24.0 in c:\\users\\milan\\documents\\project\\myvenv\\lib\\site-packages (from paddleocr) (4.53.1)\n",
      "Requirement already satisfied: fire>=0.3.0 in c:\\users\\milan\\documents\\project\\myvenv\\lib\\site-packages (from paddleocr) (0.6.0)\n",
      "Requirement already satisfied: requests in c:\\users\\milan\\documents\\project\\myvenv\\lib\\site-packages (from paddleocr) (2.32.3)\n",
      "Requirement already satisfied: six in c:\\users\\milan\\documents\\project\\myvenv\\lib\\site-packages (from fire>=0.3.0->paddleocr) (1.16.0)\n",
      "Requirement already satisfied: termcolor in c:\\users\\milan\\documents\\project\\myvenv\\lib\\site-packages (from fire>=0.3.0->paddleocr) (2.4.0)\n",
      "Requirement already satisfied: soupsieve>1.2 in c:\\users\\milan\\documents\\project\\myvenv\\lib\\site-packages (from beautifulsoup4->paddleocr) (2.6)\n",
      "Requirement already satisfied: scipy in c:\\users\\milan\\documents\\project\\myvenv\\lib\\site-packages (from imgaug->paddleocr) (1.14.1)\n",
      "Requirement already satisfied: matplotlib in c:\\users\\milan\\documents\\project\\myvenv\\lib\\site-packages (from imgaug->paddleocr) (3.9.2)\n",
      "Requirement already satisfied: imageio in c:\\users\\milan\\documents\\project\\myvenv\\lib\\site-packages (from imgaug->paddleocr) (2.35.1)\n",
      "Requirement already satisfied: networkx>=2.8 in c:\\users\\milan\\documents\\project\\myvenv\\lib\\site-packages (from scikit-image->paddleocr) (3.3)\n",
      "Requirement already satisfied: tifffile>=2022.8.12 in c:\\users\\milan\\documents\\project\\myvenv\\lib\\site-packages (from scikit-image->paddleocr) (2024.8.30)\n",
      "Requirement already satisfied: packaging>=21 in c:\\users\\milan\\documents\\project\\myvenv\\lib\\site-packages (from scikit-image->paddleocr) (24.1)\n",
      "Requirement already satisfied: lazy-loader>=0.4 in c:\\users\\milan\\documents\\project\\myvenv\\lib\\site-packages (from scikit-image->paddleocr) (0.4)\n",
      "Requirement already satisfied: lxml>=3.1.0 in c:\\users\\milan\\documents\\project\\myvenv\\lib\\site-packages (from python-docx->paddleocr) (5.3.0)\n",
      "Requirement already satisfied: typing-extensions>=4.9.0 in c:\\users\\milan\\documents\\project\\myvenv\\lib\\site-packages (from python-docx->paddleocr) (4.12.2)\n",
      "Requirement already satisfied: charset-normalizer<4,>=2 in c:\\users\\milan\\documents\\project\\myvenv\\lib\\site-packages (from requests->paddleocr) (3.3.2)\n",
      "Requirement already satisfied: idna<4,>=2.5 in c:\\users\\milan\\documents\\project\\myvenv\\lib\\site-packages (from requests->paddleocr) (3.8)\n",
      "Requirement already satisfied: urllib3<3,>=1.21.1 in c:\\users\\milan\\documents\\project\\myvenv\\lib\\site-packages (from requests->paddleocr) (2.2.2)\n",
      "Requirement already satisfied: certifi>=2017.4.17 in c:\\users\\milan\\documents\\project\\myvenv\\lib\\site-packages (from requests->paddleocr) (2024.8.30)\n",
      "Requirement already satisfied: colorama in c:\\users\\milan\\documents\\project\\myvenv\\lib\\site-packages (from tqdm->paddleocr) (0.4.6)\n",
      "Requirement already satisfied: contourpy>=1.0.1 in c:\\users\\milan\\documents\\project\\myvenv\\lib\\site-packages (from matplotlib->imgaug->paddleocr) (1.3.0)\n",
      "Requirement already satisfied: cycler>=0.10 in c:\\users\\milan\\documents\\project\\myvenv\\lib\\site-packages (from matplotlib->imgaug->paddleocr) (0.12.1)\n",
      "Requirement already satisfied: kiwisolver>=1.3.1 in c:\\users\\milan\\documents\\project\\myvenv\\lib\\site-packages (from matplotlib->imgaug->paddleocr) (1.4.5)\n",
      "Requirement already satisfied: pyparsing>=2.3.1 in c:\\users\\milan\\documents\\project\\myvenv\\lib\\site-packages (from matplotlib->imgaug->paddleocr) (3.1.4)\n",
      "Requirement already satisfied: python-dateutil>=2.7 in c:\\users\\milan\\documents\\project\\myvenv\\lib\\site-packages (from matplotlib->imgaug->paddleocr) (2.9.0.post0)\n"
     ]
    }
   ],
   "source": [
    "!pip install paddleocr"
   ]
  },
  {
   "cell_type": "code",
   "execution_count": 10,
   "id": "1344c7e8-4759-4594-a7be-ab7c1e8b696e",
   "metadata": {},
   "outputs": [
    {
     "name": "stdout",
     "output_type": "stream",
     "text": [
      "Requirement already satisfied: paddlepaddle in c:\\users\\milan\\documents\\project\\myvenv\\lib\\site-packages (2.6.1)\n",
      "Requirement already satisfied: httpx in c:\\users\\milan\\documents\\project\\myvenv\\lib\\site-packages (from paddlepaddle) (0.27.2)\n",
      "Requirement already satisfied: numpy>=1.13 in c:\\users\\milan\\documents\\project\\myvenv\\lib\\site-packages (from paddlepaddle) (1.26.4)\n",
      "Requirement already satisfied: Pillow in c:\\users\\milan\\documents\\project\\myvenv\\lib\\site-packages (from paddlepaddle) (10.4.0)\n",
      "Requirement already satisfied: decorator in c:\\users\\milan\\documents\\project\\myvenv\\lib\\site-packages (from paddlepaddle) (5.1.1)\n",
      "Requirement already satisfied: astor in c:\\users\\milan\\documents\\project\\myvenv\\lib\\site-packages (from paddlepaddle) (0.8.1)\n",
      "Requirement already satisfied: opt-einsum==3.3.0 in c:\\users\\milan\\documents\\project\\myvenv\\lib\\site-packages (from paddlepaddle) (3.3.0)\n",
      "Requirement already satisfied: protobuf<=3.20.2,>=3.1.0 in c:\\users\\milan\\documents\\project\\myvenv\\lib\\site-packages (from paddlepaddle) (3.20.2)\n",
      "Requirement already satisfied: anyio in c:\\users\\milan\\documents\\project\\myvenv\\lib\\site-packages (from httpx->paddlepaddle) (4.4.0)\n",
      "Requirement already satisfied: certifi in c:\\users\\milan\\documents\\project\\myvenv\\lib\\site-packages (from httpx->paddlepaddle) (2024.8.30)\n",
      "Requirement already satisfied: httpcore==1.* in c:\\users\\milan\\documents\\project\\myvenv\\lib\\site-packages (from httpx->paddlepaddle) (1.0.5)\n",
      "Requirement already satisfied: idna in c:\\users\\milan\\documents\\project\\myvenv\\lib\\site-packages (from httpx->paddlepaddle) (3.8)\n",
      "Requirement already satisfied: sniffio in c:\\users\\milan\\documents\\project\\myvenv\\lib\\site-packages (from httpx->paddlepaddle) (1.3.1)\n",
      "Requirement already satisfied: h11<0.15,>=0.13 in c:\\users\\milan\\documents\\project\\myvenv\\lib\\site-packages (from httpcore==1.*->httpx->paddlepaddle) (0.14.0)\n"
     ]
    }
   ],
   "source": [
    "!pip install paddlepaddle"
   ]
  },
  {
   "cell_type": "code",
   "execution_count": 5,
   "id": "26479e14-634e-4e5e-9ec9-65558876edd6",
   "metadata": {},
   "outputs": [
    {
     "ename": "ModuleNotFoundError",
     "evalue": "No module named 'paddleocr'",
     "output_type": "error",
     "traceback": [
      "\u001b[1;31m---------------------------------------------------------------------------\u001b[0m",
      "\u001b[1;31mModuleNotFoundError\u001b[0m                       Traceback (most recent call last)",
      "Cell \u001b[1;32mIn[5], line 1\u001b[0m\n\u001b[1;32m----> 1\u001b[0m \u001b[38;5;28;01mfrom\u001b[39;00m \u001b[38;5;21;01mpaddleocr\u001b[39;00m \u001b[38;5;28;01mimport\u001b[39;00m PaddleOCR,draw_ocr\n\u001b[0;32m      2\u001b[0m \u001b[38;5;66;03m# Paddleocr supports Chinese, English, French, German, Korean and Japanese.\u001b[39;00m\n\u001b[0;32m      3\u001b[0m \u001b[38;5;66;03m# You can set the parameter `lang` as `ch`, `en`, `fr`, `german`, `korean`, `japan`\u001b[39;00m\n\u001b[0;32m      4\u001b[0m \u001b[38;5;66;03m# to switch the language model in order.\u001b[39;00m\n\u001b[0;32m      5\u001b[0m ocr \u001b[38;5;241m=\u001b[39m PaddleOCR(use_angle_cls\u001b[38;5;241m=\u001b[39m\u001b[38;5;28;01mTrue\u001b[39;00m, lang\u001b[38;5;241m=\u001b[39m\u001b[38;5;124m'\u001b[39m\u001b[38;5;124men\u001b[39m\u001b[38;5;124m'\u001b[39m) \u001b[38;5;66;03m# need to run only once to download and load model into memory\u001b[39;00m\n",
      "\u001b[1;31mModuleNotFoundError\u001b[0m: No module named 'paddleocr'"
     ]
    }
   ],
   "source": [
    "from paddleocr import PaddleOCR,draw_ocr\n",
    "# Paddleocr supports Chinese, English, French, German, Korean and Japanese.\n",
    "# You can set the parameter `lang` as `ch`, `en`, `fr`, `german`, `korean`, `japan`\n",
    "# to switch the language model in order.\n",
    "ocr = PaddleOCR(use_angle_cls=True, lang='en') # need to run only once to download and load model into memory\n",
    "img_path = './sample.png'\n",
    "result = ocr.ocr(img_path, cls=True)\n",
    "for idx in range(len(result)):\n",
    "    res = result[idx]\n",
    "    for line in res:\n",
    "        print(line)\n",
    "\n",
    "\n",
    "# draw result\n",
    "from PIL import Image\n",
    "result = result[0]\n",
    "image = Image.open(img_path).convert('RGB')\n",
    "boxes = [line[0] for line in result]\n",
    "txts = [line[1][0] for line in result]\n",
    "scores = [line[1][1] for line in result]\n",
    "im_show = draw_ocr(image, boxes, txts, scores, font_path='./fonts/simfang.ttf')\n",
    "im_show = Image.fromarray(im_show)\n",
    "im_show.save('result.jpg')"
   ]
  },
  {
   "cell_type": "code",
   "execution_count": 3,
   "id": "8144008f-de63-49fb-a849-81fd6514dcb2",
   "metadata": {},
   "outputs": [
    {
     "name": "stdout",
     "output_type": "stream",
     "text": [
      "Requirement already satisfied: paddlepaddle in c:\\users\\milan\\documents\\project\\myvenv\\lib\\site-packages (2.6.1)\n",
      "Requirement already satisfied: httpx in c:\\users\\milan\\documents\\project\\myvenv\\lib\\site-packages (from paddlepaddle) (0.27.2)\n",
      "Requirement already satisfied: numpy>=1.13 in c:\\users\\milan\\documents\\project\\myvenv\\lib\\site-packages (from paddlepaddle) (1.26.4)\n",
      "Requirement already satisfied: Pillow in c:\\users\\milan\\documents\\project\\myvenv\\lib\\site-packages (from paddlepaddle) (10.4.0)\n",
      "Requirement already satisfied: decorator in c:\\users\\milan\\documents\\project\\myvenv\\lib\\site-packages (from paddlepaddle) (5.1.1)\n",
      "Requirement already satisfied: astor in c:\\users\\milan\\documents\\project\\myvenv\\lib\\site-packages (from paddlepaddle) (0.8.1)\n",
      "Requirement already satisfied: opt-einsum==3.3.0 in c:\\users\\milan\\documents\\project\\myvenv\\lib\\site-packages (from paddlepaddle) (3.3.0)\n",
      "Requirement already satisfied: protobuf<=3.20.2,>=3.1.0 in c:\\users\\milan\\documents\\project\\myvenv\\lib\\site-packages (from paddlepaddle) (3.20.2)\n",
      "Requirement already satisfied: anyio in c:\\users\\milan\\documents\\project\\myvenv\\lib\\site-packages (from httpx->paddlepaddle) (4.4.0)\n",
      "Requirement already satisfied: certifi in c:\\users\\milan\\documents\\project\\myvenv\\lib\\site-packages (from httpx->paddlepaddle) (2024.8.30)\n",
      "Requirement already satisfied: httpcore==1.* in c:\\users\\milan\\documents\\project\\myvenv\\lib\\site-packages (from httpx->paddlepaddle) (1.0.5)\n",
      "Requirement already satisfied: idna in c:\\users\\milan\\documents\\project\\myvenv\\lib\\site-packages (from httpx->paddlepaddle) (3.8)\n",
      "Requirement already satisfied: sniffio in c:\\users\\milan\\documents\\project\\myvenv\\lib\\site-packages (from httpx->paddlepaddle) (1.3.1)\n",
      "Requirement already satisfied: h11<0.15,>=0.13 in c:\\users\\milan\\documents\\project\\myvenv\\lib\\site-packages (from httpcore==1.*->httpx->paddlepaddle) (0.14.0)\n"
     ]
    }
   ],
   "source": [
    "!pip install paddlepaddle\n"
   ]
  },
  {
   "cell_type": "code",
   "execution_count": 4,
   "id": "79d056e3-aa4c-4251-9569-eac5b5249e4e",
   "metadata": {},
   "outputs": [
    {
     "name": "stdout",
     "output_type": "stream",
     "text": [
      "Requirement already satisfied: paddleocr in c:\\users\\milan\\documents\\project\\myvenv\\lib\\site-packages (2.8.1)\n",
      "Requirement already satisfied: shapely in c:\\users\\milan\\documents\\project\\myvenv\\lib\\site-packages (from paddleocr) (2.0.6)\n",
      "Requirement already satisfied: scikit-image in c:\\users\\milan\\documents\\project\\myvenv\\lib\\site-packages (from paddleocr) (0.24.0)\n",
      "Requirement already satisfied: imgaug in c:\\users\\milan\\documents\\project\\myvenv\\lib\\site-packages (from paddleocr) (0.4.0)\n",
      "Requirement already satisfied: pyclipper in c:\\users\\milan\\documents\\project\\myvenv\\lib\\site-packages (from paddleocr) (1.3.0.post5)\n",
      "Requirement already satisfied: lmdb in c:\\users\\milan\\documents\\project\\myvenv\\lib\\site-packages (from paddleocr) (1.5.1)\n",
      "Requirement already satisfied: tqdm in c:\\users\\milan\\documents\\project\\myvenv\\lib\\site-packages (from paddleocr) (4.66.5)\n",
      "Requirement already satisfied: numpy<2.0 in c:\\users\\milan\\documents\\project\\myvenv\\lib\\site-packages (from paddleocr) (1.26.4)\n",
      "Requirement already satisfied: rapidfuzz in c:\\users\\milan\\documents\\project\\myvenv\\lib\\site-packages (from paddleocr) (3.9.6)\n",
      "Requirement already satisfied: opencv-python in c:\\users\\milan\\documents\\project\\myvenv\\lib\\site-packages (from paddleocr) (4.10.0.84)\n",
      "Requirement already satisfied: opencv-contrib-python in c:\\users\\milan\\documents\\project\\myvenv\\lib\\site-packages (from paddleocr) (4.10.0.84)\n",
      "Requirement already satisfied: cython in c:\\users\\milan\\documents\\project\\myvenv\\lib\\site-packages (from paddleocr) (3.0.11)\n",
      "Requirement already satisfied: Pillow in c:\\users\\milan\\documents\\project\\myvenv\\lib\\site-packages (from paddleocr) (10.4.0)\n",
      "Requirement already satisfied: pyyaml in c:\\users\\milan\\documents\\project\\myvenv\\lib\\site-packages (from paddleocr) (6.0.2)\n",
      "Requirement already satisfied: python-docx in c:\\users\\milan\\documents\\project\\myvenv\\lib\\site-packages (from paddleocr) (1.1.2)\n",
      "Requirement already satisfied: beautifulsoup4 in c:\\users\\milan\\documents\\project\\myvenv\\lib\\site-packages (from paddleocr) (4.12.3)\n",
      "Requirement already satisfied: fonttools>=4.24.0 in c:\\users\\milan\\documents\\project\\myvenv\\lib\\site-packages (from paddleocr) (4.53.1)\n",
      "Requirement already satisfied: fire>=0.3.0 in c:\\users\\milan\\documents\\project\\myvenv\\lib\\site-packages (from paddleocr) (0.6.0)\n",
      "Requirement already satisfied: requests in c:\\users\\milan\\documents\\project\\myvenv\\lib\\site-packages (from paddleocr) (2.32.3)\n",
      "Requirement already satisfied: six in c:\\users\\milan\\documents\\project\\myvenv\\lib\\site-packages (from fire>=0.3.0->paddleocr) (1.16.0)\n",
      "Requirement already satisfied: termcolor in c:\\users\\milan\\documents\\project\\myvenv\\lib\\site-packages (from fire>=0.3.0->paddleocr) (2.4.0)\n",
      "Requirement already satisfied: soupsieve>1.2 in c:\\users\\milan\\documents\\project\\myvenv\\lib\\site-packages (from beautifulsoup4->paddleocr) (2.6)\n",
      "Requirement already satisfied: scipy in c:\\users\\milan\\documents\\project\\myvenv\\lib\\site-packages (from imgaug->paddleocr) (1.14.1)\n",
      "Requirement already satisfied: matplotlib in c:\\users\\milan\\documents\\project\\myvenv\\lib\\site-packages (from imgaug->paddleocr) (3.9.2)\n",
      "Requirement already satisfied: imageio in c:\\users\\milan\\documents\\project\\myvenv\\lib\\site-packages (from imgaug->paddleocr) (2.35.1)\n",
      "Requirement already satisfied: networkx>=2.8 in c:\\users\\milan\\documents\\project\\myvenv\\lib\\site-packages (from scikit-image->paddleocr) (3.3)\n",
      "Requirement already satisfied: tifffile>=2022.8.12 in c:\\users\\milan\\documents\\project\\myvenv\\lib\\site-packages (from scikit-image->paddleocr) (2024.8.30)\n",
      "Requirement already satisfied: packaging>=21 in c:\\users\\milan\\documents\\project\\myvenv\\lib\\site-packages (from scikit-image->paddleocr) (24.1)\n",
      "Requirement already satisfied: lazy-loader>=0.4 in c:\\users\\milan\\documents\\project\\myvenv\\lib\\site-packages (from scikit-image->paddleocr) (0.4)\n",
      "Requirement already satisfied: lxml>=3.1.0 in c:\\users\\milan\\documents\\project\\myvenv\\lib\\site-packages (from python-docx->paddleocr) (5.3.0)\n",
      "Requirement already satisfied: typing-extensions>=4.9.0 in c:\\users\\milan\\documents\\project\\myvenv\\lib\\site-packages (from python-docx->paddleocr) (4.12.2)\n",
      "Requirement already satisfied: charset-normalizer<4,>=2 in c:\\users\\milan\\documents\\project\\myvenv\\lib\\site-packages (from requests->paddleocr) (3.3.2)\n",
      "Requirement already satisfied: idna<4,>=2.5 in c:\\users\\milan\\documents\\project\\myvenv\\lib\\site-packages (from requests->paddleocr) (3.8)\n",
      "Requirement already satisfied: urllib3<3,>=1.21.1 in c:\\users\\milan\\documents\\project\\myvenv\\lib\\site-packages (from requests->paddleocr) (2.2.2)\n",
      "Requirement already satisfied: certifi>=2017.4.17 in c:\\users\\milan\\documents\\project\\myvenv\\lib\\site-packages (from requests->paddleocr) (2024.8.30)\n",
      "Requirement already satisfied: colorama in c:\\users\\milan\\documents\\project\\myvenv\\lib\\site-packages (from tqdm->paddleocr) (0.4.6)\n",
      "Requirement already satisfied: contourpy>=1.0.1 in c:\\users\\milan\\documents\\project\\myvenv\\lib\\site-packages (from matplotlib->imgaug->paddleocr) (1.3.0)\n",
      "Requirement already satisfied: cycler>=0.10 in c:\\users\\milan\\documents\\project\\myvenv\\lib\\site-packages (from matplotlib->imgaug->paddleocr) (0.12.1)\n",
      "Requirement already satisfied: kiwisolver>=1.3.1 in c:\\users\\milan\\documents\\project\\myvenv\\lib\\site-packages (from matplotlib->imgaug->paddleocr) (1.4.5)\n",
      "Requirement already satisfied: pyparsing>=2.3.1 in c:\\users\\milan\\documents\\project\\myvenv\\lib\\site-packages (from matplotlib->imgaug->paddleocr) (3.1.4)\n",
      "Requirement already satisfied: python-dateutil>=2.7 in c:\\users\\milan\\documents\\project\\myvenv\\lib\\site-packages (from matplotlib->imgaug->paddleocr) (2.9.0.post0)\n"
     ]
    }
   ],
   "source": [
    "!pip install paddleocr"
   ]
  },
  {
   "cell_type": "code",
   "execution_count": null,
   "id": "e9e404e3-1135-4605-b7a3-21c0c6598211",
   "metadata": {},
   "outputs": [],
   "source": []
  }
 ],
 "metadata": {
  "kernelspec": {
   "display_name": "Python 3 (ipykernel)",
   "language": "python",
   "name": "python3"
  },
  "language_info": {
   "codemirror_mode": {
    "name": "ipython",
    "version": 3
   },
   "file_extension": ".py",
   "mimetype": "text/x-python",
   "name": "python",
   "nbconvert_exporter": "python",
   "pygments_lexer": "ipython3",
   "version": "3.12.5"
  }
 },
 "nbformat": 4,
 "nbformat_minor": 5
}
