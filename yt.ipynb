{
  "cells": [
    {
      "cell_type": "code",
      "execution_count": 8,
      "metadata": {},
      "outputs": [
        {
          "name": "stdout",
          "output_type": "stream",
          "text": [
            "Requirement already satisfied: tensorflow in c:\\users\\milan\\documents\\project\\myvenv\\lib\\site-packages (2.17.0)\n",
            "Requirement already satisfied: tensorflow-intel==2.17.0 in c:\\users\\milan\\documents\\project\\myvenv\\lib\\site-packages (from tensorflow) (2.17.0)\n",
            "Requirement already satisfied: absl-py>=1.0.0 in c:\\users\\milan\\documents\\project\\myvenv\\lib\\site-packages (from tensorflow-intel==2.17.0->tensorflow) (2.1.0)\n",
            "Requirement already satisfied: astunparse>=1.6.0 in c:\\users\\milan\\documents\\project\\myvenv\\lib\\site-packages (from tensorflow-intel==2.17.0->tensorflow) (1.6.3)\n",
            "Requirement already satisfied: flatbuffers>=24.3.25 in c:\\users\\milan\\documents\\project\\myvenv\\lib\\site-packages (from tensorflow-intel==2.17.0->tensorflow) (24.3.25)\n",
            "Requirement already satisfied: gast!=0.5.0,!=0.5.1,!=0.5.2,>=0.2.1 in c:\\users\\milan\\documents\\project\\myvenv\\lib\\site-packages (from tensorflow-intel==2.17.0->tensorflow) (0.6.0)\n",
            "Requirement already satisfied: google-pasta>=0.1.1 in c:\\users\\milan\\documents\\project\\myvenv\\lib\\site-packages (from tensorflow-intel==2.17.0->tensorflow) (0.2.0)\n",
            "Requirement already satisfied: h5py>=3.10.0 in c:\\users\\milan\\documents\\project\\myvenv\\lib\\site-packages (from tensorflow-intel==2.17.0->tensorflow) (3.11.0)\n",
            "Requirement already satisfied: libclang>=13.0.0 in c:\\users\\milan\\documents\\project\\myvenv\\lib\\site-packages (from tensorflow-intel==2.17.0->tensorflow) (18.1.1)\n",
            "Requirement already satisfied: ml-dtypes<0.5.0,>=0.3.1 in c:\\users\\milan\\documents\\project\\myvenv\\lib\\site-packages (from tensorflow-intel==2.17.0->tensorflow) (0.4.0)\n",
            "Requirement already satisfied: opt-einsum>=2.3.2 in c:\\users\\milan\\documents\\project\\myvenv\\lib\\site-packages (from tensorflow-intel==2.17.0->tensorflow) (3.3.0)\n",
            "Requirement already satisfied: packaging in c:\\users\\milan\\documents\\project\\myvenv\\lib\\site-packages (from tensorflow-intel==2.17.0->tensorflow) (24.1)\n",
            "Requirement already satisfied: protobuf!=4.21.0,!=4.21.1,!=4.21.2,!=4.21.3,!=4.21.4,!=4.21.5,<5.0.0dev,>=3.20.3 in c:\\users\\milan\\documents\\project\\myvenv\\lib\\site-packages (from tensorflow-intel==2.17.0->tensorflow) (4.25.4)\n",
            "Requirement already satisfied: requests<3,>=2.21.0 in c:\\users\\milan\\documents\\project\\myvenv\\lib\\site-packages (from tensorflow-intel==2.17.0->tensorflow) (2.32.3)\n",
            "Requirement already satisfied: setuptools in c:\\users\\milan\\documents\\project\\myvenv\\lib\\site-packages (from tensorflow-intel==2.17.0->tensorflow) (74.1.1)\n",
            "Requirement already satisfied: six>=1.12.0 in c:\\users\\milan\\documents\\project\\myvenv\\lib\\site-packages (from tensorflow-intel==2.17.0->tensorflow) (1.16.0)\n",
            "Requirement already satisfied: termcolor>=1.1.0 in c:\\users\\milan\\documents\\project\\myvenv\\lib\\site-packages (from tensorflow-intel==2.17.0->tensorflow) (2.4.0)\n",
            "Requirement already satisfied: typing-extensions>=3.6.6 in c:\\users\\milan\\documents\\project\\myvenv\\lib\\site-packages (from tensorflow-intel==2.17.0->tensorflow) (4.12.2)\n",
            "Requirement already satisfied: wrapt>=1.11.0 in c:\\users\\milan\\documents\\project\\myvenv\\lib\\site-packages (from tensorflow-intel==2.17.0->tensorflow) (1.16.0)\n",
            "Requirement already satisfied: grpcio<2.0,>=1.24.3 in c:\\users\\milan\\documents\\project\\myvenv\\lib\\site-packages (from tensorflow-intel==2.17.0->tensorflow) (1.66.1)\n",
            "Requirement already satisfied: tensorboard<2.18,>=2.17 in c:\\users\\milan\\documents\\project\\myvenv\\lib\\site-packages (from tensorflow-intel==2.17.0->tensorflow) (2.17.1)\n",
            "Requirement already satisfied: keras>=3.2.0 in c:\\users\\milan\\documents\\project\\myvenv\\lib\\site-packages (from tensorflow-intel==2.17.0->tensorflow) (3.5.0)\n",
            "Requirement already satisfied: numpy<2.0.0,>=1.26.0 in c:\\users\\milan\\documents\\project\\myvenv\\lib\\site-packages (from tensorflow-intel==2.17.0->tensorflow) (1.26.4)\n",
            "Requirement already satisfied: wheel<1.0,>=0.23.0 in c:\\users\\milan\\documents\\project\\myvenv\\lib\\site-packages (from astunparse>=1.6.0->tensorflow-intel==2.17.0->tensorflow) (0.44.0)\n",
            "Requirement already satisfied: rich in c:\\users\\milan\\documents\\project\\myvenv\\lib\\site-packages (from keras>=3.2.0->tensorflow-intel==2.17.0->tensorflow) (13.8.0)\n",
            "Requirement already satisfied: namex in c:\\users\\milan\\documents\\project\\myvenv\\lib\\site-packages (from keras>=3.2.0->tensorflow-intel==2.17.0->tensorflow) (0.0.8)\n",
            "Requirement already satisfied: optree in c:\\users\\milan\\documents\\project\\myvenv\\lib\\site-packages (from keras>=3.2.0->tensorflow-intel==2.17.0->tensorflow) (0.12.1)\n",
            "Requirement already satisfied: charset-normalizer<4,>=2 in c:\\users\\milan\\documents\\project\\myvenv\\lib\\site-packages (from requests<3,>=2.21.0->tensorflow-intel==2.17.0->tensorflow) (3.3.2)\n",
            "Requirement already satisfied: idna<4,>=2.5 in c:\\users\\milan\\documents\\project\\myvenv\\lib\\site-packages (from requests<3,>=2.21.0->tensorflow-intel==2.17.0->tensorflow) (3.8)\n",
            "Requirement already satisfied: urllib3<3,>=1.21.1 in c:\\users\\milan\\documents\\project\\myvenv\\lib\\site-packages (from requests<3,>=2.21.0->tensorflow-intel==2.17.0->tensorflow) (2.2.2)\n",
            "Requirement already satisfied: certifi>=2017.4.17 in c:\\users\\milan\\documents\\project\\myvenv\\lib\\site-packages (from requests<3,>=2.21.0->tensorflow-intel==2.17.0->tensorflow) (2024.8.30)\n",
            "Requirement already satisfied: markdown>=2.6.8 in c:\\users\\milan\\documents\\project\\myvenv\\lib\\site-packages (from tensorboard<2.18,>=2.17->tensorflow-intel==2.17.0->tensorflow) (3.7)\n",
            "Requirement already satisfied: tensorboard-data-server<0.8.0,>=0.7.0 in c:\\users\\milan\\documents\\project\\myvenv\\lib\\site-packages (from tensorboard<2.18,>=2.17->tensorflow-intel==2.17.0->tensorflow) (0.7.2)\n",
            "Requirement already satisfied: werkzeug>=1.0.1 in c:\\users\\milan\\documents\\project\\myvenv\\lib\\site-packages (from tensorboard<2.18,>=2.17->tensorflow-intel==2.17.0->tensorflow) (3.0.4)\n",
            "Requirement already satisfied: MarkupSafe>=2.1.1 in c:\\users\\milan\\documents\\project\\myvenv\\lib\\site-packages (from werkzeug>=1.0.1->tensorboard<2.18,>=2.17->tensorflow-intel==2.17.0->tensorflow) (2.1.5)\n",
            "Requirement already satisfied: markdown-it-py>=2.2.0 in c:\\users\\milan\\documents\\project\\myvenv\\lib\\site-packages (from rich->keras>=3.2.0->tensorflow-intel==2.17.0->tensorflow) (3.0.0)\n",
            "Requirement already satisfied: pygments<3.0.0,>=2.13.0 in c:\\users\\milan\\documents\\project\\myvenv\\lib\\site-packages (from rich->keras>=3.2.0->tensorflow-intel==2.17.0->tensorflow) (2.18.0)\n",
            "Requirement already satisfied: mdurl~=0.1 in c:\\users\\milan\\documents\\project\\myvenv\\lib\\site-packages (from markdown-it-py>=2.2.0->rich->keras>=3.2.0->tensorflow-intel==2.17.0->tensorflow) (0.1.2)\n"
          ]
        }
      ],
      "source": [
        "!pip install tensorflow"
      ]
    },
    {
      "cell_type": "code",
      "execution_count": 9,
      "metadata": {},
      "outputs": [
        {
          "name": "stderr",
          "output_type": "stream",
          "text": [
            "The system cannot find the file specified.\n"
          ]
        }
      ],
      "source": [
        "!pip install protobuf<=3.20.2,>=3.1.0"
      ]
    },
    {
      "cell_type": "code",
      "execution_count": 10,
      "metadata": {},
      "outputs": [
        {
          "name": "stdout",
          "output_type": "stream",
          "text": [
            "^C\n"
          ]
        }
      ],
      "source": [
        "!pip uninstall protobuf"
      ]
    },
    {
      "cell_type": "code",
      "execution_count": 14,
      "metadata": {
        "id": "mhEjVUbiUytV"
      },
      "outputs": [
        {
          "ename": "ModuleNotFoundError",
          "evalue": "No module named 'distutils'",
          "output_type": "error",
          "traceback": [
            "\u001b[1;31m---------------------------------------------------------------------------\u001b[0m",
            "\u001b[1;31mModuleNotFoundError\u001b[0m                       Traceback (most recent call last)",
            "Cell \u001b[1;32mIn[14], line 5\u001b[0m\n\u001b[0;32m      3\u001b[0m \u001b[38;5;28;01mimport\u001b[39;00m \u001b[38;5;21;01mnumpy\u001b[39;00m \u001b[38;5;28;01mas\u001b[39;00m \u001b[38;5;21;01mnp\u001b[39;00m\n\u001b[0;32m      4\u001b[0m \u001b[38;5;28;01mimport\u001b[39;00m \u001b[38;5;21;01mpandas\u001b[39;00m \u001b[38;5;28;01mas\u001b[39;00m \u001b[38;5;21;01mpd\u001b[39;00m\n\u001b[1;32m----> 5\u001b[0m \u001b[38;5;28;01mimport\u001b[39;00m \u001b[38;5;21;01mtensorflow\u001b[39;00m \u001b[38;5;28;01mas\u001b[39;00m \u001b[38;5;21;01mtf\u001b[39;00m\n",
            "File \u001b[1;32mc:\\Users\\Milan\\Documents\\Project\\myvenv\\Lib\\site-packages\\tensorflow\\__init__.py:30\u001b[0m\n\u001b[0;32m     15\u001b[0m \u001b[38;5;124;03m\"\"\"\u001b[39;00m\n\u001b[0;32m     16\u001b[0m \u001b[38;5;124;03mTop-level module of TensorFlow. By convention, we refer to this module as\u001b[39;00m\n\u001b[0;32m     17\u001b[0m \u001b[38;5;124;03m`tf` instead of `tensorflow`, following the common practice of importing\u001b[39;00m\n\u001b[1;32m   (...)\u001b[0m\n\u001b[0;32m     26\u001b[0m \u001b[38;5;124;03mthis file with a file generated from [`api_template.__init__.py`](https://www.github.com/tensorflow/tensorflow/blob/master/tensorflow/api_template.__init__.py)\u001b[39;00m\n\u001b[0;32m     27\u001b[0m \u001b[38;5;124;03m\"\"\"\u001b[39;00m\n\u001b[0;32m     28\u001b[0m \u001b[38;5;66;03m# pylint: disable=g-bad-import-order,protected-access,g-import-not-at-top\u001b[39;00m\n\u001b[1;32m---> 30\u001b[0m \u001b[38;5;28;01mimport\u001b[39;00m \u001b[38;5;21;01mdistutils\u001b[39;00m \u001b[38;5;28;01mas\u001b[39;00m \u001b[38;5;21;01m_distutils\u001b[39;00m\n\u001b[0;32m     31\u001b[0m \u001b[38;5;28;01mimport\u001b[39;00m \u001b[38;5;21;01mimportlib\u001b[39;00m\n\u001b[0;32m     32\u001b[0m \u001b[38;5;28;01mimport\u001b[39;00m \u001b[38;5;21;01minspect\u001b[39;00m \u001b[38;5;28;01mas\u001b[39;00m \u001b[38;5;21;01m_inspect\u001b[39;00m\n",
            "\u001b[1;31mModuleNotFoundError\u001b[0m: No module named 'distutils'"
          ]
        }
      ],
      "source": [
        "from PIL import Image\n",
        "import cv2\n",
        "import numpy as np\n",
        "import pandas as pd\n",
        "import tensorflow as tf"
      ]
    },
    {
      "cell_type": "code",
      "execution_count": 2,
      "metadata": {
        "id": "JejuCeNXHckg"
      },
      "outputs": [
        {
          "name": "stdout",
          "output_type": "stream",
          "text": [
            "Requirement already satisfied: paddlepaddle in c:\\users\\milan\\documents\\project\\myvenv\\lib\\site-packages (2.6.1)\n",
            "Requirement already satisfied: httpx in c:\\users\\milan\\documents\\project\\myvenv\\lib\\site-packages (from paddlepaddle) (0.27.2)\n",
            "Requirement already satisfied: numpy>=1.13 in c:\\users\\milan\\documents\\project\\myvenv\\lib\\site-packages (from paddlepaddle) (1.26.4)\n",
            "Requirement already satisfied: Pillow in c:\\users\\milan\\documents\\project\\myvenv\\lib\\site-packages (from paddlepaddle) (10.4.0)\n",
            "Requirement already satisfied: decorator in c:\\users\\milan\\documents\\project\\myvenv\\lib\\site-packages (from paddlepaddle) (5.1.1)\n",
            "Requirement already satisfied: astor in c:\\users\\milan\\documents\\project\\myvenv\\lib\\site-packages (from paddlepaddle) (0.8.1)\n",
            "Requirement already satisfied: opt-einsum==3.3.0 in c:\\users\\milan\\documents\\project\\myvenv\\lib\\site-packages (from paddlepaddle) (3.3.0)\n",
            "Requirement already satisfied: protobuf<=3.20.2,>=3.1.0 in c:\\users\\milan\\documents\\project\\myvenv\\lib\\site-packages (from paddlepaddle) (3.20.2)\n",
            "Requirement already satisfied: anyio in c:\\users\\milan\\documents\\project\\myvenv\\lib\\site-packages (from httpx->paddlepaddle) (4.4.0)\n",
            "Requirement already satisfied: certifi in c:\\users\\milan\\documents\\project\\myvenv\\lib\\site-packages (from httpx->paddlepaddle) (2024.8.30)\n",
            "Requirement already satisfied: httpcore==1.* in c:\\users\\milan\\documents\\project\\myvenv\\lib\\site-packages (from httpx->paddlepaddle) (1.0.5)\n",
            "Requirement already satisfied: idna in c:\\users\\milan\\documents\\project\\myvenv\\lib\\site-packages (from httpx->paddlepaddle) (3.8)\n",
            "Requirement already satisfied: sniffio in c:\\users\\milan\\documents\\project\\myvenv\\lib\\site-packages (from httpx->paddlepaddle) (1.3.1)\n",
            "Requirement already satisfied: h11<0.15,>=0.13 in c:\\users\\milan\\documents\\project\\myvenv\\lib\\site-packages (from httpcore==1.*->httpx->paddlepaddle) (0.14.0)\n"
          ]
        }
      ],
      "source": [
        "!python -m pip install paddlepaddle"
      ]
    },
    {
      "cell_type": "markdown",
      "metadata": {
        "id": "dvKiMyj2feUe"
      },
      "source": [
        "# pdf2image"
      ]
    },
    {
      "cell_type": "markdown",
      "metadata": {
        "id": "aIz56VvlWkf-"
      },
      "source": [
        "## Installation"
      ]
    },
    {
      "cell_type": "code",
      "execution_count": 3,
      "metadata": {
        "colab": {
          "base_uri": "https://localhost:8080/"
        },
        "id": "biSgyAkWnUD3",
        "outputId": "06487f1d-40ee-4de6-f072-6372561d16cd"
      },
      "outputs": [
        {
          "name": "stdout",
          "output_type": "stream",
          "text": [
            "Requirement already satisfied: pdf2image in c:\\users\\milan\\documents\\project\\myvenv\\lib\\site-packages (1.17.0)\n",
            "Requirement already satisfied: pillow in c:\\users\\milan\\documents\\project\\myvenv\\lib\\site-packages (from pdf2image) (10.4.0)\n"
          ]
        }
      ],
      "source": [
        "!pip install pdf2image\n"
      ]
    },
    {
      "cell_type": "markdown",
      "metadata": {
        "id": "pLaguCz1WmF9"
      },
      "source": [
        "## Conversion"
      ]
    },
    {
      "cell_type": "code",
      "execution_count": 7,
      "metadata": {
        "id": "HI1dzCGmkeWI"
      },
      "outputs": [],
      "source": [
        "from pdf2image import convert_from_path"
      ]
    },
    {
      "cell_type": "code",
      "execution_count": 8,
      "metadata": {
        "id": "xyhjFgqjkgG7"
      },
      "outputs": [],
      "source": [
        "images = convert_from_path('C:\\\\Users\\\\Milan\\\\Documents\\\\Project\\\\BAJHANG-DISTRICT-RATES-2081-82.pdf')\n"
      ]
    },
    {
      "cell_type": "code",
      "execution_count": 9,
      "metadata": {
        "id": "M5hBWxpskgJW"
      },
      "outputs": [],
      "source": [
        "!mkdir pages"
      ]
    },
    {
      "cell_type": "code",
      "execution_count": 10,
      "metadata": {
        "id": "7mlH9ltkkgMB"
      },
      "outputs": [],
      "source": [
        "for i in range(len(images)):\n",
        "  images[i].save('pages/page'+str(i)+'.jpg', 'JPEG')"
      ]
    },
    {
      "cell_type": "markdown",
      "metadata": {
        "id": "Urwb7Q_OZC8t"
      },
      "source": [
        "# Layout"
      ]
    },
    {
      "cell_type": "markdown",
      "metadata": {
        "id": "vTkwQbF4FZPN"
      },
      "source": [
        "## Installation"
      ]
    },
    {
      "cell_type": "code",
      "execution_count": 11,
      "metadata": {
        "colab": {
          "base_uri": "https://localhost:8080/",
          "height": 1000
        },
        "id": "R0lRpQLkIpbZ",
        "outputId": "24283e8e-5de0-4b41-bb43-8d0638f927c1"
      },
      "outputs": [
        {
          "name": "stdout",
          "output_type": "stream",
          "text": [
            "Requirement already satisfied: paddleocr>=2.0.1 in c:\\users\\milan\\documents\\project\\myvenv\\lib\\site-packages (2.8.1)\n",
            "Requirement already satisfied: shapely in c:\\users\\milan\\documents\\project\\myvenv\\lib\\site-packages (from paddleocr>=2.0.1) (2.0.6)\n",
            "Requirement already satisfied: scikit-image in c:\\users\\milan\\documents\\project\\myvenv\\lib\\site-packages (from paddleocr>=2.0.1) (0.24.0)\n",
            "Requirement already satisfied: imgaug in c:\\users\\milan\\documents\\project\\myvenv\\lib\\site-packages (from paddleocr>=2.0.1) (0.4.0)\n",
            "Requirement already satisfied: pyclipper in c:\\users\\milan\\documents\\project\\myvenv\\lib\\site-packages (from paddleocr>=2.0.1) (1.3.0.post5)\n",
            "Requirement already satisfied: lmdb in c:\\users\\milan\\documents\\project\\myvenv\\lib\\site-packages (from paddleocr>=2.0.1) (1.5.1)\n",
            "Requirement already satisfied: tqdm in c:\\users\\milan\\documents\\project\\myvenv\\lib\\site-packages (from paddleocr>=2.0.1) (4.66.5)\n",
            "Requirement already satisfied: numpy<2.0 in c:\\users\\milan\\documents\\project\\myvenv\\lib\\site-packages (from paddleocr>=2.0.1) (1.26.4)\n",
            "Requirement already satisfied: rapidfuzz in c:\\users\\milan\\documents\\project\\myvenv\\lib\\site-packages (from paddleocr>=2.0.1) (3.9.6)\n",
            "Requirement already satisfied: opencv-python in c:\\users\\milan\\documents\\project\\myvenv\\lib\\site-packages (from paddleocr>=2.0.1) (4.10.0.84)\n",
            "Requirement already satisfied: opencv-contrib-python in c:\\users\\milan\\documents\\project\\myvenv\\lib\\site-packages (from paddleocr>=2.0.1) (4.10.0.84)\n",
            "Requirement already satisfied: cython in c:\\users\\milan\\documents\\project\\myvenv\\lib\\site-packages (from paddleocr>=2.0.1) (3.0.11)\n",
            "Requirement already satisfied: Pillow in c:\\users\\milan\\documents\\project\\myvenv\\lib\\site-packages (from paddleocr>=2.0.1) (10.4.0)\n",
            "Requirement already satisfied: pyyaml in c:\\users\\milan\\documents\\project\\myvenv\\lib\\site-packages (from paddleocr>=2.0.1) (6.0.2)\n",
            "Requirement already satisfied: python-docx in c:\\users\\milan\\documents\\project\\myvenv\\lib\\site-packages (from paddleocr>=2.0.1) (1.1.2)\n",
            "Requirement already satisfied: beautifulsoup4 in c:\\users\\milan\\documents\\project\\myvenv\\lib\\site-packages (from paddleocr>=2.0.1) (4.12.3)\n",
            "Requirement already satisfied: fonttools>=4.24.0 in c:\\users\\milan\\documents\\project\\myvenv\\lib\\site-packages (from paddleocr>=2.0.1) (4.53.1)\n",
            "Requirement already satisfied: fire>=0.3.0 in c:\\users\\milan\\documents\\project\\myvenv\\lib\\site-packages (from paddleocr>=2.0.1) (0.6.0)\n",
            "Requirement already satisfied: requests in c:\\users\\milan\\documents\\project\\myvenv\\lib\\site-packages (from paddleocr>=2.0.1) (2.32.3)\n",
            "Requirement already satisfied: six in c:\\users\\milan\\documents\\project\\myvenv\\lib\\site-packages (from fire>=0.3.0->paddleocr>=2.0.1) (1.16.0)\n",
            "Requirement already satisfied: termcolor in c:\\users\\milan\\documents\\project\\myvenv\\lib\\site-packages (from fire>=0.3.0->paddleocr>=2.0.1) (2.4.0)\n",
            "Requirement already satisfied: soupsieve>1.2 in c:\\users\\milan\\documents\\project\\myvenv\\lib\\site-packages (from beautifulsoup4->paddleocr>=2.0.1) (2.6)\n",
            "Requirement already satisfied: scipy in c:\\users\\milan\\documents\\project\\myvenv\\lib\\site-packages (from imgaug->paddleocr>=2.0.1) (1.14.1)\n",
            "Requirement already satisfied: matplotlib in c:\\users\\milan\\documents\\project\\myvenv\\lib\\site-packages (from imgaug->paddleocr>=2.0.1) (3.9.2)\n",
            "Requirement already satisfied: imageio in c:\\users\\milan\\documents\\project\\myvenv\\lib\\site-packages (from imgaug->paddleocr>=2.0.1) (2.35.1)\n",
            "Requirement already satisfied: networkx>=2.8 in c:\\users\\milan\\documents\\project\\myvenv\\lib\\site-packages (from scikit-image->paddleocr>=2.0.1) (3.3)\n",
            "Requirement already satisfied: tifffile>=2022.8.12 in c:\\users\\milan\\documents\\project\\myvenv\\lib\\site-packages (from scikit-image->paddleocr>=2.0.1) (2024.8.30)\n",
            "Requirement already satisfied: packaging>=21 in c:\\users\\milan\\documents\\project\\myvenv\\lib\\site-packages (from scikit-image->paddleocr>=2.0.1) (24.1)\n",
            "Requirement already satisfied: lazy-loader>=0.4 in c:\\users\\milan\\documents\\project\\myvenv\\lib\\site-packages (from scikit-image->paddleocr>=2.0.1) (0.4)\n",
            "Requirement already satisfied: lxml>=3.1.0 in c:\\users\\milan\\documents\\project\\myvenv\\lib\\site-packages (from python-docx->paddleocr>=2.0.1) (5.3.0)\n",
            "Requirement already satisfied: typing-extensions>=4.9.0 in c:\\users\\milan\\documents\\project\\myvenv\\lib\\site-packages (from python-docx->paddleocr>=2.0.1) (4.12.2)\n",
            "Requirement already satisfied: charset-normalizer<4,>=2 in c:\\users\\milan\\documents\\project\\myvenv\\lib\\site-packages (from requests->paddleocr>=2.0.1) (3.3.2)\n",
            "Requirement already satisfied: idna<4,>=2.5 in c:\\users\\milan\\documents\\project\\myvenv\\lib\\site-packages (from requests->paddleocr>=2.0.1) (3.8)\n",
            "Requirement already satisfied: urllib3<3,>=1.21.1 in c:\\users\\milan\\documents\\project\\myvenv\\lib\\site-packages (from requests->paddleocr>=2.0.1) (2.2.2)\n",
            "Requirement already satisfied: certifi>=2017.4.17 in c:\\users\\milan\\documents\\project\\myvenv\\lib\\site-packages (from requests->paddleocr>=2.0.1) (2024.8.30)\n",
            "Requirement already satisfied: colorama in c:\\users\\milan\\documents\\project\\myvenv\\lib\\site-packages (from tqdm->paddleocr>=2.0.1) (0.4.6)\n",
            "Requirement already satisfied: contourpy>=1.0.1 in c:\\users\\milan\\documents\\project\\myvenv\\lib\\site-packages (from matplotlib->imgaug->paddleocr>=2.0.1) (1.3.0)\n",
            "Requirement already satisfied: cycler>=0.10 in c:\\users\\milan\\documents\\project\\myvenv\\lib\\site-packages (from matplotlib->imgaug->paddleocr>=2.0.1) (0.12.1)\n",
            "Requirement already satisfied: kiwisolver>=1.3.1 in c:\\users\\milan\\documents\\project\\myvenv\\lib\\site-packages (from matplotlib->imgaug->paddleocr>=2.0.1) (1.4.5)\n",
            "Requirement already satisfied: pyparsing>=2.3.1 in c:\\users\\milan\\documents\\project\\myvenv\\lib\\site-packages (from matplotlib->imgaug->paddleocr>=2.0.1) (3.1.4)\n",
            "Requirement already satisfied: python-dateutil>=2.7 in c:\\users\\milan\\documents\\project\\myvenv\\lib\\site-packages (from matplotlib->imgaug->paddleocr>=2.0.1) (2.9.0.post0)\n",
            "Collecting protobuf==3.20.0\n",
            "  Downloading protobuf-3.20.0-py2.py3-none-any.whl.metadata (720 bytes)\n",
            "Downloading protobuf-3.20.0-py2.py3-none-any.whl (162 kB)\n",
            "Installing collected packages: protobuf\n",
            "  Attempting uninstall: protobuf\n",
            "    Found existing installation: protobuf 3.20.2\n",
            "    Uninstalling protobuf-3.20.2:\n",
            "      Successfully uninstalled protobuf-3.20.2\n",
            "Successfully installed protobuf-3.20.0\n"
          ]
        },
        {
          "name": "stderr",
          "output_type": "stream",
          "text": [
            "Cloning into 'PaddleOCR'...\n",
            "error: RPC failed; curl 92 HTTP/2 stream 5 was not closed cleanly: CANCEL (err 8)\n",
            "error: 2249 bytes of body are still expected\n",
            "fetch-pack: unexpected disconnect while reading sideband packet\n",
            "fatal: early EOF\n",
            "fatal: fetch-pack: invalid index-pack output\n"
          ]
        }
      ],
      "source": [
        "!pip install \"paddleocr>=2.0.1\"\n",
        "!pip install protobuf==3.20.0\n",
        "!git clone https://github.com/PaddlePaddle/PaddleOCR.git"
      ]
    },
    {
      "cell_type": "code",
      "execution_count": 20,
      "metadata": {
        "colab": {
          "base_uri": "https://localhost:8080/"
        },
        "id": "8gWFgGl5CXu6",
        "outputId": "5d435097-2f57-4806-f454-eeeeb1a02efc"
      },
      "outputs": [
        {
          "name": "stdout",
          "output_type": "stream",
          "text": [
            "Processing c:\\users\\milan\\documents\\project\\youtube\\layoutparser-0.0.0-py3-none-any.whl\n",
            "Requirement already satisfied: numpy in c:\\users\\milan\\documents\\project\\myvenv\\lib\\site-packages (from layoutparser==0.0.0) (1.26.4)\n",
            "Requirement already satisfied: opencv-python in c:\\users\\milan\\documents\\project\\myvenv\\lib\\site-packages (from layoutparser==0.0.0) (4.10.0.84)\n",
            "Requirement already satisfied: pandas in c:\\users\\milan\\documents\\project\\myvenv\\lib\\site-packages (from layoutparser==0.0.0) (2.2.2)\n",
            "Requirement already satisfied: pillow in c:\\users\\milan\\documents\\project\\myvenv\\lib\\site-packages (from layoutparser==0.0.0) (10.4.0)\n",
            "Requirement already satisfied: pyyaml>=5.1 in c:\\users\\milan\\documents\\project\\myvenv\\lib\\site-packages (from layoutparser==0.0.0) (6.0.2)\n",
            "Requirement already satisfied: iopath in c:\\users\\milan\\documents\\project\\myvenv\\lib\\site-packages (from layoutparser==0.0.0) (0.1.10)\n",
            "Requirement already satisfied: tqdm in c:\\users\\milan\\documents\\project\\myvenv\\lib\\site-packages (from layoutparser==0.0.0) (4.66.5)\n",
            "Requirement already satisfied: typing-extensions in c:\\users\\milan\\documents\\project\\myvenv\\lib\\site-packages (from iopath->layoutparser==0.0.0) (4.12.2)\n",
            "Requirement already satisfied: portalocker in c:\\users\\milan\\documents\\project\\myvenv\\lib\\site-packages (from iopath->layoutparser==0.0.0) (2.10.1)\n",
            "Requirement already satisfied: python-dateutil>=2.8.2 in c:\\users\\milan\\documents\\project\\myvenv\\lib\\site-packages (from pandas->layoutparser==0.0.0) (2.9.0.post0)\n",
            "Requirement already satisfied: pytz>=2020.1 in c:\\users\\milan\\documents\\project\\myvenv\\lib\\site-packages (from pandas->layoutparser==0.0.0) (2024.1)\n",
            "Requirement already satisfied: tzdata>=2022.7 in c:\\users\\milan\\documents\\project\\myvenv\\lib\\site-packages (from pandas->layoutparser==0.0.0) (2024.1)\n",
            "Requirement already satisfied: colorama in c:\\users\\milan\\documents\\project\\myvenv\\lib\\site-packages (from tqdm->layoutparser==0.0.0) (0.4.6)\n",
            "Requirement already satisfied: six>=1.5 in c:\\users\\milan\\documents\\project\\myvenv\\lib\\site-packages (from python-dateutil>=2.8.2->pandas->layoutparser==0.0.0) (1.16.0)\n",
            "Requirement already satisfied: pywin32>=226 in c:\\users\\milan\\documents\\project\\myvenv\\lib\\site-packages (from portalocker->iopath->layoutparser==0.0.0) (306)\n",
            "layoutparser is already installed with the same version as the provided wheel. Use --force-reinstall to force an installation of the wheel.\n",
            "Requirement already satisfied: paddlepaddle in c:\\users\\milan\\documents\\project\\myvenv\\lib\\site-packages (2.6.1)\n",
            "Requirement already satisfied: httpx in c:\\users\\milan\\documents\\project\\myvenv\\lib\\site-packages (from paddlepaddle) (0.27.2)\n",
            "Requirement already satisfied: numpy>=1.13 in c:\\users\\milan\\documents\\project\\myvenv\\lib\\site-packages (from paddlepaddle) (1.26.4)\n",
            "Requirement already satisfied: Pillow in c:\\users\\milan\\documents\\project\\myvenv\\lib\\site-packages (from paddlepaddle) (10.4.0)\n",
            "Requirement already satisfied: decorator in c:\\users\\milan\\documents\\project\\myvenv\\lib\\site-packages (from paddlepaddle) (5.1.1)\n",
            "Requirement already satisfied: astor in c:\\users\\milan\\documents\\project\\myvenv\\lib\\site-packages (from paddlepaddle) (0.8.1)\n",
            "Requirement already satisfied: opt-einsum==3.3.0 in c:\\users\\milan\\documents\\project\\myvenv\\lib\\site-packages (from paddlepaddle) (3.3.0)\n",
            "Requirement already satisfied: protobuf<=3.20.2,>=3.1.0 in c:\\users\\milan\\documents\\project\\myvenv\\lib\\site-packages (from paddlepaddle) (3.20.0)\n",
            "Requirement already satisfied: anyio in c:\\users\\milan\\documents\\project\\myvenv\\lib\\site-packages (from httpx->paddlepaddle) (4.4.0)\n",
            "Requirement already satisfied: certifi in c:\\users\\milan\\documents\\project\\myvenv\\lib\\site-packages (from httpx->paddlepaddle) (2024.8.30)\n",
            "Requirement already satisfied: httpcore==1.* in c:\\users\\milan\\documents\\project\\myvenv\\lib\\site-packages (from httpx->paddlepaddle) (1.0.5)\n",
            "Requirement already satisfied: idna in c:\\users\\milan\\documents\\project\\myvenv\\lib\\site-packages (from httpx->paddlepaddle) (3.8)\n",
            "Requirement already satisfied: sniffio in c:\\users\\milan\\documents\\project\\myvenv\\lib\\site-packages (from httpx->paddlepaddle) (1.3.1)\n",
            "Requirement already satisfied: h11<0.15,>=0.13 in c:\\users\\milan\\documents\\project\\myvenv\\lib\\site-packages (from httpcore==1.*->httpx->paddlepaddle) (0.14.0)\n"
          ]
        }
      ],
      "source": [
        "#I download it directly from the site\n",
        "#!curl -O https://paddleocr.bj.bcebos.com/whl/layoutparser-0.0.0-py3-none-any.whl\n",
        "!pip install -U layoutparser-0.0.0-py3-none-any.whl\n",
        "!pip install paddlepaddle"
      ]
    },
    {
      "cell_type": "markdown",
      "metadata": {
        "id": "w5MA08E0F8aU"
      },
      "source": [
        "## Table Extraction"
      ]
    },
    {
      "cell_type": "code",
      "execution_count": 22,
      "metadata": {
        "colab": {
          "base_uri": "https://localhost:8080/"
        },
        "id": "bw9SFYnMCX0E",
        "outputId": "89218fbd-3b01-453e-a191-0d15c8883d03"
      },
      "outputs": [
        {
          "name": "stderr",
          "output_type": "stream",
          "text": [
            "Error: Can not import paddle core while this file exists: c:\\Users\\Milan\\Documents\\Project\\myvenv\\Lib\\site-packages\\paddle\\base\\libpaddle.pyd\n"
          ]
        },
        {
          "ename": "ImportError",
          "evalue": "DLL load failed while importing libpaddle: The specified module could not be found.",
          "output_type": "error",
          "traceback": [
            "\u001b[1;31m---------------------------------------------------------------------------\u001b[0m",
            "\u001b[1;31mImportError\u001b[0m                               Traceback (most recent call last)",
            "Cell \u001b[1;32mIn[22], line 2\u001b[0m\n\u001b[0;32m      1\u001b[0m \u001b[38;5;28;01mimport\u001b[39;00m \u001b[38;5;21;01mcv2\u001b[39;00m\n\u001b[1;32m----> 2\u001b[0m \u001b[38;5;28;01mimport\u001b[39;00m \u001b[38;5;21;01mlayoutparser\u001b[39;00m \u001b[38;5;28;01mas\u001b[39;00m \u001b[38;5;21;01mlp\u001b[39;00m\n\u001b[0;32m      3\u001b[0m image \u001b[38;5;241m=\u001b[39m cv2\u001b[38;5;241m.\u001b[39mimread(\u001b[38;5;124m\"\u001b[39m\u001b[38;5;124mC:\u001b[39m\u001b[38;5;130;01m\\\\\u001b[39;00m\u001b[38;5;124mUsers\u001b[39m\u001b[38;5;130;01m\\\\\u001b[39;00m\u001b[38;5;124mMilan\u001b[39m\u001b[38;5;130;01m\\\\\u001b[39;00m\u001b[38;5;124mDocuments\u001b[39m\u001b[38;5;130;01m\\\\\u001b[39;00m\u001b[38;5;124mProject\u001b[39m\u001b[38;5;130;01m\\\\\u001b[39;00m\u001b[38;5;124myoutube\u001b[39m\u001b[38;5;130;01m\\\\\u001b[39;00m\u001b[38;5;124mpages\u001b[39m\u001b[38;5;130;01m\\\\\u001b[39;00m\u001b[38;5;124mpage6.jpg\u001b[39m\u001b[38;5;124m\"\u001b[39m)\n\u001b[0;32m      5\u001b[0m image \u001b[38;5;241m=\u001b[39m image[\u001b[38;5;241m.\u001b[39m\u001b[38;5;241m.\u001b[39m\u001b[38;5;241m.\u001b[39m, ::\u001b[38;5;241m-\u001b[39m\u001b[38;5;241m1\u001b[39m]\n",
            "File \u001b[1;32mc:\\Users\\Milan\\Documents\\Project\\myvenv\\Lib\\site-packages\\layoutparser\\__init__.py:13\u001b[0m\n\u001b[0;32m      4\u001b[0m \u001b[38;5;28;01mfrom\u001b[39;00m \u001b[38;5;21;01m.\u001b[39;00m\u001b[38;5;21;01melements\u001b[39;00m \u001b[38;5;28;01mimport\u001b[39;00m (\n\u001b[0;32m      5\u001b[0m     Interval, Rectangle, Quadrilateral, \n\u001b[0;32m      6\u001b[0m     TextBlock, Layout\n\u001b[0;32m      7\u001b[0m )\n\u001b[0;32m      9\u001b[0m \u001b[38;5;28;01mfrom\u001b[39;00m \u001b[38;5;21;01m.\u001b[39;00m\u001b[38;5;21;01mvisualization\u001b[39;00m \u001b[38;5;28;01mimport\u001b[39;00m (\n\u001b[0;32m     10\u001b[0m     draw_box, draw_text\n\u001b[0;32m     11\u001b[0m )\n\u001b[1;32m---> 13\u001b[0m \u001b[38;5;28;01mfrom\u001b[39;00m \u001b[38;5;21;01m.\u001b[39;00m\u001b[38;5;21;01mocr\u001b[39;00m \u001b[38;5;28;01mimport\u001b[39;00m (\n\u001b[0;32m     14\u001b[0m     GCVFeatureType, GCVAgent, \n\u001b[0;32m     15\u001b[0m     TesseractFeatureType, TesseractAgent, PaddleocrAgent\n\u001b[0;32m     16\u001b[0m )\n\u001b[0;32m     18\u001b[0m \u001b[38;5;28;01mfrom\u001b[39;00m \u001b[38;5;21;01m.\u001b[39;00m\u001b[38;5;21;01mmodels\u001b[39;00m \u001b[38;5;28;01mimport\u001b[39;00m (\n\u001b[0;32m     19\u001b[0m     Detectron2LayoutModel, PaddleDetectionLayoutModel\n\u001b[0;32m     20\u001b[0m )\n\u001b[0;32m     22\u001b[0m \u001b[38;5;28;01mfrom\u001b[39;00m \u001b[38;5;21;01m.\u001b[39;00m\u001b[38;5;21;01mio\u001b[39;00m \u001b[38;5;28;01mimport\u001b[39;00m (\n\u001b[0;32m     23\u001b[0m     load_json\n\u001b[0;32m     24\u001b[0m )\n",
            "File \u001b[1;32mc:\\Users\\Milan\\Documents\\Project\\myvenv\\Lib\\site-packages\\layoutparser\\ocr.py:14\u001b[0m\n\u001b[0;32m     12\u001b[0m \u001b[38;5;28;01mimport\u001b[39;00m \u001b[38;5;21;01mpandas\u001b[39;00m \u001b[38;5;28;01mas\u001b[39;00m \u001b[38;5;21;01mpd\u001b[39;00m\n\u001b[0;32m     13\u001b[0m \u001b[38;5;28;01mfrom\u001b[39;00m \u001b[38;5;21;01mcv2\u001b[39;00m \u001b[38;5;28;01mimport\u001b[39;00m imencode\n\u001b[1;32m---> 14\u001b[0m \u001b[38;5;28;01mfrom\u001b[39;00m \u001b[38;5;21;01mpaddleocr\u001b[39;00m \u001b[38;5;28;01mimport\u001b[39;00m PaddleOCR\n\u001b[0;32m     16\u001b[0m \u001b[38;5;28;01mfrom\u001b[39;00m \u001b[38;5;21;01m.\u001b[39;00m\u001b[38;5;21;01melements\u001b[39;00m \u001b[38;5;28;01mimport\u001b[39;00m \u001b[38;5;241m*\u001b[39m\n\u001b[0;32m     17\u001b[0m \u001b[38;5;28;01mfrom\u001b[39;00m \u001b[38;5;21;01m.\u001b[39;00m\u001b[38;5;21;01mio\u001b[39;00m \u001b[38;5;28;01mimport\u001b[39;00m load_dataframe\n",
            "File \u001b[1;32mc:\\Users\\Milan\\Documents\\Project\\myvenv\\Lib\\site-packages\\paddleocr\\__init__.py:14\u001b[0m\n\u001b[0;32m      1\u001b[0m \u001b[38;5;66;03m# Copyright (c) 2020 PaddlePaddle Authors. All Rights Reserved.\u001b[39;00m\n\u001b[0;32m      2\u001b[0m \u001b[38;5;66;03m#\u001b[39;00m\n\u001b[0;32m      3\u001b[0m \u001b[38;5;66;03m# Licensed under the Apache License, Version 2.0 (the \"License\");\u001b[39;00m\n\u001b[1;32m   (...)\u001b[0m\n\u001b[0;32m     12\u001b[0m \u001b[38;5;66;03m# See the License for the specific language governing permissions and\u001b[39;00m\n\u001b[0;32m     13\u001b[0m \u001b[38;5;66;03m# limitations under the License.\u001b[39;00m\n\u001b[1;32m---> 14\u001b[0m \u001b[38;5;28;01mfrom\u001b[39;00m \u001b[38;5;21;01m.\u001b[39;00m\u001b[38;5;21;01mpaddleocr\u001b[39;00m \u001b[38;5;28;01mimport\u001b[39;00m \u001b[38;5;241m*\u001b[39m\n\u001b[0;32m     15\u001b[0m \u001b[38;5;28;01mimport\u001b[39;00m \u001b[38;5;21;01mimportlib\u001b[39;00m\u001b[38;5;21;01m.\u001b[39;00m\u001b[38;5;21;01mmetadata\u001b[39;00m \u001b[38;5;28;01mas\u001b[39;00m \u001b[38;5;21;01mimportlib_metadata\u001b[39;00m\n\u001b[0;32m     17\u001b[0m \u001b[38;5;28;01mtry\u001b[39;00m:\n",
            "File \u001b[1;32mc:\\Users\\Milan\\Documents\\Project\\myvenv\\Lib\\site-packages\\paddleocr\\paddleocr.py:21\u001b[0m\n\u001b[0;32m     17\u001b[0m \u001b[38;5;28;01mimport\u001b[39;00m \u001b[38;5;21;01mimportlib\u001b[39;00m\n\u001b[0;32m     19\u001b[0m \u001b[38;5;21m__dir__\u001b[39m \u001b[38;5;241m=\u001b[39m os\u001b[38;5;241m.\u001b[39mpath\u001b[38;5;241m.\u001b[39mdirname(\u001b[38;5;18m__file__\u001b[39m)\n\u001b[1;32m---> 21\u001b[0m \u001b[38;5;28;01mimport\u001b[39;00m \u001b[38;5;21;01mpaddle\u001b[39;00m\n\u001b[0;32m     22\u001b[0m \u001b[38;5;28;01mfrom\u001b[39;00m \u001b[38;5;21;01mpaddle\u001b[39;00m\u001b[38;5;21;01m.\u001b[39;00m\u001b[38;5;21;01mutils\u001b[39;00m \u001b[38;5;28;01mimport\u001b[39;00m try_import\n\u001b[0;32m     24\u001b[0m sys\u001b[38;5;241m.\u001b[39mpath\u001b[38;5;241m.\u001b[39mappend(os\u001b[38;5;241m.\u001b[39mpath\u001b[38;5;241m.\u001b[39mjoin(\u001b[38;5;21m__dir__\u001b[39m, \u001b[38;5;124m\"\u001b[39m\u001b[38;5;124m\"\u001b[39m))\n",
            "File \u001b[1;32mc:\\Users\\Milan\\Documents\\Project\\myvenv\\Lib\\site-packages\\paddle\\__init__.py:28\u001b[0m\n\u001b[0;32m     21\u001b[0m     sys\u001b[38;5;241m.\u001b[39mstderr\u001b[38;5;241m.\u001b[39mwrite(\n\u001b[0;32m     22\u001b[0m \u001b[38;5;250m        \u001b[39m\u001b[38;5;124;03m'''Warning with import paddle: you should not\u001b[39;00m\n\u001b[0;32m     23\u001b[0m \u001b[38;5;124;03m     import paddle from the source directory; please install paddlepaddle*.whl firstly.'''\u001b[39;00m\n\u001b[0;32m     24\u001b[0m     )\n\u001b[0;32m     26\u001b[0m \u001b[38;5;66;03m# NOTE(SigureMo): We should place the import of base.core before other modules,\u001b[39;00m\n\u001b[0;32m     27\u001b[0m \u001b[38;5;66;03m# because there are some initialization codes in base/core/__init__.py.\u001b[39;00m\n\u001b[1;32m---> 28\u001b[0m \u001b[38;5;28;01mfrom\u001b[39;00m \u001b[38;5;21;01m.\u001b[39;00m\u001b[38;5;21;01mbase\u001b[39;00m \u001b[38;5;28;01mimport\u001b[39;00m core  \u001b[38;5;66;03m# noqa: F401\u001b[39;00m\n\u001b[0;32m     29\u001b[0m \u001b[38;5;28;01mfrom\u001b[39;00m \u001b[38;5;21;01m.\u001b[39;00m\u001b[38;5;21;01mbatch\u001b[39;00m \u001b[38;5;28;01mimport\u001b[39;00m batch\n\u001b[0;32m     31\u001b[0m \u001b[38;5;66;03m# Do the *DUPLICATED* monkey-patch for the tensor object.\u001b[39;00m\n\u001b[0;32m     32\u001b[0m \u001b[38;5;66;03m# We need remove the duplicated code here once we fix\u001b[39;00m\n\u001b[0;32m     33\u001b[0m \u001b[38;5;66;03m# the illogical implement in the monkey-patch methods later.\u001b[39;00m\n",
            "File \u001b[1;32mc:\\Users\\Milan\\Documents\\Project\\myvenv\\Lib\\site-packages\\paddle\\base\\__init__.py:36\u001b[0m\n\u001b[0;32m     33\u001b[0m     \u001b[38;5;28;01mexcept\u001b[39;00m \u001b[38;5;167;01mException\u001b[39;00m \u001b[38;5;28;01mas\u001b[39;00m e:\n\u001b[0;32m     34\u001b[0m         \u001b[38;5;28;01mraise\u001b[39;00m e\n\u001b[1;32m---> 36\u001b[0m \u001b[38;5;28;01mfrom\u001b[39;00m \u001b[38;5;21;01m.\u001b[39;00m \u001b[38;5;28;01mimport\u001b[39;00m core\n\u001b[0;32m     38\u001b[0m \u001b[38;5;66;03m# import all class inside framework into base module\u001b[39;00m\n\u001b[0;32m     39\u001b[0m \u001b[38;5;28;01mfrom\u001b[39;00m \u001b[38;5;21;01m.\u001b[39;00m \u001b[38;5;28;01mimport\u001b[39;00m framework\n",
            "File \u001b[1;32mc:\\Users\\Milan\\Documents\\Project\\myvenv\\Lib\\site-packages\\paddle\\base\\core.py:380\u001b[0m\n\u001b[0;32m    375\u001b[0m     \u001b[38;5;28;01mif\u001b[39;00m \u001b[38;5;129;01mnot\u001b[39;00m avx_supported() \u001b[38;5;129;01mand\u001b[39;00m libpaddle\u001b[38;5;241m.\u001b[39mis_compiled_with_avx():\n\u001b[0;32m    376\u001b[0m         sys\u001b[38;5;241m.\u001b[39mstderr\u001b[38;5;241m.\u001b[39mwrite(\n\u001b[0;32m    377\u001b[0m             \u001b[38;5;124m\"\u001b[39m\u001b[38;5;124mError: Your machine doesn\u001b[39m\u001b[38;5;124m'\u001b[39m\u001b[38;5;124mt support AVX, but the installed PaddlePaddle is avx core, \u001b[39m\u001b[38;5;124m\"\u001b[39m\n\u001b[0;32m    378\u001b[0m             \u001b[38;5;124m\"\u001b[39m\u001b[38;5;124myou should reinstall paddlepaddle with no-avx core.\u001b[39m\u001b[38;5;130;01m\\n\u001b[39;00m\u001b[38;5;124m\"\u001b[39m\n\u001b[0;32m    379\u001b[0m         )\n\u001b[1;32m--> 380\u001b[0m     \u001b[38;5;28;01mraise\u001b[39;00m e\n\u001b[0;32m    383\u001b[0m \u001b[38;5;28;01mdef\u001b[39;00m \u001b[38;5;21mset_paddle_custom_device_lib_path\u001b[39m(lib_path):\n\u001b[0;32m    384\u001b[0m     \u001b[38;5;28;01mif\u001b[39;00m os\u001b[38;5;241m.\u001b[39menviron\u001b[38;5;241m.\u001b[39mget(\u001b[38;5;124m'\u001b[39m\u001b[38;5;124mCUSTOM_DEVICE_ROOT\u001b[39m\u001b[38;5;124m'\u001b[39m, \u001b[38;5;28;01mNone\u001b[39;00m) \u001b[38;5;129;01mis\u001b[39;00m \u001b[38;5;129;01mnot\u001b[39;00m \u001b[38;5;28;01mNone\u001b[39;00m:\n\u001b[0;32m    385\u001b[0m         \u001b[38;5;66;03m# use setted environment value\u001b[39;00m\n",
            "File \u001b[1;32mc:\\Users\\Milan\\Documents\\Project\\myvenv\\Lib\\site-packages\\paddle\\base\\core.py:268\u001b[0m\n\u001b[0;32m    265\u001b[0m             sys\u001b[38;5;241m.\u001b[39mstderr\u001b[38;5;241m.\u001b[39mwrite(\u001b[38;5;124m'\u001b[39m\u001b[38;5;124mError: Can not preload libgomp.so\u001b[39m\u001b[38;5;124m'\u001b[39m)\n\u001b[0;32m    267\u001b[0m \u001b[38;5;28;01mtry\u001b[39;00m:\n\u001b[1;32m--> 268\u001b[0m     \u001b[38;5;28;01mfrom\u001b[39;00m \u001b[38;5;21;01m.\u001b[39;00m \u001b[38;5;28;01mimport\u001b[39;00m libpaddle\n\u001b[0;32m    270\u001b[0m     \u001b[38;5;28;01mif\u001b[39;00m avx_supported() \u001b[38;5;129;01mand\u001b[39;00m \u001b[38;5;129;01mnot\u001b[39;00m libpaddle\u001b[38;5;241m.\u001b[39mis_compiled_with_avx():\n\u001b[0;32m    271\u001b[0m         sys\u001b[38;5;241m.\u001b[39mstderr\u001b[38;5;241m.\u001b[39mwrite(\n\u001b[0;32m    272\u001b[0m             \u001b[38;5;124m\"\u001b[39m\u001b[38;5;124mHint: Your machine support AVX, but the installed paddlepaddle doesn\u001b[39m\u001b[38;5;124m'\u001b[39m\u001b[38;5;124mt have avx core. \u001b[39m\u001b[38;5;124m\"\u001b[39m\n\u001b[0;32m    273\u001b[0m             \u001b[38;5;124m\"\u001b[39m\u001b[38;5;124mHence, no-avx core with worse performance will be imported.\u001b[39m\u001b[38;5;130;01m\\n\u001b[39;00m\u001b[38;5;124mIf you like, you could \u001b[39m\u001b[38;5;124m\"\u001b[39m\n\u001b[0;32m    274\u001b[0m             \u001b[38;5;124m\"\u001b[39m\u001b[38;5;124mreinstall paddlepaddle by \u001b[39m\u001b[38;5;124m'\u001b[39m\u001b[38;5;124mpython -m pip install --force-reinstall paddlepaddle-gpu[==version]\u001b[39m\u001b[38;5;124m'\u001b[39m\u001b[38;5;124m \u001b[39m\u001b[38;5;124m\"\u001b[39m\n\u001b[0;32m    275\u001b[0m             \u001b[38;5;124m\"\u001b[39m\u001b[38;5;124mto get better performance.\u001b[39m\u001b[38;5;130;01m\\n\u001b[39;00m\u001b[38;5;124m\"\u001b[39m\n\u001b[0;32m    276\u001b[0m         )\n",
            "\u001b[1;31mImportError\u001b[0m: DLL load failed while importing libpaddle: The specified module could not be found."
          ]
        }
      ],
      "source": [
        "import cv2\n",
        "import layoutparser as lp\n",
        "image = cv2.imread(\"C:\\\\Users\\\\Milan\\\\Documents\\\\Project\\\\youtube\\\\pages\\\\page6.jpg\")\n",
        "\n",
        "image = image[..., ::-1]\n",
        "\n",
        "# load model\n",
        "model = lp.PaddleDetectionLayoutModel(config_path=\"lp://PubLayNet/ppyolov2_r50vd_dcn_365e_publaynet/config\",\n",
        "                                threshold=0.5,\n",
        "                                label_map={0: \"Text\", 1: \"Title\", 2: \"List\", 3:\"Table\", 4:\"Figure\"},\n",
        "                                enforce_cpu=False,\n",
        "                                enable_mkldnn=True)#math kernel library\n",
        "# detect\n",
        "layout = model.detect(image)"
      ]
    },
    {
      "cell_type": "code",
      "execution_count": null,
      "metadata": {
        "colab": {
          "base_uri": "https://localhost:8080/"
        },
        "id": "G76oO2WXCX6v",
        "outputId": "2b0f9ed6-ff8c-4b46-b69c-5e3961d017d4"
      },
      "outputs": [
        {
          "data": {
            "text/plain": [
              "Layout(_blocks=[TextBlock(block=Rectangle(x_1=300.35406494140625, y_1=1716.4278564453125, x_2=1401.105712890625, y_2=1876.4561767578125), text=None, id=None, type=Text, parent=None, next=None, score=0.947794497013092), TextBlock(block=Rectangle(x_1=296.242431640625, y_1=1969.3675537109375, x_2=1405.8653564453125, y_2=2034.4422607421875), text=None, id=None, type=Text, parent=None, next=None, score=0.934190034866333), TextBlock(block=Rectangle(x_1=296.2332763671875, y_1=1460.10986328125, x_2=1401.1175537109375, y_2=1553.036865234375), text=None, id=None, type=Text, parent=None, next=None, score=0.924132227897644), TextBlock(block=Rectangle(x_1=294.98626708984375, y_1=444.1419677734375, x_2=1408.130126953125, y_2=567.1005249023438), text=None, id=None, type=Text, parent=None, next=None, score=0.9196642637252808), TextBlock(block=Rectangle(x_1=300.4600830078125, y_1=1669.076171875, x_2=711.9566040039062, y_2=1697.28076171875), text=None, id=None, type=Title, parent=None, next=None, score=0.8556817770004272), TextBlock(block=Rectangle(x_1=297.86297607421875, y_1=220.03121948242188, x_2=1409.0029296875, y_2=418.0099182128906), text=None, id=None, type=Table, parent=None, next=None, score=0.7598645091056824), TextBlock(block=Rectangle(x_1=298.9613342285156, y_1=1601.4661865234375, x_2=687.694580078125, y_2=1633.7120361328125), text=None, id=None, type=Title, parent=None, next=None, score=0.7429183125495911), TextBlock(block=Rectangle(x_1=295.4989318847656, y_1=1405.8271484375, x_2=551.2619018554688, y_2=1438.658203125), text=None, id=None, type=Title, parent=None, next=None, score=0.6753251552581787), TextBlock(block=Rectangle(x_1=282.51495361328125, y_1=647.5087890625, x_2=1415.5732421875, y_2=1368.4254150390625), text=None, id=None, type=List, parent=None, next=None, score=0.6743354201316833), TextBlock(block=Rectangle(x_1=298.611328125, y_1=1063.1019287109375, x_2=366.89483642578125, y_2=1092.1378173828125), text=None, id=None, type=Text, parent=None, next=None, score=0.6345258951187134), TextBlock(block=Rectangle(x_1=298.71820068359375, y_1=1171.6640625, x_2=998.8455200195312, y_2=1205.39306640625), text=None, id=None, type=Text, parent=None, next=None, score=0.6338083148002625), TextBlock(block=Rectangle(x_1=294.16180419921875, y_1=931.6088256835938, x_2=1402.220458984375, y_2=996.5545043945312), text=None, id=None, type=Text, parent=None, next=None, score=0.5081444382667542)], page_data={})"
            ]
          },
          "execution_count": 13,
          "metadata": {},
          "output_type": "execute_result"
        }
      ],
      "source": [
        "layout"
      ]
    },
    {
      "cell_type": "code",
      "execution_count": null,
      "metadata": {
        "colab": {
          "base_uri": "https://localhost:8080/"
        },
        "id": "y3h0kCz-CX_U",
        "outputId": "5b44d211-694b-409f-df7c-69189d4b448f"
      },
      "outputs": [
        {
          "name": "stdout",
          "output_type": "stream",
          "text": [
            "297.86298\n"
          ]
        }
      ],
      "source": [
        "x_1=0\n",
        "y_1=0\n",
        "x_2=0\n",
        "y_2=0\n",
        "\n",
        "for l in layout:\n",
        "  #print(l)\n",
        "  if l.type == 'Table':\n",
        "    x_1 = int(l.block.x_1)\n",
        "    print(l.block.x_1)\n",
        "    y_1 = int(l.block.y_1)\n",
        "    x_2 = int(l.block.x_2)\n",
        "    y_2 = int(l.block.y_2)\n",
        "\n",
        "    break"
      ]
    },
    {
      "cell_type": "code",
      "execution_count": null,
      "metadata": {
        "colab": {
          "base_uri": "https://localhost:8080/"
        },
        "id": "cdiYPeCJCYIg",
        "outputId": "4160ed2b-e1d1-4174-dd2e-55bee31167f3"
      },
      "outputs": [
        {
          "name": "stdout",
          "output_type": "stream",
          "text": [
            "297 220 1409 418\n"
          ]
        }
      ],
      "source": [
        "print(x_1,y_1,x_2,y_2)"
      ]
    },
    {
      "cell_type": "code",
      "execution_count": null,
      "metadata": {
        "id": "F39kJV3hCYLV"
      },
      "outputs": [],
      "source": [
        "im = cv2.imread('/content/pages/page13.jpg')"
      ]
    },
    {
      "cell_type": "code",
      "execution_count": null,
      "metadata": {
        "colab": {
          "base_uri": "https://localhost:8080/"
        },
        "id": "EQDXSNijCYPs",
        "outputId": "9c0e6954-da96-491b-efcb-318dc5410561"
      },
      "outputs": [
        {
          "data": {
            "text/plain": [
              "True"
            ]
          },
          "execution_count": 17,
          "metadata": {},
          "output_type": "execute_result"
        }
      ],
      "source": [
        "cv2.imwrite('ext_im.jpg', im[y_1:y_2,x_1:x_2])"
      ]
    },
    {
      "cell_type": "code",
      "execution_count": null,
      "metadata": {
        "id": "7O2P4aIMor_e"
      },
      "outputs": [],
      "source": []
    },
    {
      "cell_type": "markdown",
      "metadata": {
        "id": "EGwGhHnd8i_h"
      },
      "source": [
        "# Text Detection and Recognition"
      ]
    },
    {
      "cell_type": "code",
      "execution_count": null,
      "metadata": {
        "id": "N6WQZXhLLDWk"
      },
      "outputs": [],
      "source": [
        "from paddleocr import PaddleOCR, draw_ocr"
      ]
    },
    {
      "cell_type": "code",
      "execution_count": null,
      "metadata": {
        "colab": {
          "base_uri": "https://localhost:8080/"
        },
        "id": "A8bCZ9AULDZF",
        "outputId": "78de4243-7a38-4378-8dfd-063004300535"
      },
      "outputs": [
        {
          "name": "stdout",
          "output_type": "stream",
          "text": [
            "download https://paddleocr.bj.bcebos.com/PP-OCRv3/english/en_PP-OCRv3_det_infer.tar to /root/.paddleocr/whl/det/en/en_PP-OCRv3_det_infer/en_PP-OCRv3_det_infer.tar\n"
          ]
        },
        {
          "name": "stderr",
          "output_type": "stream",
          "text": [
            "100%|██████████| 4.00M/4.00M [00:07<00:00, 505kiB/s] \n"
          ]
        },
        {
          "name": "stdout",
          "output_type": "stream",
          "text": [
            "download https://paddleocr.bj.bcebos.com/PP-OCRv3/english/en_PP-OCRv3_rec_infer.tar to /root/.paddleocr/whl/rec/en/en_PP-OCRv3_rec_infer/en_PP-OCRv3_rec_infer.tar\n"
          ]
        },
        {
          "name": "stderr",
          "output_type": "stream",
          "text": [
            "100%|██████████| 9.96M/9.96M [00:14<00:00, 693kiB/s] \n"
          ]
        },
        {
          "name": "stdout",
          "output_type": "stream",
          "text": [
            "download https://paddleocr.bj.bcebos.com/dygraph_v2.0/ch/ch_ppocr_mobile_v2.0_cls_infer.tar to /root/.paddleocr/whl/cls/ch_ppocr_mobile_v2.0_cls_infer/ch_ppocr_mobile_v2.0_cls_infer.tar\n"
          ]
        },
        {
          "name": "stderr",
          "output_type": "stream",
          "text": [
            "100%|██████████| 2.19M/2.19M [00:11<00:00, 190kiB/s]"
          ]
        },
        {
          "name": "stdout",
          "output_type": "stream",
          "text": [
            "[2022/11/18 13:00:00] ppocr DEBUG: Namespace(alpha=1.0, benchmark=False, beta=1.0, cls_batch_num=6, cls_image_shape='3, 48, 192', cls_model_dir='/root/.paddleocr/whl/cls/ch_ppocr_mobile_v2.0_cls_infer', cls_thresh=0.9, cpu_threads=10, crop_res_save_dir='./output', det=True, det_algorithm='DB', det_box_type='quad', det_db_box_thresh=0.6, det_db_score_mode='fast', det_db_thresh=0.3, det_db_unclip_ratio=1.5, det_east_cover_thresh=0.1, det_east_nms_thresh=0.2, det_east_score_thresh=0.8, det_limit_side_len=960, det_limit_type='max', det_model_dir='/root/.paddleocr/whl/det/en/en_PP-OCRv3_det_infer', det_pse_box_thresh=0.85, det_pse_min_area=16, det_pse_scale=1, det_pse_thresh=0, det_sast_nms_thresh=0.2, det_sast_score_thresh=0.5, draw_img_save_dir='./inference_results', drop_score=0.5, e2e_algorithm='PGNet', e2e_char_dict_path='./ppocr/utils/ic15_dict.txt', e2e_limit_side_len=768, e2e_limit_type='max', e2e_model_dir=None, e2e_pgnet_mode='fast', e2e_pgnet_score_thresh=0.5, e2e_pgnet_valid_set='totaltext', enable_mkldnn=False, fourier_degree=5, gpu_mem=500, help='==SUPPRESS==', image_dir=None, image_orientation=False, ir_optim=True, kie_algorithm='LayoutXLM', label_list=['0', '180'], lang='en', layout=True, layout_dict_path=None, layout_model_dir=None, layout_nms_threshold=0.5, layout_score_threshold=0.5, max_batch_size=10, max_text_length=25, merge_no_span_structure=True, min_subgraph_size=15, mode='structure', ocr=True, ocr_order_method=None, ocr_version='PP-OCRv3', output='./output', page_num=0, precision='fp32', process_id=0, re_model_dir=None, rec=True, rec_algorithm='SVTR_LCNet', rec_batch_num=6, rec_char_dict_path='/usr/local/lib/python3.7/dist-packages/paddleocr/ppocr/utils/en_dict.txt', rec_image_inverse=True, rec_image_shape='3, 48, 320', rec_model_dir='/root/.paddleocr/whl/rec/en/en_PP-OCRv3_rec_infer', recovery=False, save_crop_res=False, save_log_path='./log_output/', scales=[8, 16, 32], ser_dict_path='../train_data/XFUND/class_list_xfun.txt', ser_model_dir=None, show_log=True, sr_batch_num=1, sr_image_shape='3, 32, 128', sr_model_dir=None, structure_version='PP-Structurev2', table=True, table_algorithm='TableAttn', table_char_dict_path=None, table_max_len=488, table_model_dir=None, total_process_num=1, type='ocr', use_angle_cls=False, use_dilation=False, use_gpu=True, use_mp=False, use_npu=False, use_onnx=False, use_pdf2docx_api=False, use_pdserving=False, use_space_char=True, use_tensorrt=False, use_visual_backbone=True, use_xpu=False, vis_font_path='./doc/fonts/simfang.ttf', warmup=False)\n"
          ]
        },
        {
          "name": "stderr",
          "output_type": "stream",
          "text": [
            "\n"
          ]
        },
        {
          "name": "stdout",
          "output_type": "stream",
          "text": [
            "[2022/11/18 13:00:00] ppocr WARNING: Since the angle classifier is not initialized, the angle classifier will not be uesd during the forward process\n",
            "[2022/11/18 13:00:01] ppocr DEBUG: dt_boxes num : 42, elapse : 0.12288975715637207\n",
            "[2022/11/18 13:00:01] ppocr DEBUG: rec_res num  : 42, elapse : 0.12553930282592773\n"
          ]
        }
      ],
      "source": [
        "ocr = PaddleOCR(lang='en')\n",
        "image_path = '/content/ext_im.jpg'\n",
        "image_cv = cv2.imread(image_path)\n",
        "image_height = image_cv.shape[0]\n",
        "image_width = image_cv.shape[1]\n",
        "output = ocr.ocr(image_path)[0]"
      ]
    },
    {
      "cell_type": "code",
      "execution_count": null,
      "metadata": {
        "colab": {
          "base_uri": "https://localhost:8080/"
        },
        "id": "VBIDZA0XLDeA",
        "outputId": "b86018c1-5b24-4897-9174-a34299909bf7"
      },
      "outputs": [
        {
          "name": "stdout",
          "output_type": "stream",
          "text": [
            "[[[[693.0, 4.0], [755.0, 4.0], [755.0, 36.0], [693.0, 36.0]], ('GPU', 0.9990124106407166)], [[[70.0, 5.0], [148.0, 5.0], [148.0, 36.0], [70.0, 36.0]], ('Model', 0.9997721910476685)], [[[230.0, 5.0], [394.0, 8.0], [394.0, 37.0], [229.0, 35.0]], ('Updates (105)', 0.9652137756347656)], [[[425.0, 5.0], [511.0, 5.0], [511.0, 36.0], [425.0, 36.0]], ('Epochs', 0.9998965263366699)], [[[537.0, 5.0], [612.0, 5.0], [612.0, 36.0], [537.0, 36.0]], ('Hours', 0.9620624780654907)], [[[833.0, 4.0], [958.0, 4.0], [958.0, 33.0], [833.0, 33.0]], ('Train NLL', 0.9994094371795654)], [[[988.0, 6.0], [1104.0, 6.0], [1104.0, 32.0], [988.0, 32.0]], ('Dev.NLL', 0.9872051477432251)], [[[42.0, 47.0], [177.0, 47.0], [177.0, 72.0], [42.0, 72.0]], ('RNNenc-30', 0.9995856881141663)], [[[285.0, 46.0], [341.0, 46.0], [341.0, 74.0], [285.0, 74.0]], ('8.46', 0.9999933242797852)], [[[446.0, 46.0], [489.0, 46.0], [489.0, 74.0], [446.0, 74.0]], ('6.4', 0.9964627623558044)], [[[553.0, 45.0], [599.0, 45.0], [599.0, 74.0], [553.0, 74.0]], ('109', 0.9999635815620422)], [[[641.0, 47.0], [805.0, 47.0], [805.0, 72.0], [641.0, 72.0]], ('TITAN BLACK', 0.9913126230239868)], [[[869.0, 43.0], [923.0, 43.0], [923.0, 75.0], [869.0, 75.0]], ('28.1', 0.999950110912323)], [[[1019.0, 46.0], [1075.0, 46.0], [1075.0, 74.0], [1019.0, 74.0]], ('53.0', 0.999934196472168)], [[[41.0, 75.0], [177.0, 75.0], [177.0, 101.0], [41.0, 101.0]], ('RNNenc-50', 0.9980602264404297)], [[[285.0, 75.0], [341.0, 75.0], [341.0, 104.0], [285.0, 104.0]], ('6.00', 0.9998406171798706)], [[[446.0, 74.0], [489.0, 74.0], [489.0, 104.0], [446.0, 104.0]], ('4.5', 0.9982914924621582)], [[[553.0, 74.0], [599.0, 74.0], [599.0, 104.0], [553.0, 104.0]], ('108', 0.9998137950897217)], [[[644.0, 78.0], [804.0, 78.0], [804.0, 103.0], [644.0, 103.0]], ('Quadro K-6000', 0.9990899562835693)], [[[868.0, 73.0], [927.0, 73.0], [927.0, 105.0], [868.0, 105.0]], ('44.0', 0.999671459197998)], [[[1017.0, 73.0], [1076.0, 73.0], [1076.0, 105.0], [1017.0, 105.0]], ('43.6', 0.9998911619186401)], [[[27.0, 109.0], [193.0, 109.0], [193.0, 134.0], [27.0, 134.0]], ('RNNsearch-30', 0.9990729689598083)], [[[284.0, 108.0], [338.0, 108.0], [338.0, 136.0], [284.0, 136.0]], ('4.71', 0.9994158744812012)], [[[445.0, 108.0], [489.0, 108.0], [489.0, 136.0], [445.0, 136.0]], ('3.6', 0.9944102168083191)], [[[553.0, 108.0], [599.0, 108.0], [599.0, 136.0], [553.0, 136.0]], ('113', 0.9994351267814636)], [[[643.0, 111.0], [804.0, 111.0], [804.0, 132.0], [643.0, 132.0]], ('TITAN BLACK', 0.9635356664657593)], [[[870.0, 108.0], [923.0, 108.0], [923.0, 136.0], [870.0, 136.0]], ('26.7', 0.9992948770523071)], [[[1018.0, 108.0], [1074.0, 108.0], [1074.0, 136.0], [1018.0, 136.0]], ('47.2', 0.9993252158164978)], [[[25.0, 139.0], [193.0, 139.0], [193.0, 163.0], [25.0, 163.0]], ('RNNsearch-50', 0.9973625540733337)], [[[285.0, 137.0], [339.0, 137.0], [339.0, 166.0], [285.0, 166.0]], ('2.88', 0.9999485015869141)], [[[445.0, 134.0], [489.0, 134.0], [489.0, 168.0], [445.0, 168.0]], ('2.2', 0.9979038238525391)], [[[551.0, 137.0], [598.0, 137.0], [598.0, 166.0], [551.0, 166.0]], ('111', 0.9987512230873108)], [[[643.0, 140.0], [804.0, 140.0], [804.0, 165.0], [643.0, 165.0]], ('Quadro K-6000', 0.9971157908439636)], [[[870.0, 137.0], [924.0, 137.0], [924.0, 166.0], [870.0, 166.0]], ('40.7', 0.9991925954818726)], [[[1018.0, 135.0], [1075.0, 135.0], [1075.0, 167.0], [1018.0, 167.0]], ('38.1', 0.9999594688415527)], [[[21.0, 172.0], [196.0, 172.0], [196.0, 193.0], [21.0, 193.0]], ('RNNsearch-50*', 0.9954861402511597)], [[[285.0, 170.0], [338.0, 170.0], [338.0, 197.0], [285.0, 197.0]], ('6.67', 0.9998753666877747)], [[[446.0, 170.0], [489.0, 170.0], [489.0, 197.0], [446.0, 197.0]], ('5.0', 0.9963653683662415)], [[[551.0, 170.0], [600.0, 170.0], [600.0, 197.0], [551.0, 197.0]], ('252', 0.9991322159767151)], [[[644.0, 172.0], [804.0, 172.0], [804.0, 197.0], [644.0, 197.0]], ('Quadro K-6000', 0.9994592666625977)], [[[870.0, 170.0], [923.0, 170.0], [923.0, 197.0], [870.0, 197.0]], ('36.7', 0.9990472793579102)], [[[1019.0, 170.0], [1074.0, 170.0], [1074.0, 197.0], [1019.0, 197.0]], ('35.2', 0.9986913204193115)]]\n"
          ]
        }
      ],
      "source": [
        "print(output)"
      ]
    },
    {
      "cell_type": "code",
      "execution_count": null,
      "metadata": {
        "id": "nNMBAQ78LDgG"
      },
      "outputs": [],
      "source": [
        "boxes = [line[0] for line in output]\n",
        "texts = [line[1][0] for line in output]\n",
        "probabilities = [line[1][1] for line in output]"
      ]
    },
    {
      "cell_type": "code",
      "execution_count": null,
      "metadata": {
        "id": "uukcg4SWV_dg"
      },
      "outputs": [],
      "source": [
        "image_boxes = image_cv.copy()\n"
      ]
    },
    {
      "cell_type": "code",
      "execution_count": null,
      "metadata": {
        "id": "l_HzbiA7V_fw"
      },
      "outputs": [],
      "source": [
        "for box,text in zip(boxes,texts):\n",
        "  cv2.rectangle(image_boxes, (int(box[0][0]),int(box[0][1])), (int(box[2][0]),int(box[2][1])),(0,0,255),1)\n",
        "  cv2.putText(image_boxes, text,(int(box[0][0]),int(box[0][1])),cv2.FONT_HERSHEY_SIMPLEX,1,(222,0,0),1)"
      ]
    },
    {
      "cell_type": "code",
      "execution_count": null,
      "metadata": {
        "colab": {
          "base_uri": "https://localhost:8080/"
        },
        "id": "PfUG9mcgV_iJ",
        "outputId": "b97aaa44-61b9-4a62-dd01-c8c26b66e9c7"
      },
      "outputs": [
        {
          "data": {
            "text/plain": [
              "True"
            ]
          },
          "execution_count": 24,
          "metadata": {},
          "output_type": "execute_result"
        }
      ],
      "source": [
        "cv2.imwrite('detections.jpg', image_boxes)"
      ]
    },
    {
      "cell_type": "markdown",
      "metadata": {
        "id": "kYWt0lzDHZNp"
      },
      "source": [
        "# Reconstruction"
      ]
    },
    {
      "cell_type": "markdown",
      "metadata": {
        "id": "ruzifYJz4H6y"
      },
      "source": [
        "## Get Horizontal and Vertical Lines"
      ]
    },
    {
      "cell_type": "code",
      "execution_count": null,
      "metadata": {
        "id": "YLIoKedcqby_"
      },
      "outputs": [],
      "source": [
        "im = image_cv.copy()"
      ]
    },
    {
      "cell_type": "code",
      "execution_count": null,
      "metadata": {
        "id": "GwcAAe-wccnF"
      },
      "outputs": [],
      "source": [
        "horiz_boxes = []\n",
        "vert_boxes = []\n",
        "\n",
        "for box in boxes:\n",
        "  x_h, x_v = 0,int(box[0][0])\n",
        "  y_h, y_v = int(box[0][1]),0\n",
        "  width_h,width_v = image_width, int(box[2][0]-box[0][0])\n",
        "  height_h,height_v = int(box[2][1]-box[0][1]),image_height\n",
        "\n",
        "  horiz_boxes.append([x_h,y_h,x_h+width_h,y_h+height_h])\n",
        "  vert_boxes.append([x_v,y_v,x_v+width_v,y_v+height_v])\n",
        "\n",
        "  cv2.rectangle(im,(x_h,y_h), (x_h+width_h,y_h+height_h),(0,0,255),1)\n",
        "  cv2.rectangle(im,(x_v,y_v), (x_v+width_v,y_v+height_v),(0,255,0),1)\n"
      ]
    },
    {
      "cell_type": "code",
      "execution_count": null,
      "metadata": {
        "colab": {
          "base_uri": "https://localhost:8080/"
        },
        "id": "7UxFGhMkccph",
        "outputId": "344b62aa-8bbf-46e0-ccea-bd1c5eb60e3a"
      },
      "outputs": [
        {
          "data": {
            "text/plain": [
              "True"
            ]
          },
          "execution_count": 27,
          "metadata": {},
          "output_type": "execute_result"
        }
      ],
      "source": [
        "cv2.imwrite('horiz_vert.jpg',im)"
      ]
    },
    {
      "cell_type": "markdown",
      "metadata": {
        "id": "ekVFvJrM4ROL"
      },
      "source": [
        "## Non-Max Suppression"
      ]
    },
    {
      "cell_type": "code",
      "execution_count": null,
      "metadata": {
        "id": "4LVSSB2fcoe7"
      },
      "outputs": [],
      "source": [
        "horiz_out = tf.image.non_max_suppression(\n",
        "    horiz_boxes,\n",
        "    probabilities,\n",
        "    max_output_size = 1000,\n",
        "    iou_threshold=0.1,\n",
        "    score_threshold=float('-inf'),\n",
        "    name=None\n",
        ")"
      ]
    },
    {
      "cell_type": "code",
      "execution_count": null,
      "metadata": {
        "colab": {
          "base_uri": "https://localhost:8080/"
        },
        "id": "pOboYpGnccr2",
        "outputId": "02933914-32bb-4b3d-88bb-72745b6dda8b"
      },
      "outputs": [
        {
          "name": "stdout",
          "output_type": "stream",
          "text": [
            "[ 3  8 20 24 34 36]\n"
          ]
        }
      ],
      "source": [
        "horiz_lines = np.sort(np.array(horiz_out))\n",
        "print(horiz_lines)"
      ]
    },
    {
      "cell_type": "code",
      "execution_count": null,
      "metadata": {
        "id": "pfxHrn3iccyK"
      },
      "outputs": [],
      "source": [
        "im_nms = image_cv.copy()"
      ]
    },
    {
      "cell_type": "code",
      "execution_count": null,
      "metadata": {
        "id": "68PCHfmZcc0L"
      },
      "outputs": [],
      "source": [
        "for val in horiz_lines:\n",
        "  cv2.rectangle(im_nms, (int(horiz_boxes[val][0]),int(horiz_boxes[val][1])), (int(horiz_boxes[val][2]),int(horiz_boxes[val][3])),(0,0,255),1)\n"
      ]
    },
    {
      "cell_type": "code",
      "execution_count": null,
      "metadata": {
        "colab": {
          "base_uri": "https://localhost:8080/"
        },
        "id": "Z8r9qpiAcc2X",
        "outputId": "9510d3cf-3870-4c77-b9ff-dd903f9a7902"
      },
      "outputs": [
        {
          "data": {
            "text/plain": [
              "True"
            ]
          },
          "execution_count": 32,
          "metadata": {},
          "output_type": "execute_result"
        }
      ],
      "source": [
        "cv2.imwrite('im_nms.jpg',im_nms)"
      ]
    },
    {
      "cell_type": "code",
      "execution_count": null,
      "metadata": {
        "id": "mKgPuh7rcc4s"
      },
      "outputs": [],
      "source": [
        "vert_out = tf.image.non_max_suppression(\n",
        "    vert_boxes,\n",
        "    probabilities,\n",
        "    max_output_size = 1000,\n",
        "    iou_threshold=0.1,\n",
        "    score_threshold=float('-inf'),\n",
        "    name=None\n",
        ")"
      ]
    },
    {
      "cell_type": "code",
      "execution_count": null,
      "metadata": {
        "colab": {
          "base_uri": "https://localhost:8080/"
        },
        "id": "GBpKsImVcc6p",
        "outputId": "f7bfbf04-9318-4230-f9df-98101fc7cadd"
      },
      "outputs": [
        {
          "name": "stdout",
          "output_type": "stream",
          "text": [
            "tf.Tensor([ 8 10 34 12  3  1 39], shape=(7,), dtype=int32)\n"
          ]
        }
      ],
      "source": [
        "print(vert_out)"
      ]
    },
    {
      "cell_type": "code",
      "execution_count": null,
      "metadata": {
        "colab": {
          "base_uri": "https://localhost:8080/"
        },
        "id": "K0lBh-yz5YLp",
        "outputId": "31a4ea8a-27ce-4b53-9bdb-9857c65ebdaa"
      },
      "outputs": [
        {
          "name": "stdout",
          "output_type": "stream",
          "text": [
            "[ 1  3  8 10 12 34 39]\n"
          ]
        }
      ],
      "source": [
        "vert_lines = np.sort(np.array(vert_out))\n",
        "print(vert_lines)"
      ]
    },
    {
      "cell_type": "code",
      "execution_count": null,
      "metadata": {
        "id": "WqsLm0L_cc84"
      },
      "outputs": [],
      "source": [
        "for val in vert_lines:\n",
        "  cv2.rectangle(im_nms, (int(vert_boxes[val][0]),int(vert_boxes[val][1])), (int(vert_boxes[val][2]),int(vert_boxes[val][3])),(255,0,0),1)\n"
      ]
    },
    {
      "cell_type": "code",
      "execution_count": null,
      "metadata": {
        "colab": {
          "base_uri": "https://localhost:8080/"
        },
        "id": "xZOEa7lpcdGM",
        "outputId": "a92cbce5-7529-4b3b-f4b5-2c016904ab21"
      },
      "outputs": [
        {
          "data": {
            "text/plain": [
              "True"
            ]
          },
          "execution_count": 37,
          "metadata": {},
          "output_type": "execute_result"
        }
      ],
      "source": [
        "cv2.imwrite('im_nms.jpg',im_nms)"
      ]
    },
    {
      "cell_type": "markdown",
      "metadata": {
        "id": "116eBUrO93-i"
      },
      "source": [
        "## Convert to CSV"
      ]
    },
    {
      "cell_type": "code",
      "execution_count": null,
      "metadata": {
        "colab": {
          "base_uri": "https://localhost:8080/"
        },
        "id": "HRQzwVUTcdIq",
        "outputId": "93b6914b-c713-48e0-ecaf-87a764a48d13"
      },
      "outputs": [
        {
          "name": "stdout",
          "output_type": "stream",
          "text": [
            "(6, 7)\n",
            "[['', '', '', '', '', '', ''], ['', '', '', '', '', '', ''], ['', '', '', '', '', '', ''], ['', '', '', '', '', '', ''], ['', '', '', '', '', '', ''], ['', '', '', '', '', '', '']]\n"
          ]
        }
      ],
      "source": [
        "\n",
        "\n",
        "out_array = [[\"\" for i in range(len(vert_lines))] for j in range(len(horiz_lines))]\n",
        "print(np.array(out_array).shape)\n",
        "print(out_array)"
      ]
    },
    {
      "cell_type": "code",
      "execution_count": null,
      "metadata": {
        "colab": {
          "base_uri": "https://localhost:8080/"
        },
        "id": "sSrupaRZIAk_",
        "outputId": "61055c32-2de2-4a31-c36f-e3857a6cc939"
      },
      "outputs": [
        {
          "name": "stdout",
          "output_type": "stream",
          "text": [
            "[70, 0, 148, 198]\n",
            "[425, 0, 511, 198]\n",
            "[285, 0, 341, 198]\n",
            "[553, 0, 599, 198]\n",
            "[869, 0, 923, 198]\n",
            "[1018, 0, 1075, 198]\n",
            "[644, 0, 804, 198]\n"
          ]
        }
      ],
      "source": [
        "\n",
        "unordered_boxes = []\n",
        "\n",
        "for i in vert_lines:\n",
        "  print(vert_boxes[i])\n",
        "  unordered_boxes.append(vert_boxes[i][0])"
      ]
    },
    {
      "cell_type": "code",
      "execution_count": null,
      "metadata": {
        "colab": {
          "base_uri": "https://localhost:8080/"
        },
        "id": "lRMlVNh_HuJV",
        "outputId": "de3751a5-525d-4659-acbc-00d61fcbeba1"
      },
      "outputs": [
        {
          "name": "stdout",
          "output_type": "stream",
          "text": [
            "[0 2 1 3 6 4 5]\n"
          ]
        }
      ],
      "source": [
        "ordered_boxes = np.argsort(unordered_boxes)\n",
        "print(ordered_boxes)"
      ]
    },
    {
      "cell_type": "code",
      "execution_count": null,
      "metadata": {
        "id": "AHHaxKUuC6jQ"
      },
      "outputs": [],
      "source": [
        "def intersection(box_1, box_2):\n",
        "  return [box_2[0], box_1[1],box_2[2], box_1[3]]"
      ]
    },
    {
      "cell_type": "code",
      "execution_count": null,
      "metadata": {
        "id": "fDVb0DkxJSIf"
      },
      "outputs": [],
      "source": [
        "def iou(box_1, box_2):\n",
        "\n",
        "  x_1 = max(box_1[0], box_2[0])\n",
        "  y_1 = max(box_1[1], box_2[1])\n",
        "  x_2 = min(box_1[2], box_2[2])\n",
        "  y_2 = min(box_1[3], box_2[3])\n",
        "\n",
        "  inter = abs(max((x_2 - x_1, 0)) * max((y_2 - y_1), 0))\n",
        "  if inter == 0:\n",
        "      return 0\n",
        "\n",
        "  box_1_area = abs((box_1[2] - box_1[0]) * (box_1[3] - box_1[1]))\n",
        "  box_2_area = abs((box_2[2] - box_2[0]) * (box_2[3] - box_2[1]))\n",
        "\n",
        "  return inter / float(box_1_area + box_2_area - inter)"
      ]
    },
    {
      "cell_type": "code",
      "execution_count": null,
      "metadata": {
        "id": "LWGhCwg6BIoL"
      },
      "outputs": [],
      "source": [
        "for i in range(len(horiz_lines)):\n",
        "  for j in range(len(vert_lines)):\n",
        "    resultant = intersection(horiz_boxes[horiz_lines[i]], vert_boxes[vert_lines[ordered_boxes[j]]] )\n",
        "\n",
        "    for b in range(len(boxes)):\n",
        "      the_box = [boxes[b][0][0],boxes[b][0][1],boxes[b][2][0],boxes[b][2][1]]\n",
        "      if(iou(resultant,the_box)>0.1):\n",
        "        out_array[i][j] = texts[b]"
      ]
    },
    {
      "cell_type": "code",
      "execution_count": null,
      "metadata": {
        "id": "c4tEY9LGNIM9"
      },
      "outputs": [],
      "source": [
        "out_array=np.array(out_array)"
      ]
    },
    {
      "cell_type": "code",
      "execution_count": null,
      "metadata": {
        "colab": {
          "base_uri": "https://localhost:8080/"
        },
        "id": "_ekto4-Ymxv2",
        "outputId": "f7a8e379-2879-4ed0-e8c0-4e127aacc50a"
      },
      "outputs": [
        {
          "data": {
            "text/plain": [
              "array([['Model', 'Updates (105)', 'Epochs', 'Hours', 'GPU', 'Train NLL',\n",
              "        'Dev.NLL'],\n",
              "       ['RNNenc-30', '8.46', '6.4', '109', 'TITAN BLACK', '28.1', '53.0'],\n",
              "       ['RNNenc-50', '6.00', '4.5', '108', 'Quadro K-6000', '44.0',\n",
              "        '43.6'],\n",
              "       ['RNNsearch-30', '4.71', '3.6', '113', 'TITAN BLACK', '26.7',\n",
              "        '47.2'],\n",
              "       ['RNNsearch-50', '2.88', '2.2', '111', 'Quadro K-6000', '40.7',\n",
              "        '38.1'],\n",
              "       ['RNNsearch-50*', '6.67', '5.0', '252', 'Quadro K-6000', '36.7',\n",
              "        '35.2']], dtype='<U13')"
            ]
          },
          "execution_count": 45,
          "metadata": {},
          "output_type": "execute_result"
        }
      ],
      "source": [
        "out_array"
      ]
    },
    {
      "cell_type": "code",
      "execution_count": null,
      "metadata": {
        "id": "D8UdX80wBI9V"
      },
      "outputs": [],
      "source": [
        "pd.DataFrame(out_array).to_csv('sample.csv')"
      ]
    },
    {
      "cell_type": "markdown",
      "metadata": {
        "id": "E693Ela3qhLx"
      },
      "source": [
        "## Merging Cells"
      ]
    },
    {
      "cell_type": "code",
      "execution_count": null,
      "metadata": {
        "colab": {
          "base_uri": "https://localhost:8080/"
        },
        "id": "XNcX7fEWPDfw",
        "outputId": "06cb1313-e8b8-4252-d305-f03fc03d14ed"
      },
      "outputs": [
        {
          "name": "stdout",
          "output_type": "stream",
          "text": [
            "['', '', '', '', '', '', '']\n"
          ]
        }
      ],
      "source": [
        "current_bank=['']*len(out_array[0,:])\n",
        "print(current_bank)"
      ]
    },
    {
      "cell_type": "code",
      "execution_count": null,
      "metadata": {
        "id": "TTF5ojcCQJKR"
      },
      "outputs": [],
      "source": [
        "def empty(arr):\n",
        "  for i in arr:\n",
        "    if i=='':\n",
        "      return True\n",
        "  return False"
      ]
    },
    {
      "cell_type": "code",
      "execution_count": null,
      "metadata": {
        "id": "3w1amnEXSVSB"
      },
      "outputs": [],
      "source": [
        "cleaned_array=[]"
      ]
    },
    {
      "cell_type": "code",
      "execution_count": null,
      "metadata": {
        "colab": {
          "base_uri": "https://localhost:8080/"
        },
        "id": "W_q9e2EkPepQ",
        "outputId": "fba25f38-1e56-45c3-88fe-2211d38d4dca"
      },
      "outputs": [
        {
          "name": "stdout",
          "output_type": "stream",
          "text": [
            "[['Model' 'Updates (105)' 'Epochs' 'Hours' 'GPU' 'Train NLL' 'Dev.NLL']\n",
            " ['RNNenc-30' '8.46' '6.4' '109' 'TITAN BLACK' '28.1' '53.0']\n",
            " ['RNNenc-50' '6.00' '4.5' '108' 'Quadro K-6000' '44.0' '43.6']\n",
            " ['RNNsearch-30' '4.71' '3.6' '113' 'TITAN BLACK' '26.7' '47.2']\n",
            " ['RNNsearch-50' '2.88' '2.2' '111' 'Quadro K-6000' '40.7' '38.1']\n",
            " ['RNNsearch-50*' '6.67' '5.0' '252' 'Quadro K-6000' '36.7' '35.2']]\n"
          ]
        }
      ],
      "source": [
        "for i in range(len(out_array)):\n",
        "  if not empty(out_array[i]):\n",
        "    current_bank=[out_array[i][j] for j in range(len(out_array[i]))]\n",
        "    cleaned_array.append(current_bank)\n",
        "    not_empty=True\n",
        "  else:\n",
        "    for j in range(len(out_array[i])):\n",
        "      current_bank[j]+=' '+out_array[i][j]\n",
        "    print('-->',current_bank)\n",
        "cleaned_array=np.array(cleaned_array)\n",
        "print(cleaned_array)"
      ]
    },
    {
      "cell_type": "code",
      "execution_count": null,
      "metadata": {
        "id": "RZltyMmD_E68"
      },
      "outputs": [],
      "source": [
        "pd.DataFrame(cleaned_array).to_csv('cleaned.csv')"
      ]
    },
    {
      "cell_type": "markdown",
      "metadata": {
        "id": "M9rH5mX9Mx7g"
      },
      "source": [
        "# Convert to OWL Format"
      ]
    },
    {
      "cell_type": "markdown",
      "metadata": {
        "id": "SqFdbM634H5w"
      },
      "source": [
        "# **CSV to Text**"
      ]
    },
    {
      "cell_type": "code",
      "execution_count": null,
      "metadata": {
        "colab": {
          "base_uri": "https://localhost:8080/",
          "height": 373
        },
        "id": "949GB9T1_Go7",
        "outputId": "d3bf9a55-8248-459c-8eb6-c2c67e5a84b3"
      },
      "outputs": [
        {
          "ename": "ModuleNotFoundError",
          "evalue": "ignored",
          "output_type": "error",
          "traceback": [
            "\u001b[0;31m---------------------------------------------------------------------------\u001b[0m",
            "\u001b[0;31mModuleNotFoundError\u001b[0m                       Traceback (most recent call last)",
            "\u001b[0;32m<ipython-input-52-0cc478de6e7d>\u001b[0m in \u001b[0;36m<module>\u001b[0;34m\u001b[0m\n\u001b[0;32m----> 1\u001b[0;31m \u001b[0;32mimport\u001b[0m  \u001b[0mjpype\u001b[0m\u001b[0;34m\u001b[0m\u001b[0;34m\u001b[0m\u001b[0m\n\u001b[0m\u001b[1;32m      2\u001b[0m \u001b[0;32mimport\u001b[0m  \u001b[0masposecells\u001b[0m\u001b[0;34m\u001b[0m\u001b[0;34m\u001b[0m\u001b[0m\n\u001b[1;32m      3\u001b[0m \u001b[0;34m\u001b[0m\u001b[0m\n\u001b[1;32m      4\u001b[0m \u001b[0;34m\u001b[0m\u001b[0m\n\u001b[1;32m      5\u001b[0m \u001b[0mjpype\u001b[0m\u001b[0;34m.\u001b[0m\u001b[0mstartJVM\u001b[0m\u001b[0;34m(\u001b[0m\u001b[0;34m)\u001b[0m\u001b[0;34m\u001b[0m\u001b[0;34m\u001b[0m\u001b[0m\n",
            "\u001b[0;31mModuleNotFoundError\u001b[0m: No module named 'jpype'",
            "",
            "\u001b[0;31m---------------------------------------------------------------------------\u001b[0;32m\nNOTE: If your import is failing due to a missing package, you can\nmanually install dependencies using either !pip or !apt.\n\nTo view examples of installing some common dependencies, click the\n\"Open Examples\" button below.\n\u001b[0;31m---------------------------------------------------------------------------\u001b[0m\n"
          ]
        }
      ],
      "source": [
        "import  jpype\n",
        "import  asposecells\n",
        "\n",
        "\n",
        "jpype.startJVM()\n",
        "from asposecells.api import Workbook\n",
        "\n",
        "workbook = Workbook(\"/content/sample.csv\")\n",
        "workbook.save(\"Output.docx\")\n",
        "jpype.shutdownJVM()"
      ]
    },
    {
      "cell_type": "code",
      "execution_count": null,
      "metadata": {
        "id": "eIGJDS7u4DLS"
      },
      "outputs": [],
      "source": []
    },
    {
      "cell_type": "code",
      "execution_count": null,
      "metadata": {
        "id": "ziHBaaCn4DN2"
      },
      "outputs": [],
      "source": []
    },
    {
      "cell_type": "markdown",
      "metadata": {
        "id": "FIzj02CHqce7"
      },
      "source": [
        "# Brighten Image (For Anyone dealing with PDFs created from scanned images)"
      ]
    },
    {
      "cell_type": "code",
      "execution_count": 24,
      "metadata": {
        "id": "vnzqj5q34DQk"
      },
      "outputs": [],
      "source": [
        "from PIL import Image, ImageEnhance\n",
        "\n",
        "#read the image\n",
        "im = Image.open(\"C:\\\\Users\\\\Milan\\\\Documents\\\\Project\\\\youtube\\\\pages\\\\page6.jpg\")\n",
        "\n",
        "#image brightness enhancer\n",
        "enhancer = ImageEnhance.Brightness(im)\n",
        "\n",
        "factor = 1 #gives original image\n",
        "im_output = enhancer.enhance(factor)\n",
        "im_output.save('C:\\\\Users\\\\Milan\\\\Documents\\\\Project\\\\youtube\\\\pages\\\\page6.jpg')\n",
        "\n",
        "factor = 1## brightens the image\n",
        "im_output = enhancer.enhance(factor)\n",
        "im_output.save('C:\\\\Users\\\\Milan\\\\Documents\\\\Project\\\\youtube\\\\pages\\\\page6.jpg')\n"
      ]
    },
    {
      "cell_type": "code",
      "execution_count": null,
      "metadata": {
        "id": "arQSfE2br7YT"
      },
      "outputs": [],
      "source": []
    }
  ],
  "metadata": {
    "accelerator": "GPU",
    "colab": {
      "collapsed_sections": [
        "E693Ela3qhLx",
        "SqFdbM634H5w",
        "FIzj02CHqce7"
      ],
      "provenance": []
    },
    "kernelspec": {
      "display_name": "Python 3",
      "name": "python3"
    },
    "language_info": {
      "codemirror_mode": {
        "name": "ipython",
        "version": 3
      },
      "file_extension": ".py",
      "mimetype": "text/x-python",
      "name": "python",
      "nbconvert_exporter": "python",
      "pygments_lexer": "ipython3",
      "version": "3.12.5"
    }
  },
  "nbformat": 4,
  "nbformat_minor": 0
}
