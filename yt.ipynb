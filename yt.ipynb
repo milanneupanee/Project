{
 "cells": [
  {
   "cell_type": "code",
   "execution_count": 1,
   "metadata": {},
   "outputs": [
    {
     "name": "stdout",
     "output_type": "stream",
     "text": [
      "hi\n"
     ]
    }
   ],
   "source": [
    "!echo hi"
   ]
  },
  {
   "cell_type": "code",
   "execution_count": 2,
   "metadata": {},
   "outputs": [
    {
     "name": "stdout",
     "output_type": "stream",
     "text": [
      "Requirement already satisfied: tensorflow in ./venv/lib/python3.10/site-packages (2.17.0)\n",
      "Requirement already satisfied: absl-py>=1.0.0 in ./venv/lib/python3.10/site-packages (from tensorflow) (2.1.0)\n",
      "Requirement already satisfied: tensorboard<2.18,>=2.17 in ./venv/lib/python3.10/site-packages (from tensorflow) (2.17.1)\n",
      "Requirement already satisfied: requests<3,>=2.21.0 in ./venv/lib/python3.10/site-packages (from tensorflow) (2.32.3)\n",
      "Requirement already satisfied: opt-einsum>=2.3.2 in ./venv/lib/python3.10/site-packages (from tensorflow) (3.3.0)\n",
      "Requirement already satisfied: six>=1.12.0 in ./venv/lib/python3.10/site-packages (from tensorflow) (1.16.0)\n",
      "Requirement already satisfied: gast!=0.5.0,!=0.5.1,!=0.5.2,>=0.2.1 in ./venv/lib/python3.10/site-packages (from tensorflow) (0.6.0)\n",
      "Requirement already satisfied: google-pasta>=0.1.1 in ./venv/lib/python3.10/site-packages (from tensorflow) (0.2.0)\n",
      "Requirement already satisfied: wrapt>=1.11.0 in ./venv/lib/python3.10/site-packages (from tensorflow) (1.16.0)\n",
      "Requirement already satisfied: tensorflow-io-gcs-filesystem>=0.23.1 in ./venv/lib/python3.10/site-packages (from tensorflow) (0.37.1)\n",
      "Requirement already satisfied: ml-dtypes<0.5.0,>=0.3.1 in ./venv/lib/python3.10/site-packages (from tensorflow) (0.4.0)\n",
      "Requirement already satisfied: h5py>=3.10.0 in ./venv/lib/python3.10/site-packages (from tensorflow) (3.11.0)\n",
      "Requirement already satisfied: astunparse>=1.6.0 in ./venv/lib/python3.10/site-packages (from tensorflow) (1.6.3)\n",
      "Requirement already satisfied: flatbuffers>=24.3.25 in ./venv/lib/python3.10/site-packages (from tensorflow) (24.3.25)\n",
      "Collecting protobuf!=4.21.0,!=4.21.1,!=4.21.2,!=4.21.3,!=4.21.4,!=4.21.5,<5.0.0dev,>=3.20.3\n",
      "  Using cached protobuf-4.25.4-cp37-abi3-manylinux2014_x86_64.whl (294 kB)\n",
      "Requirement already satisfied: typing-extensions>=3.6.6 in ./venv/lib/python3.10/site-packages (from tensorflow) (4.12.2)\n",
      "Requirement already satisfied: setuptools in ./venv/lib/python3.10/site-packages (from tensorflow) (65.5.0)\n",
      "Requirement already satisfied: termcolor>=1.1.0 in ./venv/lib/python3.10/site-packages (from tensorflow) (2.4.0)\n",
      "Requirement already satisfied: grpcio<2.0,>=1.24.3 in ./venv/lib/python3.10/site-packages (from tensorflow) (1.66.1)\n",
      "Requirement already satisfied: libclang>=13.0.0 in ./venv/lib/python3.10/site-packages (from tensorflow) (18.1.1)\n",
      "Requirement already satisfied: numpy<2.0.0,>=1.23.5 in ./venv/lib/python3.10/site-packages (from tensorflow) (1.26.4)\n",
      "Requirement already satisfied: packaging in ./venv/lib/python3.10/site-packages (from tensorflow) (24.1)\n",
      "Requirement already satisfied: keras>=3.2.0 in ./venv/lib/python3.10/site-packages (from tensorflow) (3.5.0)\n",
      "Requirement already satisfied: wheel<1.0,>=0.23.0 in ./venv/lib/python3.10/site-packages (from astunparse>=1.6.0->tensorflow) (0.44.0)\n",
      "Requirement already satisfied: rich in ./venv/lib/python3.10/site-packages (from keras>=3.2.0->tensorflow) (13.8.0)\n",
      "Requirement already satisfied: namex in ./venv/lib/python3.10/site-packages (from keras>=3.2.0->tensorflow) (0.0.8)\n",
      "Requirement already satisfied: optree in ./venv/lib/python3.10/site-packages (from keras>=3.2.0->tensorflow) (0.12.1)\n",
      "Requirement already satisfied: charset-normalizer<4,>=2 in ./venv/lib/python3.10/site-packages (from requests<3,>=2.21.0->tensorflow) (3.3.2)\n",
      "Requirement already satisfied: certifi>=2017.4.17 in ./venv/lib/python3.10/site-packages (from requests<3,>=2.21.0->tensorflow) (2024.8.30)\n",
      "Requirement already satisfied: urllib3<3,>=1.21.1 in ./venv/lib/python3.10/site-packages (from requests<3,>=2.21.0->tensorflow) (2.2.2)\n",
      "Requirement already satisfied: idna<4,>=2.5 in ./venv/lib/python3.10/site-packages (from requests<3,>=2.21.0->tensorflow) (3.8)\n",
      "Requirement already satisfied: markdown>=2.6.8 in ./venv/lib/python3.10/site-packages (from tensorboard<2.18,>=2.17->tensorflow) (3.7)\n",
      "Requirement already satisfied: werkzeug>=1.0.1 in ./venv/lib/python3.10/site-packages (from tensorboard<2.18,>=2.17->tensorflow) (3.0.4)\n",
      "Requirement already satisfied: tensorboard-data-server<0.8.0,>=0.7.0 in ./venv/lib/python3.10/site-packages (from tensorboard<2.18,>=2.17->tensorflow) (0.7.2)\n",
      "Requirement already satisfied: MarkupSafe>=2.1.1 in ./venv/lib/python3.10/site-packages (from werkzeug>=1.0.1->tensorboard<2.18,>=2.17->tensorflow) (2.1.5)\n",
      "Requirement already satisfied: markdown-it-py>=2.2.0 in ./venv/lib/python3.10/site-packages (from rich->keras>=3.2.0->tensorflow) (3.0.0)\n",
      "Requirement already satisfied: pygments<3.0.0,>=2.13.0 in ./venv/lib/python3.10/site-packages (from rich->keras>=3.2.0->tensorflow) (2.18.0)\n",
      "Requirement already satisfied: mdurl~=0.1 in ./venv/lib/python3.10/site-packages (from markdown-it-py>=2.2.0->rich->keras>=3.2.0->tensorflow) (0.1.2)\n",
      "Installing collected packages: protobuf\n",
      "  Attempting uninstall: protobuf\n",
      "    Found existing installation: protobuf 3.20.0\n",
      "    Uninstalling protobuf-3.20.0:\n",
      "      Successfully uninstalled protobuf-3.20.0\n",
      "Successfully installed protobuf-4.25.4\n",
      "\n",
      "\u001b[1m[\u001b[0m\u001b[34;49mnotice\u001b[0m\u001b[1;39;49m]\u001b[0m\u001b[39;49m A new release of pip is available: \u001b[0m\u001b[31;49m23.0.1\u001b[0m\u001b[39;49m -> \u001b[0m\u001b[32;49m24.2\u001b[0m\n",
      "\u001b[1m[\u001b[0m\u001b[34;49mnotice\u001b[0m\u001b[1;39;49m]\u001b[0m\u001b[39;49m To update, run: \u001b[0m\u001b[32;49mpip install --upgrade pip\u001b[0m\n"
     ]
    }
   ],
   "source": [
    "!pip install tensorflow"
   ]
  },
  {
   "cell_type": "code",
   "execution_count": 3,
   "metadata": {},
   "outputs": [
    {
     "name": "stdout",
     "output_type": "stream",
     "text": [
      "Collecting protobuf==3.20.2\n",
      "  Using cached protobuf-3.20.2-cp310-cp310-manylinux_2_12_x86_64.manylinux2010_x86_64.whl (1.1 MB)\n",
      "Installing collected packages: protobuf\n",
      "  Attempting uninstall: protobuf\n",
      "    Found existing installation: protobuf 4.25.4\n",
      "    Uninstalling protobuf-4.25.4:\n",
      "      Successfully uninstalled protobuf-4.25.4\n",
      "\u001b[31mERROR: pip's dependency resolver does not currently take into account all the packages that are installed. This behaviour is the source of the following dependency conflicts.\n",
      "tensorflow 2.17.0 requires protobuf!=4.21.0,!=4.21.1,!=4.21.2,!=4.21.3,!=4.21.4,!=4.21.5,<5.0.0dev,>=3.20.3, but you have protobuf 3.20.2 which is incompatible.\u001b[0m\u001b[31m\n",
      "\u001b[0mSuccessfully installed protobuf-3.20.2\n",
      "\n",
      "\u001b[1m[\u001b[0m\u001b[34;49mnotice\u001b[0m\u001b[1;39;49m]\u001b[0m\u001b[39;49m A new release of pip is available: \u001b[0m\u001b[31;49m23.0.1\u001b[0m\u001b[39;49m -> \u001b[0m\u001b[32;49m24.2\u001b[0m\n",
      "\u001b[1m[\u001b[0m\u001b[34;49mnotice\u001b[0m\u001b[1;39;49m]\u001b[0m\u001b[39;49m To update, run: \u001b[0m\u001b[32;49mpip install --upgrade pip\u001b[0m\n"
     ]
    }
   ],
   "source": [
    "!pip install protobuf==3.20.2"
   ]
  },
  {
   "cell_type": "code",
   "execution_count": 4,
   "metadata": {},
   "outputs": [
    {
     "name": "stdout",
     "output_type": "stream",
     "text": [
      "Found existing installation: protobuf 3.20.2\n",
      "Uninstalling protobuf-3.20.2:\n",
      "  Successfully uninstalled protobuf-3.20.2\n"
     ]
    }
   ],
   "source": [
    "!pip uninstall protobuf -y"
   ]
  },
  {
   "cell_type": "code",
   "execution_count": 5,
   "metadata": {
    "id": "JejuCeNXHckg"
   },
   "outputs": [
    {
     "name": "stdout",
     "output_type": "stream",
     "text": [
      "Requirement already satisfied: paddlepaddle in ./venv/lib/python3.10/site-packages (2.6.1)\n",
      "Requirement already satisfied: httpx in ./venv/lib/python3.10/site-packages (from paddlepaddle) (0.27.2)\n",
      "Requirement already satisfied: numpy>=1.13 in ./venv/lib/python3.10/site-packages (from paddlepaddle) (1.26.4)\n",
      "Requirement already satisfied: opt-einsum==3.3.0 in ./venv/lib/python3.10/site-packages (from paddlepaddle) (3.3.0)\n",
      "Collecting protobuf>=3.20.2\n",
      "  Using cached protobuf-5.28.0-cp38-abi3-manylinux2014_x86_64.whl (316 kB)\n",
      "Requirement already satisfied: astor in ./venv/lib/python3.10/site-packages (from paddlepaddle) (0.8.1)\n",
      "Requirement already satisfied: decorator in ./venv/lib/python3.10/site-packages (from paddlepaddle) (5.1.1)\n",
      "Requirement already satisfied: Pillow in ./venv/lib/python3.10/site-packages (from paddlepaddle) (10.4.0)\n",
      "Requirement already satisfied: httpcore==1.* in ./venv/lib/python3.10/site-packages (from httpx->paddlepaddle) (1.0.5)\n",
      "Requirement already satisfied: anyio in ./venv/lib/python3.10/site-packages (from httpx->paddlepaddle) (4.4.0)\n",
      "Requirement already satisfied: idna in ./venv/lib/python3.10/site-packages (from httpx->paddlepaddle) (3.8)\n",
      "Requirement already satisfied: certifi in ./venv/lib/python3.10/site-packages (from httpx->paddlepaddle) (2024.8.30)\n",
      "Requirement already satisfied: sniffio in ./venv/lib/python3.10/site-packages (from httpx->paddlepaddle) (1.3.1)\n",
      "Requirement already satisfied: h11<0.15,>=0.13 in ./venv/lib/python3.10/site-packages (from httpcore==1.*->httpx->paddlepaddle) (0.14.0)\n",
      "Requirement already satisfied: exceptiongroup>=1.0.2 in ./venv/lib/python3.10/site-packages (from anyio->httpx->paddlepaddle) (1.2.2)\n",
      "Requirement already satisfied: typing-extensions>=4.1 in ./venv/lib/python3.10/site-packages (from anyio->httpx->paddlepaddle) (4.12.2)\n",
      "Installing collected packages: protobuf\n",
      "\u001b[31mERROR: pip's dependency resolver does not currently take into account all the packages that are installed. This behaviour is the source of the following dependency conflicts.\n",
      "tensorflow 2.17.0 requires protobuf!=4.21.0,!=4.21.1,!=4.21.2,!=4.21.3,!=4.21.4,!=4.21.5,<5.0.0dev,>=3.20.3, but you have protobuf 5.28.0 which is incompatible.\u001b[0m\u001b[31m\n",
      "\u001b[0mSuccessfully installed protobuf-5.28.0\n",
      "\n",
      "\u001b[1m[\u001b[0m\u001b[34;49mnotice\u001b[0m\u001b[1;39;49m]\u001b[0m\u001b[39;49m A new release of pip is available: \u001b[0m\u001b[31;49m23.0.1\u001b[0m\u001b[39;49m -> \u001b[0m\u001b[32;49m24.2\u001b[0m\n",
      "\u001b[1m[\u001b[0m\u001b[34;49mnotice\u001b[0m\u001b[1;39;49m]\u001b[0m\u001b[39;49m To update, run: \u001b[0m\u001b[32;49mpip install --upgrade pip\u001b[0m\n"
     ]
    }
   ],
   "source": [
    "!python -m pip install paddlepaddle"
   ]
  },
  {
   "cell_type": "code",
   "execution_count": 6,
   "metadata": {},
   "outputs": [
    {
     "name": "stdout",
     "output_type": "stream",
     "text": [
      "Requirement already satisfied: opencv-python in ./venv/lib/python3.10/site-packages (4.10.0.84)\n",
      "Requirement already satisfied: numpy>=1.17.0 in ./venv/lib/python3.10/site-packages (from opencv-python) (1.26.4)\n",
      "\n",
      "\u001b[1m[\u001b[0m\u001b[34;49mnotice\u001b[0m\u001b[1;39;49m]\u001b[0m\u001b[39;49m A new release of pip is available: \u001b[0m\u001b[31;49m23.0.1\u001b[0m\u001b[39;49m -> \u001b[0m\u001b[32;49m24.2\u001b[0m\n",
      "\u001b[1m[\u001b[0m\u001b[34;49mnotice\u001b[0m\u001b[1;39;49m]\u001b[0m\u001b[39;49m To update, run: \u001b[0m\u001b[32;49mpip install --upgrade pip\u001b[0m\n"
     ]
    }
   ],
   "source": [
    "!pip install opencv-python"
   ]
  },
  {
   "cell_type": "code",
   "execution_count": 7,
   "metadata": {},
   "outputs": [
    {
     "name": "stdout",
     "output_type": "stream",
     "text": [
      "Requirement already satisfied: pandas in ./venv/lib/python3.10/site-packages (2.2.2)\n",
      "Requirement already satisfied: pytz>=2020.1 in ./venv/lib/python3.10/site-packages (from pandas) (2024.1)\n",
      "Requirement already satisfied: python-dateutil>=2.8.2 in ./venv/lib/python3.10/site-packages (from pandas) (2.9.0.post0)\n",
      "Requirement already satisfied: tzdata>=2022.7 in ./venv/lib/python3.10/site-packages (from pandas) (2024.1)\n",
      "Requirement already satisfied: numpy>=1.22.4 in ./venv/lib/python3.10/site-packages (from pandas) (1.26.4)\n",
      "Requirement already satisfied: six>=1.5 in ./venv/lib/python3.10/site-packages (from python-dateutil>=2.8.2->pandas) (1.16.0)\n",
      "\n",
      "\u001b[1m[\u001b[0m\u001b[34;49mnotice\u001b[0m\u001b[1;39;49m]\u001b[0m\u001b[39;49m A new release of pip is available: \u001b[0m\u001b[31;49m23.0.1\u001b[0m\u001b[39;49m -> \u001b[0m\u001b[32;49m24.2\u001b[0m\n",
      "\u001b[1m[\u001b[0m\u001b[34;49mnotice\u001b[0m\u001b[1;39;49m]\u001b[0m\u001b[39;49m To update, run: \u001b[0m\u001b[32;49mpip install --upgrade pip\u001b[0m\n"
     ]
    }
   ],
   "source": [
    "!pip install pandas"
   ]
  },
  {
   "cell_type": "code",
   "execution_count": 8,
   "metadata": {
    "id": "mhEjVUbiUytV"
   },
   "outputs": [
    {
     "name": "stderr",
     "output_type": "stream",
     "text": [
      "2024-09-07 14:00:27.320021: I tensorflow/core/util/port.cc:153] oneDNN custom operations are on. You may see slightly different numerical results due to floating-point round-off errors from different computation orders. To turn them off, set the environment variable `TF_ENABLE_ONEDNN_OPTS=0`.\n",
      "2024-09-07 14:00:27.329383: E external/local_xla/xla/stream_executor/cuda/cuda_fft.cc:485] Unable to register cuFFT factory: Attempting to register factory for plugin cuFFT when one has already been registered\n",
      "2024-09-07 14:00:27.340388: E external/local_xla/xla/stream_executor/cuda/cuda_dnn.cc:8454] Unable to register cuDNN factory: Attempting to register factory for plugin cuDNN when one has already been registered\n",
      "2024-09-07 14:00:27.343671: E external/local_xla/xla/stream_executor/cuda/cuda_blas.cc:1452] Unable to register cuBLAS factory: Attempting to register factory for plugin cuBLAS when one has already been registered\n",
      "2024-09-07 14:00:27.352572: I tensorflow/core/platform/cpu_feature_guard.cc:210] This TensorFlow binary is optimized to use available CPU instructions in performance-critical operations.\n",
      "To enable the following instructions: AVX2 AVX_VNNI FMA, in other operations, rebuild TensorFlow with the appropriate compiler flags.\n",
      "2024-09-07 14:00:27.976862: W tensorflow/compiler/tf2tensorrt/utils/py_utils.cc:38] TF-TRT Warning: Could not find TensorRT\n"
     ]
    },
    {
     "name": "stdout",
     "output_type": "stream",
     "text": [
      "Successfully imported libraries\n"
     ]
    }
   ],
   "source": [
    "from PIL import Image\n",
    "import cv2\n",
    "import numpy as np\n",
    "import pandas as pd\n",
    "import tensorflow as tf\n",
    "print('Successfully imported libraries')"
   ]
  },
  {
   "cell_type": "code",
   "execution_count": 9,
   "metadata": {
    "colab": {
     "base_uri": "https://localhost:8080/"
    },
    "id": "biSgyAkWnUD3",
    "outputId": "06487f1d-40ee-4de6-f072-6372561d16cd"
   },
   "outputs": [
    {
     "name": "stdout",
     "output_type": "stream",
     "text": [
      "Requirement already satisfied: pdf2image in ./venv/lib/python3.10/site-packages (1.17.0)\n",
      "Requirement already satisfied: pillow in ./venv/lib/python3.10/site-packages (from pdf2image) (10.4.0)\n",
      "\n",
      "\u001b[1m[\u001b[0m\u001b[34;49mnotice\u001b[0m\u001b[1;39;49m]\u001b[0m\u001b[39;49m A new release of pip is available: \u001b[0m\u001b[31;49m23.0.1\u001b[0m\u001b[39;49m -> \u001b[0m\u001b[32;49m24.2\u001b[0m\n",
      "\u001b[1m[\u001b[0m\u001b[34;49mnotice\u001b[0m\u001b[1;39;49m]\u001b[0m\u001b[39;49m To update, run: \u001b[0m\u001b[32;49mpip install --upgrade pip\u001b[0m\n"
     ]
    }
   ],
   "source": [
    "!pip install pdf2image"
   ]
  },
  {
   "cell_type": "code",
   "execution_count": 10,
   "metadata": {},
   "outputs": [],
   "source": [
    "TEST_PDF_PATH='test_pdfs/ACHHAM-DISTRICT-RATES-2081-82.pdf'"
   ]
  },
  {
   "cell_type": "code",
   "execution_count": 11,
   "metadata": {
    "id": "HI1dzCGmkeWI"
   },
   "outputs": [],
   "source": [
    "from pdf2image import convert_from_path"
   ]
  },
  {
   "cell_type": "code",
   "execution_count": 12,
   "metadata": {
    "id": "xyhjFgqjkgG7"
   },
   "outputs": [],
   "source": [
    "images = convert_from_path(TEST_PDF_PATH)"
   ]
  },
  {
   "cell_type": "code",
   "execution_count": 13,
   "metadata": {
    "id": "M5hBWxpskgJW"
   },
   "outputs": [],
   "source": [
    "!mkdir -p pages"
   ]
  },
  {
   "cell_type": "code",
   "execution_count": 14,
   "metadata": {
    "id": "7mlH9ltkkgMB"
   },
   "outputs": [],
   "source": [
    "for i in range(len(images)):\n",
    "  images[i].save('pages/page'+str(i)+'.jpg', 'JPEG')"
   ]
  },
  {
   "cell_type": "markdown",
   "metadata": {
    "id": "Urwb7Q_OZC8t"
   },
   "source": [
    "# Layout"
   ]
  },
  {
   "cell_type": "markdown",
   "metadata": {
    "id": "vTkwQbF4FZPN"
   },
   "source": [
    "## Installation"
   ]
  },
  {
   "cell_type": "code",
   "execution_count": 15,
   "metadata": {
    "colab": {
     "base_uri": "https://localhost:8080/",
     "height": 1000
    },
    "id": "R0lRpQLkIpbZ",
    "outputId": "24283e8e-5de0-4b41-bb43-8d0638f927c1"
   },
   "outputs": [
    {
     "name": "stdout",
     "output_type": "stream",
     "text": [
      "Requirement already satisfied: paddleocr>=2.0.1 in ./venv/lib/python3.10/site-packages (2.8.1)\n",
      "Requirement already satisfied: scikit-image in ./venv/lib/python3.10/site-packages (from paddleocr>=2.0.1) (0.24.0)\n",
      "Requirement already satisfied: Pillow in ./venv/lib/python3.10/site-packages (from paddleocr>=2.0.1) (10.4.0)\n",
      "Requirement already satisfied: numpy<2.0 in ./venv/lib/python3.10/site-packages (from paddleocr>=2.0.1) (1.26.4)\n",
      "Requirement already satisfied: cython in ./venv/lib/python3.10/site-packages (from paddleocr>=2.0.1) (3.0.11)\n",
      "Requirement already satisfied: beautifulsoup4 in ./venv/lib/python3.10/site-packages (from paddleocr>=2.0.1) (4.12.3)\n",
      "Requirement already satisfied: requests in ./venv/lib/python3.10/site-packages (from paddleocr>=2.0.1) (2.32.3)\n",
      "Requirement already satisfied: pyclipper in ./venv/lib/python3.10/site-packages (from paddleocr>=2.0.1) (1.3.0.post5)\n",
      "Requirement already satisfied: shapely in ./venv/lib/python3.10/site-packages (from paddleocr>=2.0.1) (2.0.6)\n",
      "Requirement already satisfied: opencv-contrib-python in ./venv/lib/python3.10/site-packages (from paddleocr>=2.0.1) (4.10.0.84)\n",
      "Requirement already satisfied: imgaug in ./venv/lib/python3.10/site-packages (from paddleocr>=2.0.1) (0.4.0)\n",
      "Requirement already satisfied: python-docx in ./venv/lib/python3.10/site-packages (from paddleocr>=2.0.1) (1.1.2)\n",
      "Requirement already satisfied: fire>=0.3.0 in ./venv/lib/python3.10/site-packages (from paddleocr>=2.0.1) (0.6.0)\n",
      "Requirement already satisfied: pyyaml in ./venv/lib/python3.10/site-packages (from paddleocr>=2.0.1) (6.0.2)\n",
      "Requirement already satisfied: fonttools>=4.24.0 in ./venv/lib/python3.10/site-packages (from paddleocr>=2.0.1) (4.53.1)\n",
      "Requirement already satisfied: rapidfuzz in ./venv/lib/python3.10/site-packages (from paddleocr>=2.0.1) (3.9.7)\n",
      "Requirement already satisfied: tqdm in ./venv/lib/python3.10/site-packages (from paddleocr>=2.0.1) (4.66.5)\n",
      "Requirement already satisfied: lmdb in ./venv/lib/python3.10/site-packages (from paddleocr>=2.0.1) (1.5.1)\n",
      "Requirement already satisfied: opencv-python in ./venv/lib/python3.10/site-packages (from paddleocr>=2.0.1) (4.10.0.84)\n",
      "Requirement already satisfied: six in ./venv/lib/python3.10/site-packages (from fire>=0.3.0->paddleocr>=2.0.1) (1.16.0)\n",
      "Requirement already satisfied: termcolor in ./venv/lib/python3.10/site-packages (from fire>=0.3.0->paddleocr>=2.0.1) (2.4.0)\n",
      "Requirement already satisfied: soupsieve>1.2 in ./venv/lib/python3.10/site-packages (from beautifulsoup4->paddleocr>=2.0.1) (2.6)\n",
      "Requirement already satisfied: scipy in ./venv/lib/python3.10/site-packages (from imgaug->paddleocr>=2.0.1) (1.14.1)\n",
      "Requirement already satisfied: matplotlib in ./venv/lib/python3.10/site-packages (from imgaug->paddleocr>=2.0.1) (3.9.2)\n",
      "Requirement already satisfied: imageio in ./venv/lib/python3.10/site-packages (from imgaug->paddleocr>=2.0.1) (2.35.1)\n",
      "Requirement already satisfied: packaging>=21 in ./venv/lib/python3.10/site-packages (from scikit-image->paddleocr>=2.0.1) (24.1)\n",
      "Requirement already satisfied: tifffile>=2022.8.12 in ./venv/lib/python3.10/site-packages (from scikit-image->paddleocr>=2.0.1) (2024.8.30)\n",
      "Requirement already satisfied: lazy-loader>=0.4 in ./venv/lib/python3.10/site-packages (from scikit-image->paddleocr>=2.0.1) (0.4)\n",
      "Requirement already satisfied: networkx>=2.8 in ./venv/lib/python3.10/site-packages (from scikit-image->paddleocr>=2.0.1) (3.3)\n",
      "Requirement already satisfied: typing-extensions>=4.9.0 in ./venv/lib/python3.10/site-packages (from python-docx->paddleocr>=2.0.1) (4.12.2)\n",
      "Requirement already satisfied: lxml>=3.1.0 in ./venv/lib/python3.10/site-packages (from python-docx->paddleocr>=2.0.1) (5.3.0)\n",
      "Requirement already satisfied: certifi>=2017.4.17 in ./venv/lib/python3.10/site-packages (from requests->paddleocr>=2.0.1) (2024.8.30)\n",
      "Requirement already satisfied: idna<4,>=2.5 in ./venv/lib/python3.10/site-packages (from requests->paddleocr>=2.0.1) (3.8)\n",
      "Requirement already satisfied: urllib3<3,>=1.21.1 in ./venv/lib/python3.10/site-packages (from requests->paddleocr>=2.0.1) (2.2.2)\n",
      "Requirement already satisfied: charset-normalizer<4,>=2 in ./venv/lib/python3.10/site-packages (from requests->paddleocr>=2.0.1) (3.3.2)\n",
      "Requirement already satisfied: python-dateutil>=2.7 in ./venv/lib/python3.10/site-packages (from matplotlib->imgaug->paddleocr>=2.0.1) (2.9.0.post0)\n",
      "Requirement already satisfied: cycler>=0.10 in ./venv/lib/python3.10/site-packages (from matplotlib->imgaug->paddleocr>=2.0.1) (0.12.1)\n",
      "Requirement already satisfied: contourpy>=1.0.1 in ./venv/lib/python3.10/site-packages (from matplotlib->imgaug->paddleocr>=2.0.1) (1.3.0)\n",
      "Requirement already satisfied: kiwisolver>=1.3.1 in ./venv/lib/python3.10/site-packages (from matplotlib->imgaug->paddleocr>=2.0.1) (1.4.7)\n",
      "Requirement already satisfied: pyparsing>=2.3.1 in ./venv/lib/python3.10/site-packages (from matplotlib->imgaug->paddleocr>=2.0.1) (3.1.4)\n",
      "\n",
      "\u001b[1m[\u001b[0m\u001b[34;49mnotice\u001b[0m\u001b[1;39;49m]\u001b[0m\u001b[39;49m A new release of pip is available: \u001b[0m\u001b[31;49m23.0.1\u001b[0m\u001b[39;49m -> \u001b[0m\u001b[32;49m24.2\u001b[0m\n",
      "\u001b[1m[\u001b[0m\u001b[34;49mnotice\u001b[0m\u001b[1;39;49m]\u001b[0m\u001b[39;49m To update, run: \u001b[0m\u001b[32;49mpip install --upgrade pip\u001b[0m\n",
      "Collecting protobuf==3.20.0\n",
      "  Using cached protobuf-3.20.0-cp310-cp310-manylinux_2_12_x86_64.manylinux2010_x86_64.whl (1.1 MB)\n",
      "Installing collected packages: protobuf\n",
      "  Attempting uninstall: protobuf\n",
      "    Found existing installation: protobuf 5.28.0\n",
      "    Uninstalling protobuf-5.28.0:\n",
      "      Successfully uninstalled protobuf-5.28.0\n",
      "\u001b[31mERROR: pip's dependency resolver does not currently take into account all the packages that are installed. This behaviour is the source of the following dependency conflicts.\n",
      "tensorflow 2.17.0 requires protobuf!=4.21.0,!=4.21.1,!=4.21.2,!=4.21.3,!=4.21.4,!=4.21.5,<5.0.0dev,>=3.20.3, but you have protobuf 3.20.0 which is incompatible.\n",
      "paddlepaddle 2.6.1 requires protobuf>=3.20.2; platform_system != \"Windows\", but you have protobuf 3.20.0 which is incompatible.\u001b[0m\u001b[31m\n",
      "\u001b[0mSuccessfully installed protobuf-3.20.0\n",
      "\n",
      "\u001b[1m[\u001b[0m\u001b[34;49mnotice\u001b[0m\u001b[1;39;49m]\u001b[0m\u001b[39;49m A new release of pip is available: \u001b[0m\u001b[31;49m23.0.1\u001b[0m\u001b[39;49m -> \u001b[0m\u001b[32;49m24.2\u001b[0m\n",
      "\u001b[1m[\u001b[0m\u001b[34;49mnotice\u001b[0m\u001b[1;39;49m]\u001b[0m\u001b[39;49m To update, run: \u001b[0m\u001b[32;49mpip install --upgrade pip\u001b[0m\n"
     ]
    }
   ],
   "source": [
    "!pip install \"paddleocr>=2.0.1\"\n",
    "!pip install protobuf==3.20.0\n",
    "# !git clone --depth 1 https://github.com/PaddlePaddle/PaddleOCR.git"
   ]
  },
  {
   "cell_type": "code",
   "execution_count": 16,
   "metadata": {
    "colab": {
     "base_uri": "https://localhost:8080/"
    },
    "id": "8gWFgGl5CXu6",
    "outputId": "5d435097-2f57-4806-f454-eeeeb1a02efc"
   },
   "outputs": [
    {
     "name": "stdout",
     "output_type": "stream",
     "text": [
      "\u001b[33mWARNING: Requirement 'layoutparser-0.0.0-py3-none-any.whl' looks like a filename, but the file does not exist\u001b[0m\u001b[33m\n",
      "\u001b[0mProcessing ./layoutparser-0.0.0-py3-none-any.whl\n",
      "\u001b[31mERROR: Could not install packages due to an OSError: [Errno 2] No such file or directory: '/home/amrit/milan/Project/layoutparser-0.0.0-py3-none-any.whl'\n",
      "\u001b[0m\u001b[31m\n",
      "\u001b[0m\n",
      "\u001b[1m[\u001b[0m\u001b[34;49mnotice\u001b[0m\u001b[1;39;49m]\u001b[0m\u001b[39;49m A new release of pip is available: \u001b[0m\u001b[31;49m23.0.1\u001b[0m\u001b[39;49m -> \u001b[0m\u001b[32;49m24.2\u001b[0m\n",
      "\u001b[1m[\u001b[0m\u001b[34;49mnotice\u001b[0m\u001b[1;39;49m]\u001b[0m\u001b[39;49m To update, run: \u001b[0m\u001b[32;49mpip install --upgrade pip\u001b[0m\n"
     ]
    }
   ],
   "source": [
    "#I download it directly from the site\n",
    "# !curl -O https://paddleocr.bj.bcebos.com/whl/layoutparser-0.0.0-py3-none-any.whl\n",
    "!pip install layoutparser-0.0.0-py3-none-any.whl\n",
    "#!pip install \"layoutparser[paddledetection]\"\n",
    "# pip install -U layoutparser-0.0.0-py3-none-any.whl"
   ]
  },
  {
   "cell_type": "markdown",
   "metadata": {
    "id": "w5MA08E0F8aU"
   },
   "source": [
    "## Table Extraction"
   ]
  },
  {
   "cell_type": "code",
   "execution_count": 35,
   "metadata": {
    "colab": {
     "base_uri": "https://localhost:8080/"
    },
    "id": "bw9SFYnMCX0E",
    "outputId": "89218fbd-3b01-453e-a191-0d15c8883d03"
   },
   "outputs": [
    {
     "name": "stderr",
     "output_type": "stream",
     "text": [
      "E0907 14:04:27.936393 228761 analysis_config.cc:125] Please use PaddlePaddle with GPU version.\n"
     ]
    },
    {
     "name": "stdout",
     "output_type": "stream",
     "text": [
      "detected tables in image\n"
     ]
    }
   ],
   "source": [
    "import cv2\n",
    "import layoutparser as lp\n",
    "TEST_IMAGE_PATH=\"./pages/page10.jpg\"\n",
    "image = cv2.imread(TEST_IMAGE_PATH)\n",
    "\n",
    "image = image[..., ::-1]\n",
    "\n",
    "model = lp.PaddleDetectionLayoutModel(config_path=\"lp://PubLayNet/ppyolov2_r50vd_dcn_365e_publaynet/config\",\n",
    "                                label_map={0: \"Text\", 1: \"Title\", 2: \"List\", 3:\"Table\", 4:\"Figure\"},\n",
    "                                enforce_cpu=False,\n",
    "                                threshold=0.2,\n",
    "                               enable_mkldnn=True\n",
    "                                )#math kernel library\n",
    "# detect\n",
    "layout = model.detect(image)\n",
    "print('detected tables in image')\n"
   ]
  },
  {
   "cell_type": "code",
   "execution_count": 36,
   "metadata": {
    "colab": {
     "base_uri": "https://localhost:8080/"
    },
    "id": "G76oO2WXCX6v",
    "outputId": "2b0f9ed6-ff8c-4b46-b69c-5e3961d017d4"
   },
   "outputs": [
    {
     "data": {
      "text/plain": [
       "Layout(_blocks=[TextBlock(block=Rectangle(x_1=180.66497802734375, y_1=0.0, x_2=1590.421630859375, y_2=2340.0), text=None, id=None, type=Figure, parent=None, next=None, score=0.8930692076683044), TextBlock(block=Rectangle(x_1=179.16558837890625, y_1=237.50146484375, x_2=1404.364990234375, y_2=321.7293701171875), text=None, id=None, type=Text, parent=None, next=None, score=0.8648343086242676), TextBlock(block=Rectangle(x_1=457.373291015625, y_1=340.8172912597656, x_2=1092.197998046875, y_2=385.7121276855469), text=None, id=None, type=Text, parent=None, next=None, score=0.7268775105476379), TextBlock(block=Rectangle(x_1=181.40924072265625, y_1=395.725341796875, x_2=1437.449462890625, y_2=912.3358154296875), text=None, id=None, type=Table, parent=None, next=None, score=0.3854312300682068), TextBlock(block=Rectangle(x_1=467.2867431640625, y_1=4.332679748535156, x_2=1115.90625, y_2=206.35946655273438), text=None, id=None, type=Figure, parent=None, next=None, score=0.23805686831474304), TextBlock(block=Rectangle(x_1=193.5628662109375, y_1=976.2650756835938, x_2=374.943115234375, y_2=1020.0516967773438), text=None, id=None, type=Title, parent=None, next=None, score=0.20927883684635162), TextBlock(block=Rectangle(x_1=186.42840576171875, y_1=159.75540161132812, x_2=660.7838745117188, y_2=209.63131713867188), text=None, id=None, type=Text, parent=None, next=None, score=0.20436657965183258)], page_data={})"
      ]
     },
     "execution_count": 36,
     "metadata": {},
     "output_type": "execute_result"
    }
   ],
   "source": [
    "layout"
   ]
  },
  {
   "cell_type": "code",
   "execution_count": 37,
   "metadata": {},
   "outputs": [
    {
     "data": {
      "text/plain": [
       "['Figure', 'Text', 'Text', 'Table', 'Figure', 'Title', 'Text']"
      ]
     },
     "execution_count": 37,
     "metadata": {},
     "output_type": "execute_result"
    }
   ],
   "source": [
    "[l.type for l in layout]"
   ]
  },
  {
   "cell_type": "code",
   "execution_count": 38,
   "metadata": {
    "colab": {
     "base_uri": "https://localhost:8080/"
    },
    "id": "y3h0kCz-CX_U",
    "outputId": "5b44d211-694b-409f-df7c-69189d4b448f"
   },
   "outputs": [],
   "source": [
    "x_1=0\n",
    "y_1=0\n",
    "x_2=0\n",
    "y_2=0\n",
    "\n",
    "for l in layout:\n",
    "  #print(l)\n",
    "  if l.type == 'Table':\n",
    "    x_1 = int(l.block.x_1)\n",
    "    y_1 = int(l.block.y_1)\n",
    "    x_2 = int(l.block.x_2)\n",
    "    y_2 = int(l.block.y_2)\n",
    "\n",
    "    break"
   ]
  },
  {
   "cell_type": "code",
   "execution_count": 39,
   "metadata": {
    "colab": {
     "base_uri": "https://localhost:8080/"
    },
    "id": "cdiYPeCJCYIg",
    "outputId": "4160ed2b-e1d1-4174-dd2e-55bee31167f3"
   },
   "outputs": [
    {
     "name": "stdout",
     "output_type": "stream",
     "text": [
      "181 395 1437 912\n"
     ]
    }
   ],
   "source": [
    "print(x_1,y_1,x_2,y_2)"
   ]
  },
  {
   "cell_type": "code",
   "execution_count": 40,
   "metadata": {
    "id": "F39kJV3hCYLV"
   },
   "outputs": [],
   "source": [
    "im = cv2.imread(TEST_IMAGE_PATH)"
   ]
  },
  {
   "cell_type": "code",
   "execution_count": 41,
   "metadata": {
    "colab": {
     "base_uri": "https://localhost:8080/"
    },
    "id": "EQDXSNijCYPs",
    "outputId": "9c0e6954-da96-491b-efcb-318dc5410561"
   },
   "outputs": [
    {
     "data": {
      "text/plain": [
       "True"
      ]
     },
     "execution_count": 41,
     "metadata": {},
     "output_type": "execute_result"
    }
   ],
   "source": [
    "cv2.imwrite('ext_im.jpg', im[y_1:y_2,x_1:x_2])"
   ]
  },
  {
   "cell_type": "code",
   "execution_count": null,
   "metadata": {
    "id": "7O2P4aIMor_e"
   },
   "outputs": [],
   "source": []
  },
  {
   "cell_type": "markdown",
   "metadata": {
    "id": "EGwGhHnd8i_h"
   },
   "source": [
    "# Text Detection and Recognition"
   ]
  },
  {
   "cell_type": "code",
   "execution_count": 42,
   "metadata": {
    "id": "N6WQZXhLLDWk"
   },
   "outputs": [],
   "source": [
    "from paddleocr import PaddleOCR, draw_ocr"
   ]
  },
  {
   "cell_type": "code",
   "execution_count": 43,
   "metadata": {
    "colab": {
     "base_uri": "https://localhost:8080/"
    },
    "id": "A8bCZ9AULDZF",
    "outputId": "78de4243-7a38-4378-8dfd-063004300535"
   },
   "outputs": [
    {
     "name": "stdout",
     "output_type": "stream",
     "text": [
      "[2024/09/07 14:04:46] ppocr DEBUG: Namespace(help='==SUPPRESS==', use_gpu=False, use_xpu=False, use_npu=False, use_mlu=False, ir_optim=True, use_tensorrt=False, min_subgraph_size=15, precision='fp32', gpu_mem=500, gpu_id=0, image_dir=None, page_num=0, det_algorithm='DB', det_model_dir='/home/amrit/.paddleocr/whl/det/ml/Multilingual_PP-OCRv3_det_infer', det_limit_side_len=960, det_limit_type='max', det_box_type='quad', det_db_thresh=0.3, det_db_box_thresh=0.6, det_db_unclip_ratio=1.5, max_batch_size=10, use_dilation=False, det_db_score_mode='fast', det_east_score_thresh=0.8, det_east_cover_thresh=0.1, det_east_nms_thresh=0.2, det_sast_score_thresh=0.5, det_sast_nms_thresh=0.2, det_pse_thresh=0, det_pse_box_thresh=0.85, det_pse_min_area=16, det_pse_scale=1, scales=[8, 16, 32], alpha=1.0, beta=1.0, fourier_degree=5, rec_algorithm='SVTR_LCNet', rec_model_dir='/home/amrit/.paddleocr/whl/rec/devanagari/devanagari_PP-OCRv4_rec_infer', rec_image_inverse=True, rec_image_shape='3, 48, 320', rec_batch_num=6, max_text_length=25, rec_char_dict_path='/home/amrit/milan/Project/venv/lib/python3.10/site-packages/paddleocr/ppocr/utils/dict/devanagari_dict.txt', use_space_char=True, vis_font_path='./doc/fonts/simfang.ttf', drop_score=0.5, e2e_algorithm='PGNet', e2e_model_dir=None, e2e_limit_side_len=768, e2e_limit_type='max', e2e_pgnet_score_thresh=0.5, e2e_char_dict_path='./ppocr/utils/ic15_dict.txt', e2e_pgnet_valid_set='totaltext', e2e_pgnet_mode='fast', use_angle_cls=False, cls_model_dir='/home/amrit/.paddleocr/whl/cls/ch_ppocr_mobile_v2.0_cls_infer', cls_image_shape='3, 48, 192', label_list=['0', '180'], cls_batch_num=6, cls_thresh=0.9, enable_mkldnn=False, cpu_threads=10, use_pdserving=False, warmup=False, sr_model_dir=None, sr_image_shape='3, 32, 128', sr_batch_num=1, draw_img_save_dir='./inference_results', save_crop_res=False, crop_res_save_dir='./output', use_mp=False, total_process_num=1, process_id=0, benchmark=False, save_log_path='./log_output/', show_log=True, use_onnx=False, return_word_box=False, output='./output', table_max_len=488, table_algorithm='TableAttn', table_model_dir=None, merge_no_span_structure=True, table_char_dict_path=None, layout_model_dir=None, layout_dict_path=None, layout_score_threshold=0.5, layout_nms_threshold=0.5, kie_algorithm='LayoutXLM', ser_model_dir=None, re_model_dir=None, use_visual_backbone=True, ser_dict_path='../train_data/XFUND/class_list_xfun.txt', ocr_order_method=None, mode='structure', image_orientation=False, layout=True, table=True, ocr=True, recovery=False, use_pdf2docx_api=False, invert=False, binarize=False, alphacolor=(255, 255, 255), lang='hi', det=True, rec=True, type='ocr', savefile=False, ocr_version='PP-OCRv4', structure_version='PP-StructureV2')\n",
      "[2024/09/07 14:04:47] ppocr WARNING: Since the angle classifier is not initialized, it will not be used during the forward process\n",
      "[2024/09/07 14:04:47] ppocr DEBUG: dt_boxes num : 28, elapsed : 0.11447405815124512\n",
      "[2024/09/07 14:04:48] ppocr DEBUG: rec_res num  : 28, elapsed : 0.6685934066772461\n"
     ]
    }
   ],
   "source": [
    "ocr = PaddleOCR(lang='hi')\n",
    "image_path = 'ext_im.jpg'\n",
    "image_cv = cv2.imread(image_path)\n",
    "image_height = image_cv.shape[0]\n",
    "image_width = image_cv.shape[1]\n",
    "output = ocr.ocr(image_path)[0]\n"
   ]
  },
  {
   "cell_type": "code",
   "execution_count": 44,
   "metadata": {
    "colab": {
     "base_uri": "https://localhost:8080/"
    },
    "id": "VBIDZA0XLDeA",
    "outputId": "b86018c1-5b24-4897-9174-a34299909bf7"
   },
   "outputs": [
    {
     "name": "stdout",
     "output_type": "stream",
     "text": [
      "[[[[536.0, 11.0], [611.0, 11.0], [611.0, 44.0], [536.0, 44.0]], ('घरको', 0.997969388961792)], [[[620.0, 11.0], [705.0, 11.0], [705.0, 44.0], [620.0, 44.0]], ('िकिसम', 0.9267207384109497)], [[[92.0, 35.0], [135.0, 35.0], [135.0, 70.0], [92.0, 70.0]], ('सन', 0.6993892788887024)], [[[1095.0, 39.0], [1197.0, 48.0], [1194.0, 87.0], [1092.0, 79.0]], ('कैिफयत', 0.9930494427680969)], [[[309.0, 70.0], [338.0, 70.0], [338.0, 106.0], [309.0, 106.0]], ('A', 0.9994242191314697)], [[[508.0, 73.0], [534.0, 73.0], [534.0, 109.0], [508.0, 109.0]], ('८', 0.9495581984519958)], [[[708.0, 75.0], [737.0, 75.0], [737.0, 109.0], [708.0, 109.0]], ('८', 0.8140665292739868)], [[[98.0, 151.0], [126.0, 151.0], [126.0, 186.0], [98.0, 186.0]], ('क', 0.9863112568855286)], [[[294.0, 151.0], [339.0, 151.0], [339.0, 193.0], [294.0, 193.0]], ('२६', 0.7673514485359192)], [[[492.0, 156.0], [534.0, 156.0], [534.0, 193.0], [492.0, 193.0]], ('९९', 0.7286728620529175)], [[[692.0, 159.0], [738.0, 159.0], [738.0, 193.0], [692.0, 193.0]], ('१६', 0.5572322607040405)], [[[900.0, 162.0], [942.0, 162.0], [942.0, 197.0], [900.0, 197.0]], ('१९', 0.5071220397949219)], [[[99.0, 249.0], [123.0, 249.0], [123.0, 277.0], [99.0, 277.0]], ('ख', 0.893487274646759)], [[[277.0, 250.0], [353.0, 250.0], [353.0, 284.0], [277.0, 284.0]], ('(', 0.5826435089111328)], [[[100.0, 345.0], [123.0, 349.0], [118.0, 375.0], [96.0, 370.0]], ('गा', 0.6136160492897034)], [[[489.0, 347.0], [535.0, 347.0], [535.0, 381.0], [489.0, 381.0]], ('९४', 0.6123238205909729)], [[[101.0, 444.0], [119.0, 444.0], [119.0, 467.0], [101.0, 467.0]], ('घ', 0.5281423926353455)], [[[489.0, 444.0], [532.0, 444.0], [532.0, 478.0], [489.0, 478.0]], ('A?', 0.5272064805030823)], [[[895.0, 448.0], [942.0, 448.0], [942.0, 482.0], [895.0, 482.0]], ('९०', 0.7166285514831543)]]\n"
     ]
    }
   ],
   "source": [
    "print(output)"
   ]
  },
  {
   "cell_type": "code",
   "execution_count": 45,
   "metadata": {
    "id": "nNMBAQ78LDgG"
   },
   "outputs": [],
   "source": [
    "boxes = [line[0] for line in output]\n",
    "texts = [line[1][0] for line in output]\n",
    "probabilities = [line[1][1] for line in output]"
   ]
  },
  {
   "cell_type": "code",
   "execution_count": 46,
   "metadata": {
    "id": "uukcg4SWV_dg"
   },
   "outputs": [],
   "source": [
    "image_boxes = image_cv.copy()\n"
   ]
  },
  {
   "cell_type": "code",
   "execution_count": 47,
   "metadata": {
    "id": "l_HzbiA7V_fw"
   },
   "outputs": [],
   "source": [
    "for box,text in zip(boxes,texts):\n",
    "  cv2.rectangle(image_boxes, (int(box[0][0]),int(box[0][1])), (int(box[2][0]),int(box[2][1])),(0,0,255),1)\n",
    "  cv2.putText(image_boxes, text,(int(box[0][0]),int(box[0][1])),cv2.FONT_HERSHEY_SIMPLEX,1,(222,0,0),1)"
   ]
  },
  {
   "cell_type": "code",
   "execution_count": 48,
   "metadata": {
    "colab": {
     "base_uri": "https://localhost:8080/"
    },
    "id": "PfUG9mcgV_iJ",
    "outputId": "b97aaa44-61b9-4a62-dd01-c8c26b66e9c7"
   },
   "outputs": [
    {
     "data": {
      "text/plain": [
       "True"
      ]
     },
     "execution_count": 48,
     "metadata": {},
     "output_type": "execute_result"
    }
   ],
   "source": [
    "cv2.imwrite('detections.jpg', image_boxes)"
   ]
  },
  {
   "cell_type": "markdown",
   "metadata": {
    "id": "kYWt0lzDHZNp"
   },
   "source": [
    "# Reconstruction"
   ]
  },
  {
   "cell_type": "markdown",
   "metadata": {
    "id": "ruzifYJz4H6y"
   },
   "source": [
    "## Get Horizontal and Vertical Lines"
   ]
  },
  {
   "cell_type": "code",
   "execution_count": 49,
   "metadata": {
    "id": "YLIoKedcqby_"
   },
   "outputs": [],
   "source": [
    "im = image_cv.copy()\n",
    "\n",
    "\n"
   ]
  },
  {
   "cell_type": "code",
   "execution_count": 50,
   "metadata": {
    "id": "GwcAAe-wccnF"
   },
   "outputs": [],
   "source": [
    "horiz_boxes = []\n",
    "vert_boxes = []\n",
    "\n",
    "for box in boxes:\n",
    "  x_h, x_v = 0,int(box[0][0])\n",
    "  y_h, y_v = int(box[0][1]),0\n",
    "  width_h,width_v = image_width, int(box[2][0]-box[0][0])\n",
    "  height_h,height_v = int(box[2][1]-box[0][1]),image_height\n",
    "\n",
    "  horiz_boxes.append([x_h,y_h,x_h+width_h,y_h+height_h])\n",
    "  vert_boxes.append([x_v,y_v,x_v+width_v,y_v+height_v])\n",
    "\n",
    "  cv2.rectangle(im,(x_h,y_h), (x_h+width_h,y_h+height_h),(0,0,255),1)\n",
    "  cv2.rectangle(im,(x_v,y_v), (x_v+width_v,y_v+height_v),(0,255,0),1)\n"
   ]
  },
  {
   "cell_type": "code",
   "execution_count": 51,
   "metadata": {
    "colab": {
     "base_uri": "https://localhost:8080/"
    },
    "id": "7UxFGhMkccph",
    "outputId": "344b62aa-8bbf-46e0-ccea-bd1c5eb60e3a"
   },
   "outputs": [
    {
     "data": {
      "text/plain": [
       "True"
      ]
     },
     "execution_count": 51,
     "metadata": {},
     "output_type": "execute_result"
    }
   ],
   "source": [
    "cv2.imwrite('horiz_vert.jpg',im)"
   ]
  },
  {
   "cell_type": "markdown",
   "metadata": {
    "id": "ekVFvJrM4ROL"
   },
   "source": [
    "## Non-Max Suppression"
   ]
  },
  {
   "cell_type": "code",
   "execution_count": 52,
   "metadata": {
    "id": "4LVSSB2fcoe7"
   },
   "outputs": [
    {
     "name": "stderr",
     "output_type": "stream",
     "text": [
      "WARNING: All log messages before absl::InitializeLog() is called are written to STDERR\n",
      "I0000 00:00:1725697188.845040  228761 cuda_executor.cc:1015] successful NUMA node read from SysFS had negative value (-1), but there must be at least one NUMA node, so returning NUMA node zero. See more at https://github.com/torvalds/linux/blob/v6.0/Documentation/ABI/testing/sysfs-bus-pci#L344-L355\n",
      "2024-09-07 14:04:48.866657: W tensorflow/core/common_runtime/gpu/gpu_device.cc:2343] Cannot dlopen some GPU libraries. Please make sure the missing libraries mentioned above are installed properly if you would like to use GPU. Follow the guide at https://www.tensorflow.org/install/gpu for how to download and setup the required libraries for your platform.\n",
      "Skipping registering GPU devices...\n"
     ]
    }
   ],
   "source": [
    "horiz_out = tf.image.non_max_suppression(\n",
    "    horiz_boxes,\n",
    "    probabilities,\n",
    "    max_output_size = 1000,\n",
    "    iou_threshold=0.1,\n",
    "    score_threshold=float('-inf'),\n",
    "    name=None\n",
    ")"
   ]
  },
  {
   "cell_type": "code",
   "execution_count": 53,
   "metadata": {
    "colab": {
     "base_uri": "https://localhost:8080/"
    },
    "id": "pOboYpGnccr2",
    "outputId": "02933914-32bb-4b3d-88bb-72745b6dda8b"
   },
   "outputs": [
    {
     "name": "stdout",
     "output_type": "stream",
     "text": [
      "[ 0  4  7 12 14 18]\n"
     ]
    }
   ],
   "source": [
    "horiz_lines = np.sort(np.array(horiz_out))\n",
    "print(horiz_lines)\n"
   ]
  },
  {
   "cell_type": "code",
   "execution_count": 54,
   "metadata": {
    "id": "pfxHrn3iccyK"
   },
   "outputs": [],
   "source": [
    "im_nms = image_cv.copy()"
   ]
  },
  {
   "cell_type": "code",
   "execution_count": 55,
   "metadata": {
    "id": "68PCHfmZcc0L"
   },
   "outputs": [],
   "source": [
    "for val in horiz_lines:\n",
    "  cv2.rectangle(im_nms, (int(horiz_boxes[val][0]),int(horiz_boxes[val][1])), (int(horiz_boxes[val][2]),int(horiz_boxes[val][3])),(0,0,255),1)\n"
   ]
  },
  {
   "cell_type": "code",
   "execution_count": 56,
   "metadata": {
    "colab": {
     "base_uri": "https://localhost:8080/"
    },
    "id": "Z8r9qpiAcc2X",
    "outputId": "9510d3cf-3870-4c77-b9ff-dd903f9a7902"
   },
   "outputs": [
    {
     "data": {
      "text/plain": [
       "True"
      ]
     },
     "execution_count": 56,
     "metadata": {},
     "output_type": "execute_result"
    }
   ],
   "source": [
    "cv2.imwrite('im_nms.jpg',im_nms)"
   ]
  },
  {
   "cell_type": "code",
   "execution_count": 57,
   "metadata": {
    "id": "mKgPuh7rcc4s"
   },
   "outputs": [],
   "source": [
    "vert_out = tf.image.non_max_suppression(\n",
    "    vert_boxes,\n",
    "    probabilities,\n",
    "    max_output_size = 1000,\n",
    "    iou_threshold=0.1,\n",
    "    score_threshold=float('-inf'),\n",
    "    name=None\n",
    ")\n"
   ]
  },
  {
   "cell_type": "code",
   "execution_count": 58,
   "metadata": {
    "colab": {
     "base_uri": "https://localhost:8080/"
    },
    "id": "GBpKsImVcc6p",
    "outputId": "f7bfbf04-9318-4230-f9df-98101fc7cadd"
   },
   "outputs": [
    {
     "name": "stdout",
     "output_type": "stream",
     "text": [
      "tf.Tensor([ 4  0  3  7  5  1  6 18], shape=(8,), dtype=int32)\n"
     ]
    }
   ],
   "source": [
    "print(vert_out)"
   ]
  },
  {
   "cell_type": "code",
   "execution_count": 59,
   "metadata": {
    "colab": {
     "base_uri": "https://localhost:8080/"
    },
    "id": "K0lBh-yz5YLp",
    "outputId": "31a4ea8a-27ce-4b53-9bdb-9857c65ebdaa"
   },
   "outputs": [
    {
     "name": "stdout",
     "output_type": "stream",
     "text": [
      "[ 0  1  3  4  5  6  7 18]\n"
     ]
    }
   ],
   "source": [
    "vert_lines = np.sort(np.array(vert_out))\n",
    "print(vert_lines)"
   ]
  },
  {
   "cell_type": "code",
   "execution_count": 60,
   "metadata": {
    "id": "WqsLm0L_cc84"
   },
   "outputs": [],
   "source": [
    "for val in vert_lines:\n",
    "  cv2.rectangle(im_nms, (int(vert_boxes[val][0]),int(vert_boxes[val][1])), (int(vert_boxes[val][2]),int(vert_boxes[val][3])),(255,0,0),1)\n"
   ]
  },
  {
   "cell_type": "code",
   "execution_count": 61,
   "metadata": {
    "colab": {
     "base_uri": "https://localhost:8080/"
    },
    "id": "xZOEa7lpcdGM",
    "outputId": "a92cbce5-7529-4b3b-f4b5-2c016904ab21"
   },
   "outputs": [
    {
     "data": {
      "text/plain": [
       "True"
      ]
     },
     "execution_count": 61,
     "metadata": {},
     "output_type": "execute_result"
    }
   ],
   "source": [
    "cv2.imwrite('im_nms.jpg',im_nms)"
   ]
  },
  {
   "cell_type": "markdown",
   "metadata": {
    "id": "116eBUrO93-i"
   },
   "source": [
    "## Convert to CSV"
   ]
  },
  {
   "cell_type": "code",
   "execution_count": 62,
   "metadata": {
    "colab": {
     "base_uri": "https://localhost:8080/"
    },
    "id": "HRQzwVUTcdIq",
    "outputId": "93b6914b-c713-48e0-ecaf-87a764a48d13"
   },
   "outputs": [
    {
     "name": "stdout",
     "output_type": "stream",
     "text": [
      "(6, 8)\n",
      "[['', '', '', '', '', '', '', ''], ['', '', '', '', '', '', '', ''], ['', '', '', '', '', '', '', ''], ['', '', '', '', '', '', '', ''], ['', '', '', '', '', '', '', ''], ['', '', '', '', '', '', '', '']]\n"
     ]
    }
   ],
   "source": [
    "\n",
    "\n",
    "out_array = [[\"\" for i in range(len(vert_lines))] for j in range(len(horiz_lines))]\n",
    "print(np.array(out_array).shape)\n",
    "print(out_array)"
   ]
  },
  {
   "cell_type": "code",
   "execution_count": 63,
   "metadata": {
    "colab": {
     "base_uri": "https://localhost:8080/"
    },
    "id": "sSrupaRZIAk_",
    "outputId": "61055c32-2de2-4a31-c36f-e3857a6cc939"
   },
   "outputs": [
    {
     "name": "stdout",
     "output_type": "stream",
     "text": [
      "[536, 0, 611, 517]\n",
      "[620, 0, 705, 517]\n",
      "[1095, 0, 1194, 517]\n",
      "[309, 0, 338, 517]\n",
      "[508, 0, 534, 517]\n",
      "[708, 0, 737, 517]\n",
      "[98, 0, 126, 517]\n",
      "[895, 0, 942, 517]\n"
     ]
    }
   ],
   "source": [
    "\n",
    "unordered_boxes = []\n",
    "\n",
    "for i in vert_lines:\n",
    "  print(vert_boxes[i])\n",
    "  unordered_boxes.append(vert_boxes[i][0])"
   ]
  },
  {
   "cell_type": "code",
   "execution_count": 64,
   "metadata": {
    "colab": {
     "base_uri": "https://localhost:8080/"
    },
    "id": "lRMlVNh_HuJV",
    "outputId": "de3751a5-525d-4659-acbc-00d61fcbeba1"
   },
   "outputs": [
    {
     "name": "stdout",
     "output_type": "stream",
     "text": [
      "[6 3 4 0 1 5 7 2]\n"
     ]
    }
   ],
   "source": [
    "ordered_boxes = np.argsort(unordered_boxes)\n",
    "print(ordered_boxes)"
   ]
  },
  {
   "cell_type": "code",
   "execution_count": 65,
   "metadata": {
    "id": "AHHaxKUuC6jQ"
   },
   "outputs": [],
   "source": [
    "def intersection(box_1, box_2):\n",
    "  return [box_2[0], box_1[1],box_2[2], box_1[3]]"
   ]
  },
  {
   "cell_type": "code",
   "execution_count": 66,
   "metadata": {
    "id": "fDVb0DkxJSIf"
   },
   "outputs": [],
   "source": [
    "def iou(box_1, box_2):\n",
    "\n",
    "  x_1 = max(box_1[0], box_2[0])\n",
    "  y_1 = max(box_1[1], box_2[1])\n",
    "  x_2 = min(box_1[2], box_2[2])\n",
    "  y_2 = min(box_1[3], box_2[3])\n",
    "\n",
    "  inter = abs(max((x_2 - x_1, 0)) * max((y_2 - y_1), 0))\n",
    "  if inter == 0:\n",
    "      return 0\n",
    "\n",
    "  box_1_area = abs((box_1[2] - box_1[0]) * (box_1[3] - box_1[1]))\n",
    "  box_2_area = abs((box_2[2] - box_2[0]) * (box_2[3] - box_2[1]))\n",
    "\n",
    "  return inter / float(box_1_area + box_2_area - inter)"
   ]
  },
  {
   "cell_type": "code",
   "execution_count": 67,
   "metadata": {
    "id": "LWGhCwg6BIoL"
   },
   "outputs": [],
   "source": [
    "for i in range(len(horiz_lines)):\n",
    "  for j in range(len(vert_lines)):\n",
    "    resultant = intersection(horiz_boxes[horiz_lines[i]], vert_boxes[vert_lines[ordered_boxes[j]]] )\n",
    "\n",
    "    for b in range(len(boxes)):\n",
    "      the_box = [boxes[b][0][0],boxes[b][0][1],boxes[b][2][0],boxes[b][2][1]]\n",
    "      if(iou(resultant,the_box)>0.1):\n",
    "        out_array[i][j] = texts[b]"
   ]
  },
  {
   "cell_type": "code",
   "execution_count": 68,
   "metadata": {
    "id": "c4tEY9LGNIM9"
   },
   "outputs": [],
   "source": [
    "out_array=np.array(out_array)"
   ]
  },
  {
   "cell_type": "code",
   "execution_count": 69,
   "metadata": {
    "colab": {
     "base_uri": "https://localhost:8080/"
    },
    "id": "_ekto4-Ymxv2",
    "outputId": "f7a8e379-2879-4ed0-e8c0-4e127aacc50a"
   },
   "outputs": [
    {
     "data": {
      "text/plain": [
       "array([['सन', '', '', 'घरको', 'िकिसम', '', '', ''],\n",
       "       ['', 'A', '८', '', '', '८', '', 'कैिफयत'],\n",
       "       ['क', '२६', '९९', '', '', '१६', '१९', ''],\n",
       "       ['ख', '(', '', '', '', '', '', ''],\n",
       "       ['गा', '', '९४', '', '', '', '', ''],\n",
       "       ['घ', '', 'A?', '', '', '', '९०', '']], dtype='<U6')"
      ]
     },
     "execution_count": 69,
     "metadata": {},
     "output_type": "execute_result"
    }
   ],
   "source": [
    "out_array"
   ]
  },
  {
   "cell_type": "code",
   "execution_count": 70,
   "metadata": {
    "id": "D8UdX80wBI9V"
   },
   "outputs": [],
   "source": [
    "pd.DataFrame(out_array).to_csv('sample.csv')"
   ]
  },
  {
   "cell_type": "markdown",
   "metadata": {
    "id": "E693Ela3qhLx"
   },
   "source": [
    "## Merging Cells"
   ]
  },
  {
   "cell_type": "code",
   "execution_count": 71,
   "metadata": {
    "colab": {
     "base_uri": "https://localhost:8080/"
    },
    "id": "XNcX7fEWPDfw",
    "outputId": "06cb1313-e8b8-4252-d305-f03fc03d14ed"
   },
   "outputs": [
    {
     "name": "stdout",
     "output_type": "stream",
     "text": [
      "['', '', '', '', '', '', '', '']\n"
     ]
    }
   ],
   "source": [
    "current_bank=['']*len(out_array[0,:])\n",
    "print(current_bank)"
   ]
  },
  {
   "cell_type": "code",
   "execution_count": 72,
   "metadata": {
    "id": "TTF5ojcCQJKR"
   },
   "outputs": [],
   "source": [
    "def empty(arr):\n",
    "  for i in arr:\n",
    "    if i=='':\n",
    "      return True\n",
    "  return False"
   ]
  },
  {
   "cell_type": "code",
   "execution_count": 73,
   "metadata": {
    "id": "3w1amnEXSVSB"
   },
   "outputs": [],
   "source": [
    "cleaned_array=[]"
   ]
  },
  {
   "cell_type": "code",
   "execution_count": 74,
   "metadata": {
    "colab": {
     "base_uri": "https://localhost:8080/"
    },
    "id": "W_q9e2EkPepQ",
    "outputId": "fba25f38-1e56-45c3-88fe-2211d38d4dca"
   },
   "outputs": [
    {
     "name": "stdout",
     "output_type": "stream",
     "text": [
      "--> [' सन', ' ', ' ', ' घरको', ' िकिसम', ' ', ' ', ' ']\n",
      "--> [' सन ', '  A', '  ८', ' घरको ', ' िकिसम ', '  ८', '  ', '  कैिफयत']\n",
      "--> [' सन  क', '  A २६', '  ८ ९९', ' घरको  ', ' िकिसम  ', '  ८ १६', '   १९', '  कैिफयत ']\n",
      "--> [' सन  क ख', '  A २६ (', '  ८ ९९ ', ' घरको   ', ' िकिसम   ', '  ८ १६ ', '   १९ ', '  कैिफयत  ']\n",
      "--> [' सन  क ख गा', '  A २६ ( ', '  ८ ९९  ९४', ' घरको    ', ' िकिसम    ', '  ८ १६  ', '   १९  ', '  कैिफयत   ']\n",
      "--> [' सन  क ख गा घ', '  A २६ (  ', '  ८ ९९  ९४ A?', ' घरको     ', ' िकिसम     ', '  ८ १६   ', '   १९   ९०', '  कैिफयत    ']\n",
      "[]\n"
     ]
    }
   ],
   "source": [
    "for i in range(len(out_array)):\n",
    "  if not empty(out_array[i]):\n",
    "    current_bank=[out_array[i][j] for j in range(len(out_array[i]))]\n",
    "    cleaned_array.append(current_bank)\n",
    "    not_empty=True\n",
    "  else:\n",
    "    for j in range(len(out_array[i])):\n",
    "      current_bank[j]+=' '+out_array[i][j]\n",
    "    print('-->',current_bank)\n",
    "cleaned_array=np.array(cleaned_array)\n",
    "print(cleaned_array)"
   ]
  },
  {
   "cell_type": "code",
   "execution_count": 75,
   "metadata": {
    "id": "RZltyMmD_E68"
   },
   "outputs": [],
   "source": [
    "pd.DataFrame(cleaned_array).to_csv('cleaned.csv')"
   ]
  }
 ],
 "metadata": {
  "accelerator": "GPU",
  "colab": {
   "collapsed_sections": [
    "E693Ela3qhLx",
    "SqFdbM634H5w",
    "FIzj02CHqce7"
   ],
   "provenance": []
  },
  "kernelspec": {
   "display_name": "Python 3 (ipykernel)",
   "language": "python",
   "name": "python3"
  },
  "language_info": {
   "codemirror_mode": {
    "name": "ipython",
    "version": 3
   },
   "file_extension": ".py",
   "mimetype": "text/x-python",
   "name": "python",
   "nbconvert_exporter": "python",
   "pygments_lexer": "ipython3",
   "version": "3.10.12"
  }
 },
 "nbformat": 4,
 "nbformat_minor": 4
}
